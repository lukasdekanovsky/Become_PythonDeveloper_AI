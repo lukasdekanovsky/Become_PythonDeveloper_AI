{
  "nbformat": 4,
  "nbformat_minor": 0,
  "metadata": {
    "colab": {
      "provenance": [],
      "authorship_tag": "ABX9TyP4CMheCFVtF0Kd32CIQ20M",
      "include_colab_link": true
    },
    "kernelspec": {
      "name": "python3",
      "display_name": "Python 3"
    },
    "language_info": {
      "name": "python"
    }
  },
  "cells": [
    {
      "cell_type": "markdown",
      "metadata": {
        "id": "view-in-github",
        "colab_type": "text"
      },
      "source": [
        "<a href=\"https://colab.research.google.com/github/lukasdekanovsky/Become_PythonDeveloper_AI/blob/main/X_STROJOV%C3%89_U%C4%8CEN%C3%8D_(CL)_Bin%C3%A1rn%C3%AD_klasifikace.ipynb\" target=\"_parent\"><img src=\"https://colab.research.google.com/assets/colab-badge.svg\" alt=\"Open In Colab\"/></a>"
      ]
    },
    {
      "cell_type": "markdown",
      "source": [
        "# **Konvoluční neuronová síť** - binární klasifikace"
      ],
      "metadata": {
        "id": "gqTGm5Wtv9Qu"
      }
    },
    {
      "cell_type": "markdown",
      "source": [
        "Pracujeme s IMDS datovou množinou obsahující 50 000 vysoce polarizovaných recenzí na pozitivní a negativní"
      ],
      "metadata": {
        "id": "AtaPtvCcwE9i"
      }
    },
    {
      "cell_type": "markdown",
      "source": [
        "Datová množina IMDS je balená s framworkem KERAS\n",
        "* Sekvence slov byly předběžně zpracovány do posloupnosti čísel, kde každé číslo znamená slovo ve slovníku"
      ],
      "metadata": {
        "id": "McNptqUnwWVA"
      }
    },
    {
      "cell_type": "markdown",
      "source": [
        "# **Načtení datové množiny**\n",
        "* **from Keras.datasets import imbd**\n",
        "* **train_data, train_labels),(test_data, test_labels) = imbd.load_data(num_words=10000)**"
      ],
      "metadata": {
        "id": "PhztheNmwsQq"
      }
    },
    {
      "cell_type": "markdown",
      "source": [
        "* argumen num_words znamená, že ve trénovacích datech budeme mít pouze 10 000 nejčasteji se vyskytujících slov\n",
        "* řídce vyskytující se slova budou vyřazena"
      ],
      "metadata": {
        "id": "59A1GpeTxRdK"
      }
    },
    {
      "cell_type": "code",
      "source": [
        "import tensorflow as tf"
      ],
      "metadata": {
        "id": "SXA5YAvFzE_Z"
      },
      "execution_count": null,
      "outputs": []
    },
    {
      "cell_type": "code",
      "execution_count": null,
      "metadata": {
        "colab": {
          "base_uri": "https://localhost:8080/"
        },
        "id": "KxwFecgAvzOr",
        "outputId": "0c82a91c-2694-47e1-f46c-7049e29c65b1"
      },
      "outputs": [
        {
          "output_type": "stream",
          "name": "stdout",
          "text": [
            "Downloading data from https://storage.googleapis.com/tensorflow/tf-keras-datasets/imdb.npz\n",
            "17464789/17464789 [==============================] - 0s 0us/step\n"
          ]
        }
      ],
      "source": [
        "(train_data, train_labels), (test_data, test_labels) = tf.keras.datasets.imdb.load_data(num_words=10000)"
      ]
    },
    {
      "cell_type": "markdown",
      "source": [
        "# **Prohlédnutí dat**"
      ],
      "metadata": {
        "id": "pYoBvOBhzpLv"
      }
    },
    {
      "cell_type": "code",
      "source": [
        "train_data[0] #seznam indexů 0-9999"
      ],
      "metadata": {
        "id": "u4IhDWd8zfOp"
      },
      "execution_count": null,
      "outputs": []
    },
    {
      "cell_type": "code",
      "source": [
        "train_labels[0] #získáváme 1 nebo 0 - binární pozitivní nebo negativní"
      ],
      "metadata": {
        "id": "5oXnEEf-zz8E"
      },
      "execution_count": null,
      "outputs": []
    },
    {
      "cell_type": "code",
      "source": [
        "max([max(sequence) for sequence in train_data]) #9999 = maximální index"
      ],
      "metadata": {
        "id": "n_OyXFCv4OCR"
      },
      "execution_count": null,
      "outputs": []
    },
    {
      "cell_type": "markdown",
      "source": [
        "# **Zpětné dekódování indexu na anglická slova**"
      ],
      "metadata": {
        "id": "ssQeXeEa4z4L"
      }
    },
    {
      "cell_type": "code",
      "source": [
        "from keras.datasets import imdb"
      ],
      "metadata": {
        "id": "UpdwcImC5V-B"
      },
      "execution_count": null,
      "outputs": []
    },
    {
      "cell_type": "markdown",
      "source": [
        "* funkce **.get_word_index()** aplikovaná na imdb dataset vrátí slovník anglických slov s přislušným indexem"
      ],
      "metadata": {
        "id": "o6DutctW5jqR"
      }
    },
    {
      "cell_type": "code",
      "source": [
        "slovnik = imdb.get_word_index()\n",
        "                                    # print(slovnik)\n",
        "                                    #      {'fawn': 34701,\n",
        "                                    #      'tsukino': 52006,\n",
        "                                    #      'nunnery': 52007,\n",
        "                                    #      'sonja': 16816,\n",
        "                                    #      'vani': 63951,...... atd}\n",
        "reverzni_slovnik = dict([(value, key) for (key,value) in slovnik.items()])\n",
        "                                    # print(reverzni_slovnik)  {34701: 'fawn', 52006: 'tsukino', 52007: 'nunnery', 16816: ......\n",
        "dekodovani_review = \" \".join([reverzni_slovnik.get(i-3,\"?\") for i in train_data[0]])\n",
        "dekodovani_review\n",
        "                                    # ? this film was just brilliant casting location scenery story direction everyone's really suited the part they played and you could just imagine being there robert ? is an amazing actor and now the same being director ? father came from the same scottish island as myself so i loved the fact there was a real connection with this film the witty remarks throughout the film were great it was just brilliant so much that i bought the film as soon as it was released for ? and would recommend it to everyone to watch and the fly fishing was amazing really cried at the end it was so sad and you know what they say if you cry at a film it must have been good and this definitely was also ? to the two little boy's that played the ? of norman and paul they were just brilliant children are often left out of the ? list i think because the stars that play them all grown up are such a big profile for the whole film but these children are amazing and should be praised for what they have done don't you think the whole story was so lovely because it was true and was someone's life after all that was shared with us all"
      ],
      "metadata": {
        "id": "DigJCIlZ46Xw"
      },
      "execution_count": null,
      "outputs": []
    },
    {
      "cell_type": "markdown",
      "source": [
        "# **Příprava dat**"
      ],
      "metadata": {
        "id": "W_WgY2l09rOo"
      }
    },
    {
      "cell_type": "markdown",
      "source": [
        "Do neuronové sítě nemůžeme posílat seznamy celých čísel, musíme změnit seznamy na tenzory\n",
        "* 1) Uložit naše seznamy tak aby měly všechny stejnou délku a změnit je na celočíselny tenzor pomocí tvaru (samples, word_indices) a poté použijeme jako prvni vrstvu v síti, první vrstva **Embedding**\n",
        "* 2) Zakodujeme seznamy tak, že se změní na vektory nul a jedniček --> [3,5] věta by se přeložila do 10 000 rozměrného vektoru který by obsahoval nuly s vyjimkou indexu na 3 a 5, poté můžeme použít jako prvni vrstvu **Dense**"
      ],
      "metadata": {
        "id": "QdPg_FtYFxNM"
      }
    },
    {
      "cell_type": "markdown",
      "source": [
        "**2) Postup převedení celočíselné posloupnosti do binární matice**"
      ],
      "metadata": {
        "id": "BAYSvNDdGqb7"
      }
    },
    {
      "cell_type": "code",
      "source": [
        "import numpy as np"
      ],
      "metadata": {
        "id": "axtbd0HE9tm_"
      },
      "execution_count": null,
      "outputs": []
    },
    {
      "cell_type": "code",
      "source": [
        "def vektorizace_sekvence(sekvence, dimensions=10000):\n",
        "  vysledek = np.zeros((len(sekvence), dimensions)) #vytvoří se vynulovaná matice dimenze 10 000\n",
        "  for i, sekvence in enumerate(sekvence):\n",
        "    vysledek[i, sekvence] = 1.                     #Nastaví zadaný index vektoru vysledek[i] na 1\n",
        "  return vysledek"
      ],
      "metadata": {
        "id": "yAZyU2leG5LJ"
      },
      "execution_count": null,
      "outputs": []
    },
    {
      "cell_type": "code",
      "source": [
        "x_train = vektorizace_sekvence(train_data)\n",
        "x_test = vektorizace_sekvence(test_data)"
      ],
      "metadata": {
        "id": "nU0yVlgzJmby"
      },
      "execution_count": null,
      "outputs": []
    },
    {
      "cell_type": "markdown",
      "source": [
        "Vektorizujeme rovněž označení tříd"
      ],
      "metadata": {
        "id": "QFQaPNyFKHLS"
      }
    },
    {
      "cell_type": "code",
      "source": [
        "y_train = np.asarray(train_labels).astype(\"float32\")\n",
        "y_test = np.asarray(test_labels).astype(\"float32\")"
      ],
      "metadata": {
        "id": "I7OyFLl5KKFs"
      },
      "execution_count": null,
      "outputs": []
    },
    {
      "cell_type": "markdown",
      "source": [
        "Zobrazme si příklad vstupních dat zprocesovaných pro neuronovou síť"
      ],
      "metadata": {
        "id": "vCtUWVa0K7pq"
      }
    },
    {
      "cell_type": "code",
      "source": [
        "print(x_train)\n",
        "print(y_train)"
      ],
      "metadata": {
        "colab": {
          "base_uri": "https://localhost:8080/"
        },
        "id": "f886mi0DLBxx",
        "outputId": "df456eef-5bd0-4eb4-d119-08fda7021ae1"
      },
      "execution_count": null,
      "outputs": [
        {
          "output_type": "stream",
          "name": "stdout",
          "text": [
            "[[0. 1. 1. ... 0. 0. 0.]\n",
            " [0. 1. 1. ... 0. 0. 0.]\n",
            " [0. 1. 1. ... 0. 0. 0.]\n",
            " ...\n",
            " [0. 1. 1. ... 0. 0. 0.]\n",
            " [0. 1. 1. ... 0. 0. 0.]\n",
            " [0. 1. 1. ... 0. 0. 0.]]\n",
            "[1. 0. 0. ... 0. 1. 0.]\n"
          ]
        }
      ]
    },
    {
      "cell_type": "markdown",
      "source": [
        "# **Tvorba sítě, modelu a trénink**"
      ],
      "metadata": {
        "id": "o3OP6RwuKZcq"
      }
    },
    {
      "cell_type": "markdown",
      "source": [
        "Vstupními daty jsou vektory a označení tříd jsou skaláry"
      ],
      "metadata": {
        "id": "raXkskjoLSqc"
      }
    },
    {
      "cell_type": "markdown",
      "source": [
        "Zadefinujeme si model:"
      ],
      "metadata": {
        "id": "vbmvZ2E9MLmi"
      }
    },
    {
      "cell_type": "code",
      "source": [
        "model = tf.keras.models.Sequential()\n",
        "model.add(tf.keras.layers.Dense(16, activation=\"relu\", input_shape=(10000,)))\n",
        "model.add(tf.keras.layers.Dense(16, activation=\"relu\"))\n",
        "model.add(tf.keras.layers.Dense(1, activation=\"sigmoid\"))\n"
      ],
      "metadata": {
        "id": "8M-YD9Q9KPzK"
      },
      "execution_count": null,
      "outputs": []
    },
    {
      "cell_type": "markdown",
      "source": [
        "Kompilace modelu"
      ],
      "metadata": {
        "id": "XoDa3r49N9OV"
      }
    },
    {
      "cell_type": "code",
      "source": [
        "model.compile(optimizer=\"rmsprop\",\n",
        "              loss=\"binary_crossentropy\",\n",
        "              metrics=[\"accuracy\"])\n"
      ],
      "metadata": {
        "id": "e3io5EIDNy-h"
      },
      "execution_count": null,
      "outputs": []
    },
    {
      "cell_type": "markdown",
      "source": [
        "Aby bylo možné během trénování sledovat správnost modelu na datech, která předtím nebyla viděna, vytvoříme validační množinu oddělením prvních 10 000 příkladů z původních trénovacích dat"
      ],
      "metadata": {
        "id": "BJ-GUqGgOlI2"
      }
    },
    {
      "cell_type": "code",
      "source": [
        "x_val = x_train[:10000]                    # x = recenze y = 0/1 pozitivní negativní\n",
        "partial_x_train = x_train[10000:]\n",
        "\n",
        "y_val = y_train[:10000]\n",
        "partial_y_train = y_train[10000:]"
      ],
      "metadata": {
        "id": "BC7IGUEuOPQ8"
      },
      "execution_count": null,
      "outputs": []
    },
    {
      "cell_type": "markdown",
      "source": [
        "* Model budeme trénovat pro 20 epoch v minidávkách 512 příkladů\n",
        "* Současně sledujeme správnost na 10 000 příkladech které jsme si oddělili"
      ],
      "metadata": {
        "id": "DB4TzM1ePRrk"
      }
    },
    {
      "cell_type": "markdown",
      "source": [
        "Volání **model.fit()** vrací objekt History, tento objekt má prvek history, což je slovník obsahující údaje o všem, co se stalo během trénování."
      ],
      "metadata": {
        "id": "wvrdhLyTQAKc"
      }
    },
    {
      "cell_type": "code",
      "source": [
        "history = model.fit(partial_x_train,\n",
        "                    partial_y_train,\n",
        "                    epochs=20,\n",
        "                    batch_size=512,\n",
        "                    validation_data=(x_val,y_val))\n",
        "\n"
      ],
      "metadata": {
        "colab": {
          "base_uri": "https://localhost:8080/"
        },
        "id": "A3qyCyguPhTG",
        "outputId": "8334692a-f4d2-4895-f1e1-c6ef496a85e2"
      },
      "execution_count": null,
      "outputs": [
        {
          "output_type": "stream",
          "name": "stdout",
          "text": [
            "Epoch 1/20\n",
            "30/30 [==============================] - 3s 55ms/step - loss: 0.5055 - accuracy: 0.7855 - val_loss: 0.3862 - val_accuracy: 0.8594\n",
            "Epoch 2/20\n",
            "30/30 [==============================] - 1s 37ms/step - loss: 0.2949 - accuracy: 0.9017 - val_loss: 0.3483 - val_accuracy: 0.8527\n",
            "Epoch 3/20\n",
            "30/30 [==============================] - 1s 39ms/step - loss: 0.2112 - accuracy: 0.9298 - val_loss: 0.2794 - val_accuracy: 0.8887\n",
            "Epoch 4/20\n",
            "30/30 [==============================] - 1s 38ms/step - loss: 0.1711 - accuracy: 0.9421 - val_loss: 0.2746 - val_accuracy: 0.8898\n",
            "Epoch 5/20\n",
            "30/30 [==============================] - 1s 38ms/step - loss: 0.1341 - accuracy: 0.9567 - val_loss: 0.2904 - val_accuracy: 0.8846\n",
            "Epoch 6/20\n",
            "30/30 [==============================] - 1s 38ms/step - loss: 0.1151 - accuracy: 0.9624 - val_loss: 0.2985 - val_accuracy: 0.8848\n",
            "Epoch 7/20\n",
            "30/30 [==============================] - 1s 39ms/step - loss: 0.0892 - accuracy: 0.9749 - val_loss: 0.3151 - val_accuracy: 0.8829\n",
            "Epoch 8/20\n",
            "30/30 [==============================] - 1s 37ms/step - loss: 0.0745 - accuracy: 0.9799 - val_loss: 0.3378 - val_accuracy: 0.8795\n",
            "Epoch 9/20\n",
            "30/30 [==============================] - 1s 38ms/step - loss: 0.0601 - accuracy: 0.9849 - val_loss: 0.3884 - val_accuracy: 0.8745\n",
            "Epoch 10/20\n",
            "30/30 [==============================] - 1s 39ms/step - loss: 0.0483 - accuracy: 0.9883 - val_loss: 0.3901 - val_accuracy: 0.8775\n",
            "Epoch 11/20\n",
            "30/30 [==============================] - 1s 38ms/step - loss: 0.0402 - accuracy: 0.9905 - val_loss: 0.4250 - val_accuracy: 0.8732\n",
            "Epoch 12/20\n",
            "30/30 [==============================] - 1s 38ms/step - loss: 0.0296 - accuracy: 0.9948 - val_loss: 0.5279 - val_accuracy: 0.8540\n",
            "Epoch 13/20\n",
            "30/30 [==============================] - 1s 39ms/step - loss: 0.0261 - accuracy: 0.9949 - val_loss: 0.4907 - val_accuracy: 0.8684\n",
            "Epoch 14/20\n",
            "30/30 [==============================] - 1s 38ms/step - loss: 0.0179 - accuracy: 0.9979 - val_loss: 0.5163 - val_accuracy: 0.8717\n",
            "Epoch 15/20\n",
            "30/30 [==============================] - 1s 38ms/step - loss: 0.0184 - accuracy: 0.9962 - val_loss: 0.5486 - val_accuracy: 0.8720\n",
            "Epoch 16/20\n",
            "30/30 [==============================] - 1s 40ms/step - loss: 0.0145 - accuracy: 0.9973 - val_loss: 0.5804 - val_accuracy: 0.8687\n",
            "Epoch 17/20\n",
            "30/30 [==============================] - 1s 37ms/step - loss: 0.0067 - accuracy: 0.9997 - val_loss: 0.6539 - val_accuracy: 0.8654\n",
            "Epoch 18/20\n",
            "30/30 [==============================] - 1s 38ms/step - loss: 0.0116 - accuracy: 0.9969 - val_loss: 0.6411 - val_accuracy: 0.8681\n",
            "Epoch 19/20\n",
            "30/30 [==============================] - 1s 38ms/step - loss: 0.0084 - accuracy: 0.9978 - val_loss: 0.6767 - val_accuracy: 0.8664\n",
            "Epoch 20/20\n",
            "30/30 [==============================] - 1s 38ms/step - loss: 0.0032 - accuracy: 0.9999 - val_loss: 0.6970 - val_accuracy: 0.8660\n"
          ]
        }
      ]
    },
    {
      "cell_type": "markdown",
      "source": [
        "Zobrazíme si údaje v prvku **history**"
      ],
      "metadata": {
        "id": "7goQQpX0QTSs"
      }
    },
    {
      "cell_type": "code",
      "source": [
        "history_dict = history.history\n",
        "history_dict.keys()"
      ],
      "metadata": {
        "colab": {
          "base_uri": "https://localhost:8080/"
        },
        "id": "4zDt9ExsQW4U",
        "outputId": "9b81b5ec-cd47-4cfa-9f3c-a282a0b26eab"
      },
      "execution_count": null,
      "outputs": [
        {
          "output_type": "execute_result",
          "data": {
            "text/plain": [
              "dict_keys(['loss', 'accuracy', 'val_loss', 'val_accuracy'])"
            ]
          },
          "metadata": {},
          "execution_count": 92
        }
      ]
    },
    {
      "cell_type": "markdown",
      "source": [
        "# **Vyhodnocení učení**"
      ],
      "metadata": {
        "id": "X2krTjbfRLeQ"
      }
    },
    {
      "cell_type": "markdown",
      "source": [
        "* Můžeme si nechat zobrazit z prvku history trénovací a validační ztráty\n",
        "* Nebo druhá možnost správnost trénování a validace"
      ],
      "metadata": {
        "id": "wo9ddkAgRQME"
      }
    },
    {
      "cell_type": "code",
      "source": [
        "import matplotlib.pyplot as plt\n",
        "\n",
        "history_dict = history.history\n",
        "loss_values = history_dict[\"loss\"]\n",
        "val_loss_values = history_dict[\"val_loss\"]\n",
        "\n",
        "epochs = range(1, len(loss_values)+1)\n",
        "\n",
        "plt.plot(epochs, loss_values, \"bo\", label=\"Training loss\")\n",
        "plt.plot(epochs, val_loss_values, \"b\", label=\"Validation loss\")\n",
        "plt.title(\"Training and Validation loss\")\n",
        "plt.xlabel(\"Epochy\")\n",
        "plt.ylabel(\"Ztráta\")\n",
        "plt.legend()\n",
        "\n",
        "plt.show()"
      ],
      "metadata": {
        "colab": {
          "base_uri": "https://localhost:8080/",
          "height": 295
        },
        "id": "uOWgCV5DRFOd",
        "outputId": "93196612-1354-4119-a050-627669914664"
      },
      "execution_count": null,
      "outputs": [
        {
          "output_type": "display_data",
          "data": {
            "text/plain": [
              "<Figure size 432x288 with 1 Axes>"
            ],
            "image/png": "[encoded data removed]"
          },
          "metadata": {
            "needs_background": "light"
          }
        }
      ]
    },
    {
      "cell_type": "code",
      "source": [
        "plt.clf() #vyčistí obrázek\n",
        "\n",
        "acc = history_dict[\"accuracy\"]\n",
        "val_acc = history_dict[\"val_accuracy\"]\n",
        "\n",
        "plt.plot(epochs, acc, \"bo\", label=\"Training acc\")\n",
        "plt.plot(epochs, val_acc, \"b\", label=\"Validation acc\")\n",
        "plt.title(\"Training and validation accuracy\")\n",
        "plt.xlabel(\"Epochs\")\n",
        "plt.ylabel(\"Accuracy\")\n",
        "plt.legend()\n",
        "\n",
        "plt.show()"
      ],
      "metadata": {
        "colab": {
          "base_uri": "https://localhost:8080/",
          "height": 295
        },
        "id": "jn5n2aYuSg42",
        "outputId": "1fd3b3c0-4a49-48c4-8596-b3f642eb4d44"
      },
      "execution_count": null,
      "outputs": [
        {
          "output_type": "display_data",
          "data": {
            "text/plain": [
              "<Figure size 432x288 with 1 Axes>"
            ],
            "image/png": "[encoded data removed]"
          },
          "metadata": {
            "needs_background": "light"
          }
        }
      ]
    },
    {
      "cell_type": "markdown",
      "source": [
        "# **Reoptimalizace modelu**"
      ],
      "metadata": {
        "id": "iasb0ZimTvKE"
      }
    },
    {
      "cell_type": "markdown",
      "source": [
        "* Jak je vidět z validační acc, model je přeučený, vrcholý někde u 4 epochy, provedeme proto úpravu modelu"
      ],
      "metadata": {
        "id": "AkbH38VbTnKh"
      }
    },
    {
      "cell_type": "code",
      "source": [
        "model = tf.keras.models.Sequential()\n",
        "model.add(tf.keras.layers.Dense(16, activation=\"relu\", input_shape=(10000,)))\n",
        "model.add(tf.keras.layers.Dense(16, activation=\"relu\"))\n",
        "model.add(tf.keras.layers.Dense(1, activation=\"sigmoid\"))\n",
        "\n",
        "model.compile(optimizer=\"rmsprop\",\n",
        "              loss=\"binary_crossentropy\",\n",
        "              metrics=[\"accuracy\"])\n",
        "\n",
        "model.fit(partial_x_train,\n",
        "                    partial_y_train,\n",
        "                    epochs=4,\n",
        "                    batch_size=512,\n",
        "                    validation_data=(x_val,y_val))"
      ],
      "metadata": {
        "colab": {
          "base_uri": "https://localhost:8080/"
        },
        "id": "G3iJJzcvTG3K",
        "outputId": "ab8c81b0-60a8-47d5-bedc-98d489659531"
      },
      "execution_count": null,
      "outputs": [
        {
          "output_type": "stream",
          "name": "stdout",
          "text": [
            "Epoch 1/4\n",
            "30/30 [==============================] - 2s 53ms/step - loss: 0.5201 - accuracy: 0.7804 - val_loss: 0.3958 - val_accuracy: 0.8647\n",
            "Epoch 2/4\n",
            "30/30 [==============================] - 1s 38ms/step - loss: 0.3118 - accuracy: 0.9036 - val_loss: 0.3599 - val_accuracy: 0.8485\n",
            "Epoch 3/4\n",
            "30/30 [==============================] - 1s 38ms/step - loss: 0.2274 - accuracy: 0.9293 - val_loss: 0.2795 - val_accuracy: 0.8909\n",
            "Epoch 4/4\n",
            "30/30 [==============================] - 1s 38ms/step - loss: 0.1774 - accuracy: 0.9439 - val_loss: 0.2838 - val_accuracy: 0.8862\n"
          ]
        },
        {
          "output_type": "execute_result",
          "data": {
            "text/plain": [
              "<keras.callbacks.History at 0x7f34ea37a190>"
            ]
          },
          "metadata": {},
          "execution_count": 100
        }
      ]
    },
    {
      "cell_type": "markdown",
      "source": [
        "# **Validace modelu na testovacích datech**"
      ],
      "metadata": {
        "id": "6CQ68ly0UMhl"
      }
    },
    {
      "cell_type": "markdown",
      "source": [
        "Validace modelu pomocí příkazu **model.evaluate(testovací x, testovací y)**"
      ],
      "metadata": {
        "id": "xGv3Djv7Uxxw"
      }
    },
    {
      "cell_type": "code",
      "source": [
        "results = model.evaluate(x_test, y_test)\n",
        "results\n",
        "# Výsledkem je správnost 87,7 % správnost predikce"
      ],
      "metadata": {
        "colab": {
          "base_uri": "https://localhost:8080/"
        },
        "id": "RVGDCV5wUKy3",
        "outputId": "26f1b7e0-81c1-4997-f7f4-a91e58fbd1e8"
      },
      "execution_count": null,
      "outputs": [
        {
          "output_type": "stream",
          "name": "stdout",
          "text": [
            "782/782 [==============================] - 2s 3ms/step - loss: 0.3049 - accuracy: 0.8768\n"
          ]
        },
        {
          "output_type": "execute_result",
          "data": {
            "text/plain": [
              "[0.304902583360672, 0.8768399953842163]"
            ]
          },
          "metadata": {},
          "execution_count": 101
        }
      ]
    },
    {
      "cell_type": "markdown",
      "source": [
        "# **Používání naučené neuronové sítě pro generování predikcí pro nová data!!!**"
      ],
      "metadata": {
        "id": "AIPM1s3tUab5"
      }
    },
    {
      "cell_type": "markdown",
      "source": [
        "Pomocí **model.predict(data)**"
      ],
      "metadata": {
        "id": "Nvdfs4J-Usps"
      }
    },
    {
      "cell_type": "code",
      "source": [
        "model.predict(x_test)"
      ],
      "metadata": {
        "id": "VmPsEvaMUZfT"
      },
      "execution_count": null,
      "outputs": []
    }
  ]
}