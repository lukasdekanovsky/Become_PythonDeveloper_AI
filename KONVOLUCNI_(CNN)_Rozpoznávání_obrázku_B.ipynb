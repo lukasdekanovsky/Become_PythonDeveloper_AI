{
  "nbformat": 4,
  "nbformat_minor": 0,
  "metadata": {
    "colab": {
      "provenance": [],
      "authorship_tag": "ABX9TyMX+Y6RIgqrz1Run79++j9d",
      "include_colab_link": true
    },
    "kernelspec": {
      "name": "python3",
      "display_name": "Python 3"
    },
    "language_info": {
      "name": "python"
    }
  },
  "cells": [
    {
      "cell_type": "markdown",
      "metadata": {
        "id": "view-in-github",
        "colab_type": "text"
      },
      "source": [
        "<a href=\"https://colab.research.google.com/github/lukasdekanovsky/Become_PythonDeveloper_AI/blob/main/KONVOLUCNI_(CNN)_Rozpozn%C3%A1v%C3%A1n%C3%AD_obr%C3%A1zku_B.ipynb\" target=\"_parent\"><img src=\"https://colab.research.google.com/assets/colab-badge.svg\" alt=\"Open In Colab\"/></a>"
      ]
    },
    {
      "cell_type": "markdown",
      "source": [
        "# Optimalizovaný model konvoluční neuronové sítě pro rozpoznávání obrazu (barevný) + optimalizace"
      ],
      "metadata": {
        "id": "5qoDAZ-0sh5I"
      }
    },
    {
      "cell_type": "code",
      "execution_count": null,
      "metadata": {
        "colab": {
          "base_uri": "https://localhost:8080/"
        },
        "id": "Vddz93w3sScg",
        "outputId": "af499ff4-4472-40a2-f532-181384da6818"
      },
      "outputs": [
        {
          "output_type": "stream",
          "name": "stdout",
          "text": [
            "2.9.2\n"
          ]
        }
      ],
      "source": [
        "import tensorflow as tf\n",
        "print(tf.__version__)"
      ]
    },
    {
      "cell_type": "code",
      "source": [
        "import numpy as np\n",
        "import matplotlib.pyplot as plt\n",
        "from tensorflow.keras.layers import Input, Conv2D, Dense, Flatten, Dropout\n",
        "from tensorflow.keras.models import Model"
      ],
      "metadata": {
        "id": "ZScSbEGotFEd"
      },
      "execution_count": null,
      "outputs": []
    },
    {
      "cell_type": "code",
      "source": [
        "(x_train, y_train), (x_test, y_test) = tf.keras.datasets.cifar10.load_data()"
      ],
      "metadata": {
        "colab": {
          "base_uri": "https://localhost:8080/"
        },
        "id": "fAD_4NT0tGIc",
        "outputId": "90735ffe-f62e-411e-de50-354efe920725"
      },
      "execution_count": null,
      "outputs": [
        {
          "output_type": "stream",
          "name": "stdout",
          "text": [
            "Downloading data from https://www.cs.toronto.edu/~kriz/cifar-10-python.tar.gz\n",
            "170498071/170498071 [==============================] - 4s 0us/step\n"
          ]
        }
      ]
    },
    {
      "cell_type": "code",
      "source": [
        "print(x_train[0]) #vidíme že obrázek je barevný, každý pixel má 3 barvy - nebrání optimalizaci dat / 255"
      ],
      "metadata": {
        "colab": {
          "base_uri": "https://localhost:8080/"
        },
        "id": "5-8oE1jXtLLP",
        "outputId": "eec8ee8e-1e77-41d8-abeb-0562a95e55ed"
      },
      "execution_count": null,
      "outputs": [
        {
          "output_type": "stream",
          "name": "stdout",
          "text": [
            "[[[ 59  62  63]\n",
            "  [ 43  46  45]\n",
            "  [ 50  48  43]\n",
            "  ...\n",
            "  [158 132 108]\n",
            "  [152 125 102]\n",
            "  [148 124 103]]\n",
            "\n",
            " [[ 16  20  20]\n",
            "  [  0   0   0]\n",
            "  [ 18   8   0]\n",
            "  ...\n",
            "  [123  88  55]\n",
            "  [119  83  50]\n",
            "  [122  87  57]]\n",
            "\n",
            " [[ 25  24  21]\n",
            "  [ 16   7   0]\n",
            "  [ 49  27   8]\n",
            "  ...\n",
            "  [118  84  50]\n",
            "  [120  84  50]\n",
            "  [109  73  42]]\n",
            "\n",
            " ...\n",
            "\n",
            " [[208 170  96]\n",
            "  [201 153  34]\n",
            "  [198 161  26]\n",
            "  ...\n",
            "  [160 133  70]\n",
            "  [ 56  31   7]\n",
            "  [ 53  34  20]]\n",
            "\n",
            " [[180 139  96]\n",
            "  [173 123  42]\n",
            "  [186 144  30]\n",
            "  ...\n",
            "  [184 148  94]\n",
            "  [ 97  62  34]\n",
            "  [ 83  53  34]]\n",
            "\n",
            " [[177 144 116]\n",
            "  [168 129  94]\n",
            "  [179 142  87]\n",
            "  ...\n",
            "  [216 184 140]\n",
            "  [151 118  84]\n",
            "  [123  92  72]]]\n"
          ]
        }
      ]
    },
    {
      "cell_type": "code",
      "source": [
        "plt.imshow(x_train[8])\n",
        "print(x_train.shape)"
      ],
      "metadata": {
        "colab": {
          "base_uri": "https://localhost:8080/",
          "height": 283
        },
        "id": "7lacrKWYtTMN",
        "outputId": "2039ffbc-f4b7-4b99-c44c-643d5971018d"
      },
      "execution_count": null,
      "outputs": [
        {
          "output_type": "stream",
          "name": "stdout",
          "text": [
            "(50000, 32, 32, 3)\n"
          ]
        },
        {
          "output_type": "display_data",
          "data": {
            "text/plain": [
              "<Figure size 432x288 with 1 Axes>"
            ],
            "image/png": "[encoded data removed]"
          },
          "metadata": {
            "needs_background": "light"
          }
        }
      ]
    },
    {
      "cell_type": "code",
      "source": [
        "pocet_kategorii = len(set(y_train))\n",
        "print(\"Počet kategorií:\", pocet_kategorii)"
      ],
      "metadata": {
        "colab": {
          "base_uri": "https://localhost:8080/"
        },
        "id": "jKrmTrV7uBmj",
        "outputId": "02d79625-cf54-4a13-e54d-fbfd1d7307d2"
      },
      "execution_count": null,
      "outputs": [
        {
          "output_type": "stream",
          "name": "stdout",
          "text": [
            "Počet kategorií: 10\n"
          ]
        }
      ]
    },
    {
      "cell_type": "code",
      "source": [
        "kategorie = '''letadlo\n",
        "automobil\n",
        "pták\n",
        "kočka\n",
        "jelen\n",
        "pes\n",
        "žába\n",
        "kůň\n",
        "loď\n",
        "náklaďák'''.split()"
      ],
      "metadata": {
        "id": "JI76qWDzt3Sc"
      },
      "execution_count": null,
      "outputs": []
    },
    {
      "cell_type": "code",
      "source": [
        "x_train, x_test = x_train / 255.0, x_test / 255.0"
      ],
      "metadata": {
        "id": "B_ezzZ4ot4cz"
      },
      "execution_count": null,
      "outputs": []
    },
    {
      "cell_type": "code",
      "source": [
        "print(\"x_train.shape:\", x_train.shape)\n",
        "print(\"y_train.shape\", y_train.shape)\n",
        "y_train, y_test = y_train.flatten(), y_test.flatten() # musíme snížit dimenzi\n",
        "print(\"y_train.shape\", y_train.shape)"
      ],
      "metadata": {
        "colab": {
          "base_uri": "https://localhost:8080/"
        },
        "id": "J5_M5srnt6pP",
        "outputId": "eaf17219-fa7e-4293-eaef-636eb6d8f591"
      },
      "execution_count": null,
      "outputs": [
        {
          "output_type": "stream",
          "name": "stdout",
          "text": [
            "x_train.shape: (50000, 32, 32, 3)\n",
            "y_train.shape (50000,)\n",
            "y_train.shape (50000,)\n"
          ]
        }
      ]
    },
    {
      "cell_type": "code",
      "source": [
        "i = Input(shape=x_train[0].shape)\n",
        "\n",
        "x = Conv2D(32, (3, 3), strides=2, activation='relu')(i)\n",
        "x = Conv2D(64, (3, 3), strides=2, activation='relu')(x)\n",
        "x = Conv2D(128, (3, 3), strides=2, activation='relu')(x)\n",
        "\n",
        "x = Flatten()(x)\n",
        "x = Dropout(0.2)(x)\n",
        "x = Dense(512, activation='relu')(x)\n",
        "x = Dropout(0.2)(x)\n",
        "\n",
        "x = Dense(pocet_kategorii, activation='softmax')(x)\n",
        "\n",
        "model = Model(i, x)"
      ],
      "metadata": {
        "id": "BGBMj4H6uAOv"
      },
      "execution_count": null,
      "outputs": []
    },
    {
      "cell_type": "code",
      "source": [
        "model.compile(optimizer='adam',\n",
        "              loss='sparse_categorical_crossentropy',\n",
        "              metrics=['accuracy'])"
      ],
      "metadata": {
        "id": "NHQMNmCuuGCc"
      },
      "execution_count": null,
      "outputs": []
    },
    {
      "cell_type": "code",
      "source": [
        "result = model.fit(x_train, y_train, validation_data=(x_test, y_test), epochs=15)"
      ],
      "metadata": {
        "colab": {
          "base_uri": "https://localhost:8080/"
        },
        "id": "zSrKUw9fuHTJ",
        "outputId": "2a0ea136-cfc3-46fd-fcc5-7720f96daa09"
      },
      "execution_count": null,
      "outputs": [
        {
          "output_type": "stream",
          "name": "stdout",
          "text": [
            "Epoch 1/15\n",
            "1563/1563 [==============================] - 45s 28ms/step - loss: 1.5116 - accuracy: 0.4513 - val_loss: 1.2706 - val_accuracy: 0.5434\n",
            "Epoch 2/15\n",
            "1563/1563 [==============================] - 43s 27ms/step - loss: 1.1958 - accuracy: 0.5748 - val_loss: 1.0693 - val_accuracy: 0.6184\n",
            "Epoch 3/15\n",
            "1563/1563 [==============================] - 42s 27ms/step - loss: 1.0408 - accuracy: 0.6309 - val_loss: 1.0127 - val_accuracy: 0.6439\n",
            "Epoch 4/15\n",
            "1563/1563 [==============================] - 42s 27ms/step - loss: 0.9265 - accuracy: 0.6732 - val_loss: 0.9337 - val_accuracy: 0.6700\n",
            "Epoch 5/15\n",
            "1563/1563 [==============================] - 42s 27ms/step - loss: 0.8429 - accuracy: 0.7024 - val_loss: 0.9263 - val_accuracy: 0.6773\n",
            "Epoch 6/15\n",
            "1563/1563 [==============================] - 43s 28ms/step - loss: 0.7643 - accuracy: 0.7285 - val_loss: 0.9034 - val_accuracy: 0.6882\n",
            "Epoch 7/15\n",
            "1563/1563 [==============================] - 42s 27ms/step - loss: 0.6937 - accuracy: 0.7537 - val_loss: 0.8962 - val_accuracy: 0.6926\n",
            "Epoch 8/15\n",
            "1563/1563 [==============================] - 42s 27ms/step - loss: 0.6262 - accuracy: 0.7768 - val_loss: 0.9062 - val_accuracy: 0.6946\n",
            "Epoch 9/15\n",
            "1563/1563 [==============================] - 42s 27ms/step - loss: 0.5732 - accuracy: 0.7976 - val_loss: 0.8935 - val_accuracy: 0.6994\n",
            "Epoch 10/15\n",
            "1563/1563 [==============================] - 42s 27ms/step - loss: 0.5279 - accuracy: 0.8118 - val_loss: 0.9121 - val_accuracy: 0.7000\n",
            "Epoch 11/15\n",
            "1563/1563 [==============================] - 43s 27ms/step - loss: 0.4796 - accuracy: 0.8282 - val_loss: 0.9076 - val_accuracy: 0.7075\n",
            "Epoch 12/15\n",
            "1563/1563 [==============================] - 41s 26ms/step - loss: 0.4483 - accuracy: 0.8413 - val_loss: 0.9709 - val_accuracy: 0.7057\n",
            "Epoch 13/15\n",
            "1563/1563 [==============================] - 41s 27ms/step - loss: 0.4122 - accuracy: 0.8535 - val_loss: 0.9931 - val_accuracy: 0.7010\n",
            "Epoch 14/15\n",
            "1563/1563 [==============================] - 45s 29ms/step - loss: 0.3976 - accuracy: 0.8594 - val_loss: 0.9823 - val_accuracy: 0.7020\n",
            "Epoch 15/15\n",
            "1563/1563 [==============================] - 41s 26ms/step - loss: 0.3656 - accuracy: 0.8695 - val_loss: 1.0000 - val_accuracy: 0.7026\n"
          ]
        }
      ]
    },
    {
      "cell_type": "code",
      "source": [
        "plt.plot(result.history['accuracy'], label='acc')\n",
        "plt.plot(result.history['val_accuracy'], label='val_acc')\n",
        "plt.legend()"
      ],
      "metadata": {
        "colab": {
          "base_uri": "https://localhost:8080/",
          "height": 282
        },
        "id": "pmjB4xzAwPnl",
        "outputId": "df4310d7-d863-403f-bd44-7f7a17ac0d52"
      },
      "execution_count": null,
      "outputs": [
        {
          "output_type": "execute_result",
          "data": {
            "text/plain": [
              "<matplotlib.legend.Legend at 0x7f3b34bbd250>"
            ]
          },
          "metadata": {},
          "execution_count": 14
        },
        {
          "output_type": "display_data",
          "data": {
            "text/plain": [
              "<Figure size 432x288 with 1 Axes>"
            ],
            "image/png": "[encoded data removed]"
          },
          "metadata": {
            "needs_background": "light"
          }
        }
      ]
    },
    {
      "cell_type": "code",
      "source": [
        "from sklearn.metrics import confusion_matrix\n",
        "import itertools\n",
        "\n",
        "def vykresli_confusion_matrix(cm, kategorie):\n",
        "  plt.imshow(cm, interpolation='nearest', cmap=plt.cm.Blues)\n",
        "  plt.title(\"Confusion matrix\")\n",
        "  plt.colorbar()\n",
        "  tick_marks = np.arange(len(kategorie))\n",
        "  plt.xticks(tick_marks, kategorie, rotation=45)\n",
        "  plt.yticks(tick_marks, kategorie)\n",
        "\n",
        "  fmt = 'd'\n",
        "  thresh = cm.max() / 2.\n",
        "  for i, j in itertools.product(range(cm.shape[0]), range(cm.shape[1])):\n",
        "      plt.text(j, i, format(cm[i, j], fmt), horizontalalignment=\"center\", color=\"white\" if cm[i, j] > thresh else \"black\")\n",
        "\n",
        "  plt.tight_layout()\n",
        "  plt.ylabel('Skutečnost')\n",
        "  plt.xlabel('Předpověď')\n",
        "  plt.show()\n",
        "\n",
        "predikce_test = model.predict(x_test).argmax(axis=1)\n",
        "cm = confusion_matrix(y_test, predikce_test)\n",
        "vykresli_confusion_matrix(cm, kategorie=list(range(10)))"
      ],
      "metadata": {
        "colab": {
          "base_uri": "https://localhost:8080/",
          "height": 329
        },
        "id": "zVWDaOHOwzzK",
        "outputId": "f28eaed8-c43b-4271-e82c-5b4762044b70"
      },
      "execution_count": null,
      "outputs": [
        {
          "output_type": "stream",
          "name": "stdout",
          "text": [
            "313/313 [==============================] - 5s 15ms/step\n"
          ]
        },
        {
          "output_type": "display_data",
          "data": {
            "text/plain": [
              "<Figure size 432x288 with 2 Axes>"
            ],
            "image/png": "[encoded data removed]"
          },
          "metadata": {
            "needs_background": "light"
          }
        }
      ]
    },
    {
      "cell_type": "code",
      "source": [
        "indexy_spatne_uhadlych = np.where(predikce_test != y_test)[0]\n",
        "random_index = np.random.choice(indexy_spatne_uhadlych)\n",
        "plt.imshow(x_test[random_index].reshape(32,32,3), cmap='gray')\n",
        "plt.title(f\"Skutečnost: {kategorie[y_test[random_index]]} Odhadnuto jako: {kategorie[predikce_test[random_index]]}\")"
      ],
      "metadata": {
        "colab": {
          "base_uri": "https://localhost:8080/",
          "height": 299
        },
        "id": "ALQ1KkZcw4ib",
        "outputId": "6df501ba-df38-4730-c710-02dabf9a93fe"
      },
      "execution_count": null,
      "outputs": [
        {
          "output_type": "execute_result",
          "data": {
            "text/plain": [
              "Text(0.5, 1.0, 'Skutečnost: kůň Odhadnuto jako: kočka')"
            ]
          },
          "metadata": {},
          "execution_count": 16
        },
        {
          "output_type": "display_data",
          "data": {
            "text/plain": [
              "<Figure size 432x288 with 1 Axes>"
            ],
            "image/png": "[encoded data removed]"
          },
          "metadata": {
            "needs_background": "light"
          }
        }
      ]
    },
    {
      "cell_type": "markdown",
      "source": [
        "# Optimalizace neuronové sítě"
      ],
      "metadata": {
        "id": "9nDHbUtgw80a"
      }
    },
    {
      "cell_type": "code",
      "source": [
        "import tensorflow as tf\n",
        "print(tf.__version__)"
      ],
      "metadata": {
        "colab": {
          "base_uri": "https://localhost:8080/"
        },
        "id": "CgqxBDttw718",
        "outputId": "51229d4c-28cd-4506-d077-bcb9707116a7"
      },
      "execution_count": null,
      "outputs": [
        {
          "output_type": "stream",
          "name": "stdout",
          "text": [
            "2.9.2\n"
          ]
        }
      ]
    },
    {
      "cell_type": "code",
      "source": [
        "import numpy as np\n",
        "import matplotlib.pyplot as plt\n",
        "from tensorflow.keras.layers import Input, Conv2D, Dense, Flatten, Dropout, GlobalMaxPooling2D, MaxPooling2D, BatchNormalization\n",
        "from tensorflow.keras.models import Model"
      ],
      "metadata": {
        "id": "DH9lAI79xBv_"
      },
      "execution_count": null,
      "outputs": []
    },
    {
      "cell_type": "code",
      "source": [
        "(x_train, y_train), (x_test, y_test) = tf.keras.datasets.cifar10.load_data()"
      ],
      "metadata": {
        "id": "jM4U7oBxxJpB"
      },
      "execution_count": null,
      "outputs": []
    },
    {
      "cell_type": "code",
      "source": [
        "x_train, x_test = x_train / 255.0, x_test / 255.0"
      ],
      "metadata": {
        "id": "Dexttm6-xL9Z"
      },
      "execution_count": null,
      "outputs": []
    },
    {
      "cell_type": "code",
      "source": [
        "y_train, y_test = y_train.flatten(), y_test.flatten()"
      ],
      "metadata": {
        "id": "2OqHfpiRxPIh"
      },
      "execution_count": null,
      "outputs": []
    },
    {
      "cell_type": "code",
      "source": [
        "pocet_kategorii = len(set(y_train))"
      ],
      "metadata": {
        "id": "CTSerJHsxP8B"
      },
      "execution_count": null,
      "outputs": []
    },
    {
      "cell_type": "code",
      "source": [
        "i = Input(shape=x_train[0].shape)\n",
        "\n",
        "x = Conv2D(32, (3, 3), activation='relu', padding='same')(i)\n",
        "x = BatchNormalization()(x)\n",
        "x = Conv2D(32, (3, 3), activation='relu', padding='same')(x)\n",
        "x = BatchNormalization()(x)\n",
        "x = MaxPooling2D((2, 2))(x)\n",
        "\n",
        "x = Conv2D(64, (3, 3), activation='relu', padding='same')(x)\n",
        "x = BatchNormalization()(x)\n",
        "x = Conv2D(64, (3, 3), activation='relu', padding='same')(x)\n",
        "x = BatchNormalization()(x)\n",
        "x = MaxPooling2D((2, 2))(x)\n",
        "\n",
        "x = Conv2D(128, (3, 3), activation='relu', padding='same')(x)\n",
        "x = BatchNormalization()(x)\n",
        "x = Conv2D(128, (3, 3), activation='relu', padding='same')(x)\n",
        "x = BatchNormalization()(x)\n",
        "x = MaxPooling2D((2, 2))(x)\n",
        "\n",
        "x = Flatten()(x)\n",
        "x = Dropout(0.2)(x)\n",
        "x = Dense(1024, activation='relu')(x)\n",
        "x = Dropout(0.2)(x)\n",
        "x = Dense(pocet_kategorii, activation='softmax')(x)\n",
        "\n",
        "model = Model(i, x)"
      ],
      "metadata": {
        "id": "j62zpmwzxS1-"
      },
      "execution_count": null,
      "outputs": []
    },
    {
      "cell_type": "code",
      "source": [
        "model.compile(optimizer='adam',\n",
        "              loss='sparse_categorical_crossentropy',\n",
        "              metrics=['accuracy'])"
      ],
      "metadata": {
        "id": "LBhZ2HJUxX4T"
      },
      "execution_count": null,
      "outputs": []
    },
    {
      "cell_type": "code",
      "source": [
        "batch_velikost = 32\n",
        "x_train.shape[0]//batch_velikost"
      ],
      "metadata": {
        "colab": {
          "base_uri": "https://localhost:8080/"
        },
        "id": "9HEq4KN0xZlv",
        "outputId": "88a21be6-ba58-407d-ce29-a5edba925e5d"
      },
      "execution_count": null,
      "outputs": [
        {
          "output_type": "execute_result",
          "data": {
            "text/plain": [
              "1562"
            ]
          },
          "metadata": {},
          "execution_count": 25
        }
      ]
    },
    {
      "cell_type": "code",
      "source": [
        "batch_velikost = 32\n",
        "generator_augmentovanych_dat = tf.keras.preprocessing.image.ImageDataGenerator(width_shift_range=0.1, height_shift_range=0.1, horizontal_flip=True)\n",
        "generator_uceni = generator_augmentovanych_dat.flow(x_train, y_train, batch_velikost)\n",
        "nkroku_na_epochu = x_train.shape[0] // batch_velikost\n",
        "result = model.fit(generator_uceni, validation_data=(x_test, y_test), steps_per_epoch=nkroku_na_epochu, epochs=50)"
      ],
      "metadata": {
        "colab": {
          "base_uri": "https://localhost:8080/",
          "height": 1000
        },
        "id": "O0juxlTGxhQn",
        "outputId": "bafbed3d-2de8-46d0-d40f-65680e0eb245"
      },
      "execution_count": null,
      "outputs": [
        {
          "output_type": "stream",
          "name": "stdout",
          "text": [
            "Epoch 1/50\n",
            "1562/1562 [==============================] - 533s 341ms/step - loss: 1.4286 - accuracy: 0.5053 - val_loss: 1.0910 - val_accuracy: 0.6221\n",
            "Epoch 2/50\n",
            "1562/1562 [==============================] - 537s 343ms/step - loss: 0.9990 - accuracy: 0.6508 - val_loss: 0.9040 - val_accuracy: 0.6758\n",
            "Epoch 3/50\n",
            "1562/1562 [==============================] - 540s 345ms/step - loss: 0.8528 - accuracy: 0.7030 - val_loss: 0.7763 - val_accuracy: 0.7329\n",
            "Epoch 4/50\n",
            "1562/1562 [==============================] - 528s 338ms/step - loss: 0.7544 - accuracy: 0.7416 - val_loss: 0.7051 - val_accuracy: 0.7673\n",
            "Epoch 5/50\n",
            "1562/1562 [==============================] - 531s 340ms/step - loss: 0.6886 - accuracy: 0.7662 - val_loss: 0.6732 - val_accuracy: 0.7700\n",
            "Epoch 6/50\n",
            "1562/1562 [==============================] - 529s 339ms/step - loss: 0.6392 - accuracy: 0.7823 - val_loss: 0.6448 - val_accuracy: 0.7835\n",
            "Epoch 7/50\n",
            "1562/1562 [==============================] - 530s 339ms/step - loss: 0.5871 - accuracy: 0.8017 - val_loss: 0.5670 - val_accuracy: 0.8087\n",
            "Epoch 8/50\n",
            "1562/1562 [==============================] - 531s 340ms/step - loss: 0.5575 - accuracy: 0.8114 - val_loss: 0.4928 - val_accuracy: 0.8353\n",
            "Epoch 9/50\n",
            "1562/1562 [==============================] - 529s 339ms/step - loss: 0.5223 - accuracy: 0.8229 - val_loss: 0.6591 - val_accuracy: 0.7853\n",
            "Epoch 10/50\n",
            "1562/1562 [==============================] - 531s 340ms/step - loss: 0.4939 - accuracy: 0.8313 - val_loss: 0.5897 - val_accuracy: 0.8139\n",
            "Epoch 11/50\n",
            "1562/1562 [==============================] - 530s 339ms/step - loss: 0.4668 - accuracy: 0.8408 - val_loss: 0.5661 - val_accuracy: 0.8137\n",
            "Epoch 12/50\n",
            "1562/1562 [==============================] - 529s 339ms/step - loss: 0.4462 - accuracy: 0.8492 - val_loss: 0.5058 - val_accuracy: 0.8305\n",
            "Epoch 13/50\n",
            "1562/1562 [==============================] - 534s 342ms/step - loss: 0.4231 - accuracy: 0.8552 - val_loss: 0.4617 - val_accuracy: 0.8445\n",
            "Epoch 14/50\n",
            "1562/1562 [==============================] - 537s 344ms/step - loss: 0.4062 - accuracy: 0.8614 - val_loss: 0.5142 - val_accuracy: 0.8428\n",
            "Epoch 15/50\n",
            "1562/1562 [==============================] - 533s 341ms/step - loss: 0.3933 - accuracy: 0.8649 - val_loss: 0.4408 - val_accuracy: 0.8562\n",
            "Epoch 16/50\n",
            "1562/1562 [==============================] - 536s 343ms/step - loss: 0.3783 - accuracy: 0.8701 - val_loss: 0.4958 - val_accuracy: 0.8371\n",
            "Epoch 17/50\n",
            "1562/1562 [==============================] - 535s 342ms/step - loss: 0.3614 - accuracy: 0.8764 - val_loss: 0.6281 - val_accuracy: 0.8052\n",
            "Epoch 18/50\n",
            "1562/1562 [==============================] - 529s 339ms/step - loss: 0.3537 - accuracy: 0.8804 - val_loss: 0.4369 - val_accuracy: 0.8522\n",
            "Epoch 19/50\n",
            "1562/1562 [==============================] - 532s 341ms/step - loss: 0.3405 - accuracy: 0.8840 - val_loss: 0.4416 - val_accuracy: 0.8544\n",
            "Epoch 20/50\n",
            "1562/1562 [==============================] - 531s 340ms/step - loss: 0.3304 - accuracy: 0.8862 - val_loss: 0.4208 - val_accuracy: 0.8627\n",
            "Epoch 21/50\n",
            "1562/1562 [==============================] - 529s 339ms/step - loss: 0.3208 - accuracy: 0.8910 - val_loss: 0.3970 - val_accuracy: 0.8663\n",
            "Epoch 22/50\n",
            "1562/1562 [==============================] - 528s 338ms/step - loss: 0.3126 - accuracy: 0.8928 - val_loss: 0.3935 - val_accuracy: 0.8692\n",
            "Epoch 23/50\n",
            "1562/1562 [==============================] - 527s 337ms/step - loss: 0.3019 - accuracy: 0.8970 - val_loss: 0.4037 - val_accuracy: 0.8713\n",
            "Epoch 24/50\n",
            "1562/1562 [==============================] - 527s 337ms/step - loss: 0.2952 - accuracy: 0.8991 - val_loss: 0.3916 - val_accuracy: 0.8673\n",
            "Epoch 25/50\n",
            "1562/1562 [==============================] - 527s 337ms/step - loss: 0.2877 - accuracy: 0.9001 - val_loss: 0.4099 - val_accuracy: 0.8703\n",
            "Epoch 26/50\n",
            "1562/1562 [==============================] - 526s 337ms/step - loss: 0.2775 - accuracy: 0.9044 - val_loss: 0.4000 - val_accuracy: 0.8714\n",
            "Epoch 27/50\n",
            "1562/1562 [==============================] - 528s 338ms/step - loss: 0.2705 - accuracy: 0.9065 - val_loss: 0.4074 - val_accuracy: 0.8734\n",
            "Epoch 28/50\n",
            "1562/1562 [==============================] - 528s 338ms/step - loss: 0.2637 - accuracy: 0.9097 - val_loss: 0.3777 - val_accuracy: 0.8800\n",
            "Epoch 29/50\n",
            "1562/1562 [==============================] - 526s 337ms/step - loss: 0.2569 - accuracy: 0.9105 - val_loss: 0.4167 - val_accuracy: 0.8733\n",
            "Epoch 30/50\n",
            "1562/1562 [==============================] - 528s 338ms/step - loss: 0.2580 - accuracy: 0.9108 - val_loss: 0.4035 - val_accuracy: 0.8753\n",
            "Epoch 31/50\n",
            "1562/1562 [==============================] - 526s 337ms/step - loss: 0.2486 - accuracy: 0.9142 - val_loss: 0.3844 - val_accuracy: 0.8763\n",
            "Epoch 32/50\n",
            "1562/1562 [==============================] - 526s 337ms/step - loss: 0.2427 - accuracy: 0.9170 - val_loss: 0.3974 - val_accuracy: 0.8736\n",
            "Epoch 33/50\n",
            "1562/1562 [==============================] - 528s 338ms/step - loss: 0.2400 - accuracy: 0.9173 - val_loss: 0.4313 - val_accuracy: 0.8752\n",
            "Epoch 34/50\n",
            "1562/1562 [==============================] - 531s 340ms/step - loss: 0.2294 - accuracy: 0.9198 - val_loss: 0.4009 - val_accuracy: 0.8804\n",
            "Epoch 35/50\n",
            "1562/1562 [==============================] - 528s 338ms/step - loss: 0.2286 - accuracy: 0.9218 - val_loss: 0.4145 - val_accuracy: 0.8713\n",
            "Epoch 36/50\n",
            "1562/1562 [==============================] - 531s 340ms/step - loss: 0.2288 - accuracy: 0.9216 - val_loss: 0.4125 - val_accuracy: 0.8701\n",
            "Epoch 37/50\n",
            "1562/1562 [==============================] - 540s 346ms/step - loss: 0.2185 - accuracy: 0.9251 - val_loss: 0.3740 - val_accuracy: 0.8823\n",
            "Epoch 38/50\n",
            "1562/1562 [==============================] - 541s 346ms/step - loss: 0.2189 - accuracy: 0.9244 - val_loss: 0.4665 - val_accuracy: 0.8665\n",
            "Epoch 39/50\n",
            "1562/1562 [==============================] - 539s 345ms/step - loss: 0.2121 - accuracy: 0.9269 - val_loss: 0.4166 - val_accuracy: 0.8641\n",
            "Epoch 40/50\n",
            "1562/1562 [==============================] - 536s 343ms/step - loss: 0.2130 - accuracy: 0.9268 - val_loss: 0.4141 - val_accuracy: 0.8756\n",
            "Epoch 41/50\n",
            "1562/1562 [==============================] - 535s 342ms/step - loss: 0.2051 - accuracy: 0.9295 - val_loss: 0.4146 - val_accuracy: 0.8711\n",
            "Epoch 42/50\n",
            "1562/1562 [==============================] - 534s 342ms/step - loss: 0.2050 - accuracy: 0.9298 - val_loss: 0.4026 - val_accuracy: 0.8796\n",
            "Epoch 43/50\n",
            "1562/1562 [==============================] - 534s 342ms/step - loss: 0.1996 - accuracy: 0.9311 - val_loss: 0.3711 - val_accuracy: 0.8856\n",
            "Epoch 44/50\n",
            "1562/1562 [==============================] - 536s 343ms/step - loss: 0.1979 - accuracy: 0.9313 - val_loss: 0.4248 - val_accuracy: 0.8812\n",
            "Epoch 45/50\n",
            "1562/1562 [==============================] - 536s 343ms/step - loss: 0.1962 - accuracy: 0.9320 - val_loss: 0.4157 - val_accuracy: 0.8753\n",
            "Epoch 46/50\n",
            "1562/1562 [==============================] - 535s 342ms/step - loss: 0.1939 - accuracy: 0.9335 - val_loss: 0.3905 - val_accuracy: 0.8760\n",
            "Epoch 47/50\n",
            "1562/1562 [==============================] - 536s 343ms/step - loss: 0.1930 - accuracy: 0.9341 - val_loss: 0.4304 - val_accuracy: 0.8795\n",
            "Epoch 48/50\n",
            " 229/1562 [===>..........................] - ETA: 7:16 - loss: 0.1960 - accuracy: 0.9334"
          ]
        },
        {
          "output_type": "error",
          "ename": "KeyboardInterrupt",
          "evalue": "ignored",
          "traceback": [
            "\u001b[0;31m---------------------------------------------------------------------------\u001b[0m",
            "\u001b[0;31mKeyboardInterrupt\u001b[0m                         Traceback (most recent call last)",
            "\u001b[0;32m<ipython-input-26-1f5430e6c5ef>\u001b[0m in \u001b[0;36m<module>\u001b[0;34m\u001b[0m\n\u001b[1;32m      3\u001b[0m \u001b[0mgenerator_uceni\u001b[0m \u001b[0;34m=\u001b[0m \u001b[0mgenerator_augmentovanych_dat\u001b[0m\u001b[0;34m.\u001b[0m\u001b[0mflow\u001b[0m\u001b[0;34m(\u001b[0m\u001b[0mx_train\u001b[0m\u001b[0;34m,\u001b[0m \u001b[0my_train\u001b[0m\u001b[0;34m,\u001b[0m \u001b[0mbatch_velikost\u001b[0m\u001b[0;34m)\u001b[0m\u001b[0;34m\u001b[0m\u001b[0;34m\u001b[0m\u001b[0m\n\u001b[1;32m      4\u001b[0m \u001b[0mnkroku_na_epochu\u001b[0m \u001b[0;34m=\u001b[0m \u001b[0mx_train\u001b[0m\u001b[0;34m.\u001b[0m\u001b[0mshape\u001b[0m\u001b[0;34m[\u001b[0m\u001b[0;36m0\u001b[0m\u001b[0;34m]\u001b[0m \u001b[0;34m//\u001b[0m \u001b[0mbatch_velikost\u001b[0m\u001b[0;34m\u001b[0m\u001b[0;34m\u001b[0m\u001b[0m\n\u001b[0;32m----> 5\u001b[0;31m \u001b[0mresult\u001b[0m \u001b[0;34m=\u001b[0m \u001b[0mmodel\u001b[0m\u001b[0;34m.\u001b[0m\u001b[0mfit\u001b[0m\u001b[0;34m(\u001b[0m\u001b[0mgenerator_uceni\u001b[0m\u001b[0;34m,\u001b[0m \u001b[0mvalidation_data\u001b[0m\u001b[0;34m=\u001b[0m\u001b[0;34m(\u001b[0m\u001b[0mx_test\u001b[0m\u001b[0;34m,\u001b[0m \u001b[0my_test\u001b[0m\u001b[0;34m)\u001b[0m\u001b[0;34m,\u001b[0m \u001b[0msteps_per_epoch\u001b[0m\u001b[0;34m=\u001b[0m\u001b[0mnkroku_na_epochu\u001b[0m\u001b[0;34m,\u001b[0m \u001b[0mepochs\u001b[0m\u001b[0;34m=\u001b[0m\u001b[0;36m50\u001b[0m\u001b[0;34m)\u001b[0m\u001b[0;34m\u001b[0m\u001b[0;34m\u001b[0m\u001b[0m\n\u001b[0m",
            "\u001b[0;32m/usr/local/lib/python3.7/dist-packages/keras/utils/traceback_utils.py\u001b[0m in \u001b[0;36merror_handler\u001b[0;34m(*args, **kwargs)\u001b[0m\n\u001b[1;32m     62\u001b[0m     \u001b[0mfiltered_tb\u001b[0m \u001b[0;34m=\u001b[0m \u001b[0;32mNone\u001b[0m\u001b[0;34m\u001b[0m\u001b[0;34m\u001b[0m\u001b[0m\n\u001b[1;32m     63\u001b[0m     \u001b[0;32mtry\u001b[0m\u001b[0;34m:\u001b[0m\u001b[0;34m\u001b[0m\u001b[0;34m\u001b[0m\u001b[0m\n\u001b[0;32m---> 64\u001b[0;31m       \u001b[0;32mreturn\u001b[0m \u001b[0mfn\u001b[0m\u001b[0;34m(\u001b[0m\u001b[0;34m*\u001b[0m\u001b[0margs\u001b[0m\u001b[0;34m,\u001b[0m \u001b[0;34m**\u001b[0m\u001b[0mkwargs\u001b[0m\u001b[0;34m)\u001b[0m\u001b[0;34m\u001b[0m\u001b[0;34m\u001b[0m\u001b[0m\n\u001b[0m\u001b[1;32m     65\u001b[0m     \u001b[0;32mexcept\u001b[0m \u001b[0mException\u001b[0m \u001b[0;32mas\u001b[0m \u001b[0me\u001b[0m\u001b[0;34m:\u001b[0m  \u001b[0;31m# pylint: disable=broad-except\u001b[0m\u001b[0;34m\u001b[0m\u001b[0;34m\u001b[0m\u001b[0m\n\u001b[1;32m     66\u001b[0m       \u001b[0mfiltered_tb\u001b[0m \u001b[0;34m=\u001b[0m \u001b[0m_process_traceback_frames\u001b[0m\u001b[0;34m(\u001b[0m\u001b[0me\u001b[0m\u001b[0;34m.\u001b[0m\u001b[0m__traceback__\u001b[0m\u001b[0;34m)\u001b[0m\u001b[0;34m\u001b[0m\u001b[0;34m\u001b[0m\u001b[0m\n",
            "\u001b[0;32m/usr/local/lib/python3.7/dist-packages/keras/engine/training.py\u001b[0m in \u001b[0;36mfit\u001b[0;34m(self, x, y, batch_size, epochs, verbose, callbacks, validation_split, validation_data, shuffle, class_weight, sample_weight, initial_epoch, steps_per_epoch, validation_steps, validation_batch_size, validation_freq, max_queue_size, workers, use_multiprocessing)\u001b[0m\n\u001b[1;32m   1407\u001b[0m                 _r=1):\n\u001b[1;32m   1408\u001b[0m               \u001b[0mcallbacks\u001b[0m\u001b[0;34m.\u001b[0m\u001b[0mon_train_batch_begin\u001b[0m\u001b[0;34m(\u001b[0m\u001b[0mstep\u001b[0m\u001b[0;34m)\u001b[0m\u001b[0;34m\u001b[0m\u001b[0;34m\u001b[0m\u001b[0m\n\u001b[0;32m-> 1409\u001b[0;31m               \u001b[0mtmp_logs\u001b[0m \u001b[0;34m=\u001b[0m \u001b[0mself\u001b[0m\u001b[0;34m.\u001b[0m\u001b[0mtrain_function\u001b[0m\u001b[0;34m(\u001b[0m\u001b[0miterator\u001b[0m\u001b[0;34m)\u001b[0m\u001b[0;34m\u001b[0m\u001b[0;34m\u001b[0m\u001b[0m\n\u001b[0m\u001b[1;32m   1410\u001b[0m               \u001b[0;32mif\u001b[0m \u001b[0mdata_handler\u001b[0m\u001b[0;34m.\u001b[0m\u001b[0mshould_sync\u001b[0m\u001b[0;34m:\u001b[0m\u001b[0;34m\u001b[0m\u001b[0;34m\u001b[0m\u001b[0m\n\u001b[1;32m   1411\u001b[0m                 \u001b[0mcontext\u001b[0m\u001b[0;34m.\u001b[0m\u001b[0masync_wait\u001b[0m\u001b[0;34m(\u001b[0m\u001b[0;34m)\u001b[0m\u001b[0;34m\u001b[0m\u001b[0;34m\u001b[0m\u001b[0m\n",
            "\u001b[0;32m/usr/local/lib/python3.7/dist-packages/tensorflow/python/util/traceback_utils.py\u001b[0m in \u001b[0;36merror_handler\u001b[0;34m(*args, **kwargs)\u001b[0m\n\u001b[1;32m    148\u001b[0m     \u001b[0mfiltered_tb\u001b[0m \u001b[0;34m=\u001b[0m \u001b[0;32mNone\u001b[0m\u001b[0;34m\u001b[0m\u001b[0;34m\u001b[0m\u001b[0m\n\u001b[1;32m    149\u001b[0m     \u001b[0;32mtry\u001b[0m\u001b[0;34m:\u001b[0m\u001b[0;34m\u001b[0m\u001b[0;34m\u001b[0m\u001b[0m\n\u001b[0;32m--> 150\u001b[0;31m       \u001b[0;32mreturn\u001b[0m \u001b[0mfn\u001b[0m\u001b[0;34m(\u001b[0m\u001b[0;34m*\u001b[0m\u001b[0margs\u001b[0m\u001b[0;34m,\u001b[0m \u001b[0;34m**\u001b[0m\u001b[0mkwargs\u001b[0m\u001b[0;34m)\u001b[0m\u001b[0;34m\u001b[0m\u001b[0;34m\u001b[0m\u001b[0m\n\u001b[0m\u001b[1;32m    151\u001b[0m     \u001b[0;32mexcept\u001b[0m \u001b[0mException\u001b[0m \u001b[0;32mas\u001b[0m \u001b[0me\u001b[0m\u001b[0;34m:\u001b[0m\u001b[0;34m\u001b[0m\u001b[0;34m\u001b[0m\u001b[0m\n\u001b[1;32m    152\u001b[0m       \u001b[0mfiltered_tb\u001b[0m \u001b[0;34m=\u001b[0m \u001b[0m_process_traceback_frames\u001b[0m\u001b[0;34m(\u001b[0m\u001b[0me\u001b[0m\u001b[0;34m.\u001b[0m\u001b[0m__traceback__\u001b[0m\u001b[0;34m)\u001b[0m\u001b[0;34m\u001b[0m\u001b[0;34m\u001b[0m\u001b[0m\n",
            "\u001b[0;32m/usr/local/lib/python3.7/dist-packages/tensorflow/python/eager/def_function.py\u001b[0m in \u001b[0;36m__call__\u001b[0;34m(self, *args, **kwds)\u001b[0m\n\u001b[1;32m    913\u001b[0m \u001b[0;34m\u001b[0m\u001b[0m\n\u001b[1;32m    914\u001b[0m       \u001b[0;32mwith\u001b[0m \u001b[0mOptionalXlaContext\u001b[0m\u001b[0;34m(\u001b[0m\u001b[0mself\u001b[0m\u001b[0;34m.\u001b[0m\u001b[0m_jit_compile\u001b[0m\u001b[0;34m)\u001b[0m\u001b[0;34m:\u001b[0m\u001b[0;34m\u001b[0m\u001b[0;34m\u001b[0m\u001b[0m\n\u001b[0;32m--> 915\u001b[0;31m         \u001b[0mresult\u001b[0m \u001b[0;34m=\u001b[0m \u001b[0mself\u001b[0m\u001b[0;34m.\u001b[0m\u001b[0m_call\u001b[0m\u001b[0;34m(\u001b[0m\u001b[0;34m*\u001b[0m\u001b[0margs\u001b[0m\u001b[0;34m,\u001b[0m \u001b[0;34m**\u001b[0m\u001b[0mkwds\u001b[0m\u001b[0;34m)\u001b[0m\u001b[0;34m\u001b[0m\u001b[0;34m\u001b[0m\u001b[0m\n\u001b[0m\u001b[1;32m    916\u001b[0m \u001b[0;34m\u001b[0m\u001b[0m\n\u001b[1;32m    917\u001b[0m       \u001b[0mnew_tracing_count\u001b[0m \u001b[0;34m=\u001b[0m \u001b[0mself\u001b[0m\u001b[0;34m.\u001b[0m\u001b[0mexperimental_get_tracing_count\u001b[0m\u001b[0;34m(\u001b[0m\u001b[0;34m)\u001b[0m\u001b[0;34m\u001b[0m\u001b[0;34m\u001b[0m\u001b[0m\n",
            "\u001b[0;32m/usr/local/lib/python3.7/dist-packages/tensorflow/python/eager/def_function.py\u001b[0m in \u001b[0;36m_call\u001b[0;34m(self, *args, **kwds)\u001b[0m\n\u001b[1;32m    945\u001b[0m       \u001b[0;31m# In this case we have created variables on the first call, so we run the\u001b[0m\u001b[0;34m\u001b[0m\u001b[0;34m\u001b[0m\u001b[0;34m\u001b[0m\u001b[0m\n\u001b[1;32m    946\u001b[0m       \u001b[0;31m# defunned version which is guaranteed to never create variables.\u001b[0m\u001b[0;34m\u001b[0m\u001b[0;34m\u001b[0m\u001b[0;34m\u001b[0m\u001b[0m\n\u001b[0;32m--> 947\u001b[0;31m       \u001b[0;32mreturn\u001b[0m \u001b[0mself\u001b[0m\u001b[0;34m.\u001b[0m\u001b[0m_stateless_fn\u001b[0m\u001b[0;34m(\u001b[0m\u001b[0;34m*\u001b[0m\u001b[0margs\u001b[0m\u001b[0;34m,\u001b[0m \u001b[0;34m**\u001b[0m\u001b[0mkwds\u001b[0m\u001b[0;34m)\u001b[0m  \u001b[0;31m# pylint: disable=not-callable\u001b[0m\u001b[0;34m\u001b[0m\u001b[0;34m\u001b[0m\u001b[0m\n\u001b[0m\u001b[1;32m    948\u001b[0m     \u001b[0;32melif\u001b[0m \u001b[0mself\u001b[0m\u001b[0;34m.\u001b[0m\u001b[0m_stateful_fn\u001b[0m \u001b[0;32mis\u001b[0m \u001b[0;32mnot\u001b[0m \u001b[0;32mNone\u001b[0m\u001b[0;34m:\u001b[0m\u001b[0;34m\u001b[0m\u001b[0;34m\u001b[0m\u001b[0m\n\u001b[1;32m    949\u001b[0m       \u001b[0;31m# Release the lock early so that multiple threads can perform the call\u001b[0m\u001b[0;34m\u001b[0m\u001b[0;34m\u001b[0m\u001b[0;34m\u001b[0m\u001b[0m\n",
            "\u001b[0;32m/usr/local/lib/python3.7/dist-packages/tensorflow/python/eager/function.py\u001b[0m in \u001b[0;36m__call__\u001b[0;34m(self, *args, **kwargs)\u001b[0m\n\u001b[1;32m   2452\u001b[0m        filtered_flat_args) = self._maybe_define_function(args, kwargs)\n\u001b[1;32m   2453\u001b[0m     return graph_function._call_flat(\n\u001b[0;32m-> 2454\u001b[0;31m         filtered_flat_args, captured_inputs=graph_function.captured_inputs)  # pylint: disable=protected-access\n\u001b[0m\u001b[1;32m   2455\u001b[0m \u001b[0;34m\u001b[0m\u001b[0m\n\u001b[1;32m   2456\u001b[0m   \u001b[0;34m@\u001b[0m\u001b[0mproperty\u001b[0m\u001b[0;34m\u001b[0m\u001b[0;34m\u001b[0m\u001b[0m\n",
            "\u001b[0;32m/usr/local/lib/python3.7/dist-packages/tensorflow/python/eager/function.py\u001b[0m in \u001b[0;36m_call_flat\u001b[0;34m(self, args, captured_inputs, cancellation_manager)\u001b[0m\n\u001b[1;32m   1859\u001b[0m       \u001b[0;31m# No tape is watching; skip to running the function.\u001b[0m\u001b[0;34m\u001b[0m\u001b[0;34m\u001b[0m\u001b[0;34m\u001b[0m\u001b[0m\n\u001b[1;32m   1860\u001b[0m       return self._build_call_outputs(self._inference_function.call(\n\u001b[0;32m-> 1861\u001b[0;31m           ctx, args, cancellation_manager=cancellation_manager))\n\u001b[0m\u001b[1;32m   1862\u001b[0m     forward_backward = self._select_forward_and_backward_functions(\n\u001b[1;32m   1863\u001b[0m         \u001b[0margs\u001b[0m\u001b[0;34m,\u001b[0m\u001b[0;34m\u001b[0m\u001b[0;34m\u001b[0m\u001b[0m\n",
            "\u001b[0;32m/usr/local/lib/python3.7/dist-packages/tensorflow/python/eager/function.py\u001b[0m in \u001b[0;36mcall\u001b[0;34m(self, ctx, args, cancellation_manager)\u001b[0m\n\u001b[1;32m    500\u001b[0m               \u001b[0minputs\u001b[0m\u001b[0;34m=\u001b[0m\u001b[0margs\u001b[0m\u001b[0;34m,\u001b[0m\u001b[0;34m\u001b[0m\u001b[0;34m\u001b[0m\u001b[0m\n\u001b[1;32m    501\u001b[0m               \u001b[0mattrs\u001b[0m\u001b[0;34m=\u001b[0m\u001b[0mattrs\u001b[0m\u001b[0;34m,\u001b[0m\u001b[0;34m\u001b[0m\u001b[0;34m\u001b[0m\u001b[0m\n\u001b[0;32m--> 502\u001b[0;31m               ctx=ctx)\n\u001b[0m\u001b[1;32m    503\u001b[0m         \u001b[0;32melse\u001b[0m\u001b[0;34m:\u001b[0m\u001b[0;34m\u001b[0m\u001b[0;34m\u001b[0m\u001b[0m\n\u001b[1;32m    504\u001b[0m           outputs = execute.execute_with_cancellation(\n",
            "\u001b[0;32m/usr/local/lib/python3.7/dist-packages/tensorflow/python/eager/execute.py\u001b[0m in \u001b[0;36mquick_execute\u001b[0;34m(op_name, num_outputs, inputs, attrs, ctx, name)\u001b[0m\n\u001b[1;32m     53\u001b[0m     \u001b[0mctx\u001b[0m\u001b[0;34m.\u001b[0m\u001b[0mensure_initialized\u001b[0m\u001b[0;34m(\u001b[0m\u001b[0;34m)\u001b[0m\u001b[0;34m\u001b[0m\u001b[0;34m\u001b[0m\u001b[0m\n\u001b[1;32m     54\u001b[0m     tensors = pywrap_tfe.TFE_Py_Execute(ctx._handle, device_name, op_name,\n\u001b[0;32m---> 55\u001b[0;31m                                         inputs, attrs, num_outputs)\n\u001b[0m\u001b[1;32m     56\u001b[0m   \u001b[0;32mexcept\u001b[0m \u001b[0mcore\u001b[0m\u001b[0;34m.\u001b[0m\u001b[0m_NotOkStatusException\u001b[0m \u001b[0;32mas\u001b[0m \u001b[0me\u001b[0m\u001b[0;34m:\u001b[0m\u001b[0;34m\u001b[0m\u001b[0;34m\u001b[0m\u001b[0m\n\u001b[1;32m     57\u001b[0m     \u001b[0;32mif\u001b[0m \u001b[0mname\u001b[0m \u001b[0;32mis\u001b[0m \u001b[0;32mnot\u001b[0m \u001b[0;32mNone\u001b[0m\u001b[0;34m:\u001b[0m\u001b[0;34m\u001b[0m\u001b[0;34m\u001b[0m\u001b[0m\n",
            "\u001b[0;31mKeyboardInterrupt\u001b[0m: "
          ]
        }
      ]
    },
    {
      "cell_type": "code",
      "source": [
        "plt.plot(result.history['accuracy'], label='acc')\n",
        "plt.plot(result.history['val_accuracy'], label='val_acc')\n",
        "plt.legend()"
      ],
      "metadata": {
        "colab": {
          "base_uri": "https://localhost:8080/",
          "height": 282
        },
        "id": "9Ho5LjGsxlvo",
        "outputId": "a7ad233a-cf20-4077-ebe5-dc16be2320d7"
      },
      "execution_count": null,
      "outputs": [
        {
          "output_type": "execute_result",
          "data": {
            "text/plain": [
              "<matplotlib.legend.Legend at 0x7f3b3657bb90>"
            ]
          },
          "metadata": {},
          "execution_count": 27
        },
        {
          "output_type": "display_data",
          "data": {
            "text/plain": [
              "<Figure size 432x288 with 1 Axes>"
            ],
            "image/png": "[encoded data removed]"
          },
          "metadata": {
            "needs_background": "light"
          }
        }
      ]
    },
    {
      "cell_type": "code",
      "source": [
        "from sklearn.metrics import confusion_matrix\n",
        "import itertools\n",
        "\n",
        "def vykresli_confusion_matrix(cm, kategorie):\n",
        "  plt.imshow(cm, interpolation='nearest', cmap=plt.cm.Blues)\n",
        "  plt.title(\"Confusion matrix\")\n",
        "  plt.colorbar()\n",
        "  tick_marks = np.arange(len(kategorie))\n",
        "  plt.xticks(tick_marks, kategorie, rotation=45)\n",
        "  plt.yticks(tick_marks, kategorie)\n",
        "\n",
        "  fmt = 'd'\n",
        "  thresh = cm.max() / 2.\n",
        "  for i, j in itertools.product(range(cm.shape[0]), range(cm.shape[1])):\n",
        "      plt.text(j, i, format(cm[i, j], fmt), horizontalalignment=\"center\", color=\"white\" if cm[i, j] > thresh else \"black\")\n",
        "\n",
        "  plt.tight_layout()\n",
        "  plt.ylabel('Skutečnost')\n",
        "  plt.xlabel('Předpověď')\n",
        "  plt.show()\n",
        "\n",
        "predikce_test = model.predict(x_test).argmax(axis=1)\n",
        "cm = confusion_matrix(y_test, predikce_test)\n",
        "vykresli_confusion_matrix(cm, kategorie=list(range(10)))"
      ],
      "metadata": {
        "colab": {
          "base_uri": "https://localhost:8080/",
          "height": 329
        },
        "id": "U-ViA3aZxnTW",
        "outputId": "7504d251-05f2-46e9-bb76-8a88467a6f71"
      },
      "execution_count": null,
      "outputs": [
        {
          "output_type": "stream",
          "name": "stdout",
          "text": [
            "313/313 [==============================] - 37s 116ms/step\n"
          ]
        },
        {
          "output_type": "display_data",
          "data": {
            "text/plain": [
              "<Figure size 432x288 with 2 Axes>"
            ],
            "image/png": "[encoded data removed]"
          },
          "metadata": {
            "needs_background": "light"
          }
        }
      ]
    },
    {
      "cell_type": "code",
      "source": [
        "indexy_spatne_uhadlych = np.where(predikce_test != y_test)[0]\n",
        "random_index = np.random.choice(indexy_spatne_uhadlych)\n",
        "plt.imshow(x_test[random_index], cmap='gray')\n",
        "plt.title(f\"Skutečnost: {kategorie[y_test[random_index]]} Odhadnuto jako: {kategorie[predikce_test[random_index]]}\")"
      ],
      "metadata": {
        "colab": {
          "base_uri": "https://localhost:8080/",
          "height": 298
        },
        "id": "OR96qzQixo-h",
        "outputId": "dfe3facf-7e21-44e4-db03-21867d7488ef"
      },
      "execution_count": null,
      "outputs": [
        {
          "output_type": "execute_result",
          "data": {
            "text/plain": [
              "Text(0.5, 1.0, 'Skutečnost: loď Odhadnuto jako: letadlo')"
            ]
          },
          "metadata": {},
          "execution_count": 29
        },
        {
          "output_type": "display_data",
          "data": {
            "text/plain": [
              "<Figure size 432x288 with 1 Axes>"
            ],
            "image/png": "[encoded data removed]"
          },
          "metadata": {
            "needs_background": "light"
          }
        }
      ]
    },
    {
      "cell_type": "code",
      "source": [
        "model.summary()"
      ],
      "metadata": {
        "colab": {
          "base_uri": "https://localhost:8080/"
        },
        "id": "Abm8cypixrZZ",
        "outputId": "cf491d28-52e2-4118-b729-052236acf972"
      },
      "execution_count": null,
      "outputs": [
        {
          "output_type": "stream",
          "name": "stdout",
          "text": [
            "Model: \"model_1\"\n",
            "_________________________________________________________________\n",
            " Layer (type)                Output Shape              Param #   \n",
            "=================================================================\n",
            " input_2 (InputLayer)        [(None, 32, 32, 3)]       0         \n",
            "                                                                 \n",
            " conv2d_3 (Conv2D)           (None, 32, 32, 32)        896       \n",
            "                                                                 \n",
            " batch_normalization (BatchN  (None, 32, 32, 32)       128       \n",
            " ormalization)                                                   \n",
            "                                                                 \n",
            " conv2d_4 (Conv2D)           (None, 32, 32, 32)        9248      \n",
            "                                                                 \n",
            " batch_normalization_1 (Batc  (None, 32, 32, 32)       128       \n",
            " hNormalization)                                                 \n",
            "                                                                 \n",
            " max_pooling2d (MaxPooling2D  (None, 16, 16, 32)       0         \n",
            " )                                                               \n",
            "                                                                 \n",
            " conv2d_5 (Conv2D)           (None, 16, 16, 64)        18496     \n",
            "                                                                 \n",
            " batch_normalization_2 (Batc  (None, 16, 16, 64)       256       \n",
            " hNormalization)                                                 \n",
            "                                                                 \n",
            " conv2d_6 (Conv2D)           (None, 16, 16, 64)        36928     \n",
            "                                                                 \n",
            " batch_normalization_3 (Batc  (None, 16, 16, 64)       256       \n",
            " hNormalization)                                                 \n",
            "                                                                 \n",
            " max_pooling2d_1 (MaxPooling  (None, 8, 8, 64)         0         \n",
            " 2D)                                                             \n",
            "                                                                 \n",
            " conv2d_7 (Conv2D)           (None, 8, 8, 128)         73856     \n",
            "                                                                 \n",
            " batch_normalization_4 (Batc  (None, 8, 8, 128)        512       \n",
            " hNormalization)                                                 \n",
            "                                                                 \n",
            " conv2d_8 (Conv2D)           (None, 8, 8, 128)         147584    \n",
            "                                                                 \n",
            " batch_normalization_5 (Batc  (None, 8, 8, 128)        512       \n",
            " hNormalization)                                                 \n",
            "                                                                 \n",
            " max_pooling2d_2 (MaxPooling  (None, 4, 4, 128)        0         \n",
            " 2D)                                                             \n",
            "                                                                 \n",
            " flatten_1 (Flatten)         (None, 2048)              0         \n",
            "                                                                 \n",
            " dropout_2 (Dropout)         (None, 2048)              0         \n",
            "                                                                 \n",
            " dense_2 (Dense)             (None, 1024)              2098176   \n",
            "                                                                 \n",
            " dropout_3 (Dropout)         (None, 1024)              0         \n",
            "                                                                 \n",
            " dense_3 (Dense)             (None, 10)                10250     \n",
            "                                                                 \n",
            "=================================================================\n",
            "Total params: 2,397,226\n",
            "Trainable params: 2,396,330\n",
            "Non-trainable params: 896\n",
            "_________________________________________________________________\n"
          ]
        }
      ]
    }
  ]
}