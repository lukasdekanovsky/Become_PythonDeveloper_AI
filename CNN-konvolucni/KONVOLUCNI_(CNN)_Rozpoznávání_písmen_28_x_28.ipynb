{
  "nbformat": 4,
  "nbformat_minor": 0,
  "metadata": {
    "colab": {
      "provenance": [],
      "include_colab_link": true
    },
    "kernelspec": {
      "name": "python3",
      "display_name": "Python 3"
    },
    "language_info": {
      "name": "python"
    }
  },
  "cells": [
    {
      "cell_type": "markdown",
      "metadata": {
        "id": "view-in-github",
        "colab_type": "text"
      },
      "source": [
        "<a href=\"https://colab.research.google.com/github/lukasdekanovsky/Become_PythonDeveloper_AI/blob/main/KONVOLUCNI_(CNN)_Rozpozn%C3%A1v%C3%A1n%C3%AD_p%C3%ADsmen_28_x_28.ipynb\" target=\"_parent\"><img src=\"https://colab.research.google.com/assets/colab-badge.svg\" alt=\"Open In Colab\"/></a>"
      ]
    },
    {
      "cell_type": "markdown",
      "metadata": {
        "id": "CuSd2d0Rg9fb"
      },
      "source": [
        "#Neuronová síť pro rozpoznání písmen\n"
      ]
    },
    {
      "cell_type": "markdown",
      "metadata": {
        "id": "vLBqxi818S_k"
      },
      "source": [
        "###Úkol ML1.2) Rozpoznání písmen\n",
        "V této lekci jste viděli, jak rozpoznat psané číslice. Zkuste si úlohu předělat na rozpoznání psaných písmen. Datová sada pro písmena se jmenuje EMNIST: https://www.nist.gov/itl/products-and-services/emnist-dataset"
      ]
    },
    {
      "cell_type": "code",
      "source": [
        "pip install extra-keras-datasets"
      ],
      "metadata": {
        "id": "J2DbtxQby9Ld"
      },
      "execution_count": null,
      "outputs": []
    },
    {
      "cell_type": "code",
      "source": [
        "import tensorflow as tf"
      ],
      "metadata": {
        "id": "Ibps-cDAwBGb"
      },
      "execution_count": null,
      "outputs": []
    },
    {
      "cell_type": "code",
      "source": [
        "from extra_keras_datasets import emnist"
      ],
      "metadata": {
        "id": "MwnTYwRQ6CrP"
      },
      "execution_count": null,
      "outputs": []
    },
    {
      "cell_type": "code",
      "source": [
        "import matplotlib as mpl\n",
        "import matplotlib.pyplot as plt"
      ],
      "metadata": {
        "id": "KyulaLnEzDNy"
      },
      "execution_count": null,
      "outputs": []
    },
    {
      "cell_type": "code",
      "source": [
        "(x_train, y_train), (x_test, y_test) = emnist.load_data(type=\"letters\")\n",
        "#další digits, ByClass, letters ....\n",
        "#https://github.com/christianversloot/machine-learning-articles/blob/main/making-more-datasets-available-for-keras.md"
      ],
      "metadata": {
        "id": "hyzp1zyMwGrN"
      },
      "execution_count": null,
      "outputs": []
    },
    {
      "cell_type": "code",
      "source": [
        "#formát dat v datové sadě emnist - 26 typů/písmen na obrázcích 28x28\n",
        "print(x_train[0])\n",
        "print(y_train[0])\n",
        "#print(x_train.shape) #počet záznamů a AxB pixelu (124800, 28, 28)"
      ],
      "metadata": {
        "colab": {
          "base_uri": "https://localhost:8080/"
        },
        "id": "LjacSSDtwIZQ",
        "outputId": "e149bef0-c7e7-44b0-e499-06244f57b2cd"
      },
      "execution_count": null,
      "outputs": [
        {
          "output_type": "stream",
          "name": "stdout",
          "text": [
            "[[  0   0   0   0   0   0   0   0   0   0   0   0   0   0   0   0   0   0\n",
            "    0   0   0   0   0   0   0   0   0   0]\n",
            " [  0   0   0   0   3   4   0   0   0   0   0   0   0   0   0   0   0   0\n",
            "    0   0   0   0   0   0   0   0   0   0]\n",
            " [  0   0   0  20 109 114  45   0   0   0   0   0   0   0   0   0   0   0\n",
            "    0   0   0   0   0   0   0   0   0   0]\n",
            " [  0   0   0 114 245 253 214   5   0   0   0   0   0  20 100  33   1   0\n",
            "    0   0   0   0   0   0   0   0   0   0]\n",
            " [  0   0   0 125 249 254 233  22   0   0   0   0  10 123 238 163  33   0\n",
            "    0   0   0   2   4   4   0   0   0   0]\n",
            " [  0   0   0  82 233 254 251  82   2   0   0   3  79 220 254 244 126   0\n",
            "    0   0   3  77 125 113   8   0   0   0]\n",
            " [  0   0   0  37 217 254 254 128   5   0   0  34 204 254 255 254 216   5\n",
            "    0  22 154 247 254 253 111   3   0   0]\n",
            " [  0   0   0  37 217 254 254 160  16   0   3  84 233 254 255 254 233  22\n",
            "   10  95 232 254 254 246  77   2   0   0]\n",
            " [  0   0   0  39 217 254 254 184  25   0  34 175 251 254 255 254 250  82\n",
            "  128 221 253 255 252 177   8   0   0   0]\n",
            " [  0   0   0 115 245 254 254 217  37   9 175 251 254 255 255 255 254 251\n",
            "  254 254 254 254 232 109   0   0   0   0]\n",
            " [  0   0   1 157 251 254 255 217  40  77 246 254 255 255 255 255 255 255\n",
            "  255 255 254 242 131  22   0   0   0   0]\n",
            " [  0   0   0  94 234 254 255 218  50 140 254 254 255 255 255 255 255 255\n",
            "  255 254 252 131  32   0   0   0   0   0]\n",
            " [  0   0   0  21 172 252 255 249 227 247 254 253 239 248 254 255 255 255\n",
            "  254 253 207   9   0   0   0   0   0   0]\n",
            " [  0   0   0  10 142 251 255 254 254 254 254 234 116 165 253 254 255 255\n",
            "  254 234  95   0   0   0   0   0   0   0]\n",
            " [  0   0   0  32 203 254 255 255 255 254 253 202  35  37 235 254 255 255\n",
            "  254 217  39   0   0   0   0   0   0   0]\n",
            " [  0   0   0  37 217 254 255 255 255 254 221  91   7  21 234 254 255 255\n",
            "  254 215  37   0   0   0   0   0   0   0]\n",
            " [  0   0   0  37 217 254 255 255 254 254 115   4   0  32 245 254 255 254\n",
            "  246 127   8   0   0   0   0   0   0   0]\n",
            " [  0   0   0  37 217 254 255 255 254 244  46   0   0   9 222 254 255 254\n",
            "  208  46   0   0   0   0   0   0   0   0]\n",
            " [  0   0   0  37 217 254 255 255 252 177   7   0   0   4 217 254 255 250\n",
            "  140   9   0   0   0   0   0   0   0   0]\n",
            " [  0   0   0  37 217 254 255 254 245 114   0   0   0   4 217 254 255 233\n",
            "   82   2   0   0   0   0   0   0   0   0]\n",
            " [  0   0   0  37 217 254 255 254 220  50   0   0   0   4 217 254 254 217\n",
            "   39   0   0   0   0   0   0   0   0   0]\n",
            " [  0   0   0  37 217 254 255 247 159  20   0   0   0   4 203 254 254 203\n",
            "   32   0   0   0   0   0   0   0   0   0]\n",
            " [  0   0   0  82 233 254 254 216  38   0   0   0   0   0 115 240 233 110\n",
            "    4   0   0   0   0   0   0   0   0   0]\n",
            " [  0   0   0 125 249 254 254 170  21   0   0   0   0   0  32 111  82  18\n",
            "    0   0   0   0   0   0   0   0   0   0]\n",
            " [  0   0   0 114 245 254 251  83   3   0   0   0   0   0   0   3   2   0\n",
            "    0   0   0   0   0   0   0   0   0   0]\n",
            " [  0   0   0  20 109 127 113   7   0   0   0   0   0   0   0   0   0   0\n",
            "    0   0   0   0   0   0   0   0   0   0]\n",
            " [  0   0   0   0   3   4   4   0   0   0   0   0   0   0   0   0   0   0\n",
            "    0   0   0   0   0   0   0   0   0   0]\n",
            " [  0   0   0   0   0   0   0   0   0   0   0   0   0   0   0   0   0   0\n",
            "    0   0   0   0   0   0   0   0   0   0]]\n",
            "23\n"
          ]
        }
      ]
    },
    {
      "cell_type": "code",
      "source": [
        "#vyobrazení dat graficky\n",
        "from matplotlib import pyplot as plt\n",
        "\n",
        "pixels = x_train[84]\n",
        "plt.imshow(pixels, cmap=\"gray\")\n",
        "print(y_train[84])"
      ],
      "metadata": {
        "colab": {
          "base_uri": "https://localhost:8080/",
          "height": 282
        },
        "id": "CdjfGb057dXI",
        "outputId": "da6316f7-a849-4094-8f73-8827348218a6"
      },
      "execution_count": null,
      "outputs": [
        {
          "output_type": "stream",
          "name": "stdout",
          "text": [
            "19\n"
          ]
        },
        {
          "output_type": "display_data",
          "data": {
            "text/plain": [
              "<Figure size 432x288 with 1 Axes>"
            ],
            "image/png": "[encoded data removed]"
          },
          "metadata": {
            "needs_background": "light"
          }
        }
      ]
    },
    {
      "cell_type": "code",
      "source": [
        "#Datová normalizace - v rozsahu 0-1\n",
        "x_train = x_train / 255.0\n",
        "x_text = x_test / 255.0\n",
        "\n",
        "print(x_train[0])"
      ],
      "metadata": {
        "id": "iiDV1FrOBJrh"
      },
      "execution_count": null,
      "outputs": []
    },
    {
      "cell_type": "code",
      "source": [
        "#tvorba neuronové sítě\n",
        "vstupni = tf.keras.layers.Flatten(input_shape=(28, 28))\n",
        "\n",
        "skryta = tf.keras.layers.Dense(128, activation=\"relu\")\n",
        "\n",
        "zahazujici = tf.keras.layers.Dropout(0.15)\n",
        "\n",
        "vystupni = tf.keras.layers.Dense(27) #máme 26 znaku abecedy\n",
        "\n",
        "neuronova_sit = tf.keras.models.Sequential([vstupni, skryta, zahazujici, vystupni])\n"
      ],
      "metadata": {
        "id": "xECTfKMeBXa4"
      },
      "execution_count": null,
      "outputs": []
    },
    {
      "cell_type": "code",
      "source": [
        "# Predikce sítě bez cvičení pro 1. písmenko\n",
        "\n",
        "odhady = neuronova_sit(x_test[:5]).numpy()\n",
        "odhady = tf.nn.softmax(odhady).numpy()\n",
        "skutecnost = y_test[:5]\n",
        "\n",
        "\n",
        "for iodhad, odhad in enumerate(odhady):\n",
        "  for cislo, pravdepodobnost in enumerate(odhad):\n",
        "    print(f\"{cislo}, {round(pravdepodobnost*100, 2)}%\")\n",
        "  print(f\"skutecnost: {skutecnost[iodhad]}\\n\")"
      ],
      "metadata": {
        "id": "E647KH2LAHI5"
      },
      "execution_count": null,
      "outputs": []
    },
    {
      "cell_type": "code",
      "source": [
        "ztratova_funkce = tf.keras.losses.SparseCategoricalCrossentropy(from_logits=True)"
      ],
      "metadata": {
        "id": "OINyDPiHDgQG"
      },
      "execution_count": null,
      "outputs": []
    },
    {
      "cell_type": "code",
      "source": [
        "neuronova_sit.compile(optimizer=\"adam\", loss=ztratova_funkce, metrics=[\"accuracy\"])"
      ],
      "metadata": {
        "id": "A493_cyTDiRw"
      },
      "execution_count": null,
      "outputs": []
    },
    {
      "cell_type": "code",
      "source": [
        "neuronova_sit.fit(x_train, y_train, epochs=5)"
      ],
      "metadata": {
        "id": "lRx0_hctDjFi"
      },
      "execution_count": null,
      "outputs": []
    },
    {
      "cell_type": "code",
      "source": [
        "#vyhodnocení učení\n",
        "neuronova_sit.evaluate(x_test, y_test)\n"
      ],
      "metadata": {
        "id": "0RHbmluOOfAH"
      },
      "execution_count": null,
      "outputs": []
    },
    {
      "cell_type": "code",
      "source": [
        "!curl -O https://raw.githubusercontent.com/do-community/tensorflow-digit-recognition/master/test_img.png"
      ],
      "metadata": {
        "colab": {
          "base_uri": "https://localhost:8080/"
        },
        "id": "-sj_IR7KOjIK",
        "outputId": "43ff5303-f366-4950-c261-1b4e75cd2889"
      },
      "execution_count": null,
      "outputs": [
        {
          "output_type": "stream",
          "name": "stdout",
          "text": [
            "  % Total    % Received % Xferd  Average Speed   Time    Time     Time  Current\n",
            "                                 Dload  Upload   Total   Spent    Left  Speed\n",
            "\r  0     0    0     0    0     0      0      0 --:--:-- --:--:-- --:--:--     0\r100   393  100   393    0     0   2847      0 --:--:-- --:--:-- --:--:--  2847\n"
          ]
        }
      ]
    },
    {
      "cell_type": "code",
      "source": [
        "#ověření funkčnosti na našem obrázku\n",
        "from google.colab import files\n",
        "nahrany_soubor = files.upload()"
      ],
      "metadata": {
        "colab": {
          "base_uri": "https://localhost:8080/",
          "height": 73
        },
        "id": "I3yy5hrJO_aX",
        "outputId": "acd0a991-e8d5-4602-e88b-f9ba128756e6"
      },
      "execution_count": null,
      "outputs": [
        {
          "output_type": "display_data",
          "data": {
            "text/plain": [
              "<IPython.core.display.HTML object>"
            ],
            "text/html": [
              "\n",
              "     <input type=\"file\" id=\"files-60c68044-8705-4314-9593-73eb05583520\" name=\"files[]\" multiple disabled\n",
              "        style=\"border:none\" />\n",
              "     <output id=\"result-60c68044-8705-4314-9593-73eb05583520\">\n",
              "      Upload widget is only available when the cell has been executed in the\n",
              "      current browser session. Please rerun this cell to enable.\n",
              "      </output>\n",
              "      <script>// Copyright 2017 Google LLC\n",
              "//\n",
              "// Licensed under the Apache License, Version 2.0 (the \"License\");\n",
              "// you may not use this file except in compliance with the License.\n",
              "// You may obtain a copy of the License at\n",
              "//\n",
              "//      http://www.apache.org/licenses/LICENSE-2.0\n",
              "//\n",
              "// Unless required by applicable law or agreed to in writing, software\n",
              "// distributed under the License is distributed on an \"AS IS\" BASIS,\n",
              "// WITHOUT WARRANTIES OR CONDITIONS OF ANY KIND, either express or implied.\n",
              "// See the License for the specific language governing permissions and\n",
              "// limitations under the License.\n",
              "\n",
              "/**\n",
              " * @fileoverview Helpers for google.colab Python module.\n",
              " */\n",
              "(function(scope) {\n",
              "function span(text, styleAttributes = {}) {\n",
              "  const element = document.createElement('span');\n",
              "  element.textContent = text;\n",
              "  for (const key of Object.keys(styleAttributes)) {\n",
              "    element.style[key] = styleAttributes[key];\n",
              "  }\n",
              "  return element;\n",
              "}\n",
              "\n",
              "// Max number of bytes which will be uploaded at a time.\n",
              "const MAX_PAYLOAD_SIZE = 100 * 1024;\n",
              "\n",
              "function _uploadFiles(inputId, outputId) {\n",
              "  const steps = uploadFilesStep(inputId, outputId);\n",
              "  const outputElement = document.getElementById(outputId);\n",
              "  // Cache steps on the outputElement to make it available for the next call\n",
              "  // to uploadFilesContinue from Python.\n",
              "  outputElement.steps = steps;\n",
              "\n",
              "  return _uploadFilesContinue(outputId);\n",
              "}\n",
              "\n",
              "// This is roughly an async generator (not supported in the browser yet),\n",
              "// where there are multiple asynchronous steps and the Python side is going\n",
              "// to poll for completion of each step.\n",
              "// This uses a Promise to block the python side on completion of each step,\n",
              "// then passes the result of the previous step as the input to the next step.\n",
              "function _uploadFilesContinue(outputId) {\n",
              "  const outputElement = document.getElementById(outputId);\n",
              "  const steps = outputElement.steps;\n",
              "\n",
              "  const next = steps.next(outputElement.lastPromiseValue);\n",
              "  return Promise.resolve(next.value.promise).then((value) => {\n",
              "    // Cache the last promise value to make it available to the next\n",
              "    // step of the generator.\n",
              "    outputElement.lastPromiseValue = value;\n",
              "    return next.value.response;\n",
              "  });\n",
              "}\n",
              "\n",
              "/**\n",
              " * Generator function which is called between each async step of the upload\n",
              " * process.\n",
              " * @param {string} inputId Element ID of the input file picker element.\n",
              " * @param {string} outputId Element ID of the output display.\n",
              " * @return {!Iterable<!Object>} Iterable of next steps.\n",
              " */\n",
              "function* uploadFilesStep(inputId, outputId) {\n",
              "  const inputElement = document.getElementById(inputId);\n",
              "  inputElement.disabled = false;\n",
              "\n",
              "  const outputElement = document.getElementById(outputId);\n",
              "  outputElement.innerHTML = '';\n",
              "\n",
              "  const pickedPromise = new Promise((resolve) => {\n",
              "    inputElement.addEventListener('change', (e) => {\n",
              "      resolve(e.target.files);\n",
              "    });\n",
              "  });\n",
              "\n",
              "  const cancel = document.createElement('button');\n",
              "  inputElement.parentElement.appendChild(cancel);\n",
              "  cancel.textContent = 'Cancel upload';\n",
              "  const cancelPromise = new Promise((resolve) => {\n",
              "    cancel.onclick = () => {\n",
              "      resolve(null);\n",
              "    };\n",
              "  });\n",
              "\n",
              "  // Wait for the user to pick the files.\n",
              "  const files = yield {\n",
              "    promise: Promise.race([pickedPromise, cancelPromise]),\n",
              "    response: {\n",
              "      action: 'starting',\n",
              "    }\n",
              "  };\n",
              "\n",
              "  cancel.remove();\n",
              "\n",
              "  // Disable the input element since further picks are not allowed.\n",
              "  inputElement.disabled = true;\n",
              "\n",
              "  if (!files) {\n",
              "    return {\n",
              "      response: {\n",
              "        action: 'complete',\n",
              "      }\n",
              "    };\n",
              "  }\n",
              "\n",
              "  for (const file of files) {\n",
              "    const li = document.createElement('li');\n",
              "    li.append(span(file.name, {fontWeight: 'bold'}));\n",
              "    li.append(span(\n",
              "        `(${file.type || 'n/a'}) - ${file.size} bytes, ` +\n",
              "        `last modified: ${\n",
              "            file.lastModifiedDate ? file.lastModifiedDate.toLocaleDateString() :\n",
              "                                    'n/a'} - `));\n",
              "    const percent = span('0% done');\n",
              "    li.appendChild(percent);\n",
              "\n",
              "    outputElement.appendChild(li);\n",
              "\n",
              "    const fileDataPromise = new Promise((resolve) => {\n",
              "      const reader = new FileReader();\n",
              "      reader.onload = (e) => {\n",
              "        resolve(e.target.result);\n",
              "      };\n",
              "      reader.readAsArrayBuffer(file);\n",
              "    });\n",
              "    // Wait for the data to be ready.\n",
              "    let fileData = yield {\n",
              "      promise: fileDataPromise,\n",
              "      response: {\n",
              "        action: 'continue',\n",
              "      }\n",
              "    };\n",
              "\n",
              "    // Use a chunked sending to avoid message size limits. See b/62115660.\n",
              "    let position = 0;\n",
              "    do {\n",
              "      const length = Math.min(fileData.byteLength - position, MAX_PAYLOAD_SIZE);\n",
              "      const chunk = new Uint8Array(fileData, position, length);\n",
              "      position += length;\n",
              "\n",
              "      const base64 = btoa(String.fromCharCode.apply(null, chunk));\n",
              "      yield {\n",
              "        response: {\n",
              "          action: 'append',\n",
              "          file: file.name,\n",
              "          data: base64,\n",
              "        },\n",
              "      };\n",
              "\n",
              "      let percentDone = fileData.byteLength === 0 ?\n",
              "          100 :\n",
              "          Math.round((position / fileData.byteLength) * 100);\n",
              "      percent.textContent = `${percentDone}% done`;\n",
              "\n",
              "    } while (position < fileData.byteLength);\n",
              "  }\n",
              "\n",
              "  // All done.\n",
              "  yield {\n",
              "    response: {\n",
              "      action: 'complete',\n",
              "    }\n",
              "  };\n",
              "}\n",
              "\n",
              "scope.google = scope.google || {};\n",
              "scope.google.colab = scope.google.colab || {};\n",
              "scope.google.colab._files = {\n",
              "  _uploadFiles,\n",
              "  _uploadFilesContinue,\n",
              "};\n",
              "})(self);\n",
              "</script> "
            ]
          },
          "metadata": {}
        },
        {
          "output_type": "stream",
          "name": "stdout",
          "text": [
            "Saving pismenko-x.png to pismenko-x.png\n"
          ]
        }
      ]
    },
    {
      "cell_type": "code",
      "source": [
        "#zobrazení našeho obrázku\n",
        "from PIL import Image\n",
        "import numpy as np\n",
        "\n",
        "jmeno_souboru = list(nahrany_soubor.keys())[0]\n",
        "obrazek = Image.open(jmeno_souboru)\n",
        "display(obrazek)"
      ],
      "metadata": {
        "colab": {
          "base_uri": "https://localhost:8080/",
          "height": 45
        },
        "id": "IjZP8dhRPGpk",
        "outputId": "d2c12a18-3d4e-4943-8776-c267049e81f5"
      },
      "execution_count": null,
      "outputs": [
        {
          "output_type": "display_data",
          "data": {
            "text/plain": [
              "<PIL.PngImagePlugin.PngImageFile image mode=RGBA size=28x28 at 0x7F3A2DC1F3D0>"
            ],
            "image/png": "[encoded data removed]"
          },
          "metadata": {}
        }
      ]
    },
    {
      "cell_type": "code",
      "source": [
        "#přeformátujeme si náš obrázek do podoby v jaké se učila neuronová síť\n",
        "from matplotlib import pyplot as plt\n",
        "plt.imshow(x_train[0], cmap=\"gray\")"
      ],
      "metadata": {
        "colab": {
          "base_uri": "https://localhost:8080/",
          "height": 282
        },
        "id": "EWVQylR9PIbu",
        "outputId": "dc35ff5a-d726-42f8-f9e2-ae5685bd76c6"
      },
      "execution_count": null,
      "outputs": [
        {
          "output_type": "execute_result",
          "data": {
            "text/plain": [
              "<matplotlib.image.AxesImage at 0x7f3a2dcee110>"
            ]
          },
          "metadata": {},
          "execution_count": 158
        },
        {
          "output_type": "display_data",
          "data": {
            "text/plain": [
              "<Figure size 432x288 with 1 Axes>"
            ],
            "image/png": "[encoded data removed]"
          },
          "metadata": {
            "needs_background": "light"
          }
        }
      ]
    },
    {
      "cell_type": "code",
      "source": [
        "from PIL import ImageOps\n",
        "\n",
        "x = ImageOps.grayscale(obrazek) # odstiny_sedi\n",
        "x = ImageOps.invert(x) # inverze_barev\n",
        "#x = x.convert('1') # binarizovany_obrazek\n",
        "x = np.array(x)\n",
        "x = x / 255"
      ],
      "metadata": {
        "id": "HlaQTV0BPMuS"
      },
      "execution_count": null,
      "outputs": []
    },
    {
      "cell_type": "code",
      "source": [
        "plt.imshow(x, cmap=\"gray\")"
      ],
      "metadata": {
        "colab": {
          "base_uri": "https://localhost:8080/",
          "height": 282
        },
        "id": "twNEzdrqPPdv",
        "outputId": "8cddcd39-69e0-4106-a12d-2db81d7671ac"
      },
      "execution_count": null,
      "outputs": [
        {
          "output_type": "execute_result",
          "data": {
            "text/plain": [
              "<matplotlib.image.AxesImage at 0x7f3a2dbbfd50>"
            ]
          },
          "metadata": {},
          "execution_count": 167
        },
        {
          "output_type": "display_data",
          "data": {
            "text/plain": [
              "<Figure size 432x288 with 1 Axes>"
            ],
            "image/png": "[encoded data removed]"
          },
          "metadata": {
            "needs_background": "light"
          }
        }
      ]
    },
    {
      "cell_type": "code",
      "source": [
        "print(x.shape)"
      ],
      "metadata": {
        "colab": {
          "base_uri": "https://localhost:8080/"
        },
        "id": "V7mDxOMPPRSm",
        "outputId": "29299ee0-1cf7-43cc-b9dc-8e4bb8ed585d"
      },
      "execution_count": null,
      "outputs": [
        {
          "output_type": "stream",
          "name": "stdout",
          "text": [
            "(28, 28)\n"
          ]
        }
      ]
    },
    {
      "cell_type": "code",
      "source": [
        "x = np.expand_dims(x, axis=0)\n",
        "x.shape"
      ],
      "metadata": {
        "colab": {
          "base_uri": "https://localhost:8080/"
        },
        "id": "g72wg2NJPS5c",
        "outputId": "89cb09ae-6769-4990-c482-0fce8b544e49"
      },
      "execution_count": null,
      "outputs": [
        {
          "output_type": "execute_result",
          "data": {
            "text/plain": [
              "(1, 28, 28)"
            ]
          },
          "metadata": {},
          "execution_count": 169
        }
      ]
    },
    {
      "cell_type": "code",
      "source": [
        "odhady = neuronova_sit(x).numpy()\n",
        "odhady = tf.nn.softmax(odhady).numpy()\n",
        "\n",
        "for iodhad, odhad in enumerate(odhady):\n",
        "    for cislo, pravdepodobnost in enumerate(odhad):\n",
        "        print(f\"{cislo},{round(pravdepodobnost*100, 2)}%\")"
      ],
      "metadata": {
        "colab": {
          "base_uri": "https://localhost:8080/"
        },
        "id": "VnrBIxIwPVDS",
        "outputId": "3ccac981-e884-4126-8826-8d01e47e6aa1"
      },
      "execution_count": null,
      "outputs": [
        {
          "output_type": "stream",
          "name": "stdout",
          "text": [
            "0,0.0%\n",
            "1,0.0%\n",
            "2,0.0%\n",
            "3,0.0%\n",
            "4,0.0%\n",
            "5,0.0%\n",
            "6,0.0%\n",
            "7,0.0%\n",
            "8,0.0%\n",
            "9,0.0%\n",
            "10,0.0%\n",
            "11,0.01%\n",
            "12,0.0%\n",
            "13,0.0%\n",
            "14,0.0%\n",
            "15,0.0%\n",
            "16,0.0%\n",
            "17,0.0%\n",
            "18,0.0%\n",
            "19,0.0%\n",
            "20,0.0%\n",
            "21,0.0%\n",
            "22,0.0%\n",
            "23,0.0%\n",
            "24,99.98%\n",
            "25,0.0%\n",
            "26,0.0%\n"
          ]
        }
      ]
    }
  ]
}