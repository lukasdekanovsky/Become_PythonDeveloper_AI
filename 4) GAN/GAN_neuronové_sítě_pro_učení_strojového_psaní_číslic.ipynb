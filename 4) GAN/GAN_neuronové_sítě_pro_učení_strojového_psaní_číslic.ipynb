{
  "nbformat": 4,
  "nbformat_minor": 0,
  "metadata": {
    "colab": {
      "provenance": [],
      "authorship_tag": "ABX9TyNMO6TOGohbVNb48eHHNHci",
      "include_colab_link": true
    },
    "kernelspec": {
      "name": "python3",
      "display_name": "Python 3"
    },
    "language_info": {
      "name": "python"
    }
  },
  "cells": [
    {
      "cell_type": "markdown",
      "metadata": {
        "id": "view-in-github",
        "colab_type": "text"
      },
      "source": [
        "<a href=\"https://colab.research.google.com/github/lukasdekanovsky/Become_PythonDeveloper_AI/blob/main/GAN_neuronov%C3%A9_s%C3%ADt%C4%9B_pro_u%C4%8Den%C3%AD_strojov%C3%A9ho_psan%C3%AD_%C4%8D%C3%ADslic.ipynb\" target=\"_parent\"><img src=\"https://colab.research.google.com/assets/colab-badge.svg\" alt=\"Open In Colab\"/></a>"
      ]
    },
    {
      "cell_type": "markdown",
      "source": [
        "# **GAN neuronová síť pro strojové psaní číslic** Generativní síť kompetitivní\n",
        "\n",
        "\n",
        "---\n",
        "\n",
        "\n",
        "\n",
        "---\n",
        "\n",
        "\n",
        "\n",
        "---\n",
        "\n"
      ],
      "metadata": {
        "id": "yZYuR8xYncVX"
      }
    },
    {
      "cell_type": "markdown",
      "source": [
        "# Proti sobě stojící dvě neuronové sítě - DISKRIMINÁTOR a GENERÁTOR\n",
        "# A) DISKRIMINÁTOR dostává výstup generátoru a vstup správných obrázků a říká 1 / 0 pravý nepravý obrázek - učí se zároveň\n",
        "# B) GENERÁTOR má jako vstup náhodný šum a učení probíhá s cílem aby ho diskriminátor určil jako pravý obrázek\n"
      ],
      "metadata": {
        "id": "kTJUzKSuksgk"
      }
    },
    {
      "cell_type": "code",
      "execution_count": null,
      "metadata": {
        "id": "L7eeKB5ZcYvX"
      },
      "outputs": [],
      "source": [
        "# IMPORT všech podstatých balíčků\n",
        "import tensorflow as tf\n",
        "from tensorflow.keras.layers import Input, Dense, Dropout, BatchNormalization, LeakyReLU\n",
        "from tensorflow.keras.models import Model\n",
        "\n",
        "import numpy as np\n",
        "import matplotlib.pyplot as plt\n",
        "\n",
        "from tensorflow.keras.optimizers import SGD, Adam\n",
        "import sys, os"
      ]
    },
    {
      "cell_type": "markdown",
      "source": [
        "# Preprocessing Trénovacích dat pro DISKRIMINÁTOR\n"
      ],
      "metadata": {
        "id": "vWvD_mTgkeRe"
      }
    },
    {
      "cell_type": "code",
      "source": [
        "# Nahrání testovacích a trénovacích balíčků\n",
        "mnist = tf.keras.datasets.mnist\n",
        "(x_train, y_train), (x_test, y_test) = mnist.load_data()"
      ],
      "metadata": {
        "colab": {
          "base_uri": "https://localhost:8080/"
        },
        "id": "AnWC4gbofZJK",
        "outputId": "b79c8a16-8d83-4bac-a253-648c79291273"
      },
      "execution_count": null,
      "outputs": [
        {
          "output_type": "stream",
          "name": "stdout",
          "text": [
            "Downloading data from https://storage.googleapis.com/tensorflow/tf-keras-datasets/mnist.npz\n",
            "11490434/11490434 [==============================] - 0s 0us/step\n"
          ]
        }
      ]
    },
    {
      "cell_type": "code",
      "source": [
        "# Zobrazíme si jaký je náš formát dat v datové sadě\n",
        "print(x_train[0])\n",
        "#               = čísla 0-255, jeden pixel --> černobílé\n",
        "print(y_train[0])"
      ],
      "metadata": {
        "id": "OugUzosoffDk"
      },
      "execution_count": null,
      "outputs": []
    },
    {
      "cell_type": "code",
      "source": [
        "# Vykreslíme si datový záznam na libovolné pozici\n",
        "pixels = x_train[9]\n",
        "plt.imshow(pixels, cmap=\"gray\");"
      ],
      "metadata": {
        "colab": {
          "base_uri": "https://localhost:8080/",
          "height": 265
        },
        "id": "zXTKpZeufq9D",
        "outputId": "ea597d64-b93c-4b3e-b9c3-03ce85e1fb1a"
      },
      "execution_count": null,
      "outputs": [
        {
          "output_type": "display_data",
          "data": {
            "text/plain": [
              "<Figure size 432x288 with 1 Axes>"
            ],
            "image/png": "[encoded data removed]"
          },
          "metadata": {
            "needs_background": "light"
          }
        }
      ]
    },
    {
      "cell_type": "markdown",
      "source": [
        "Datová normalizace"
      ],
      "metadata": {
        "id": "6gkV9FsmnAgY"
      }
    },
    {
      "cell_type": "code",
      "source": [
        "# Provedeme normalizaci dat\n",
        "x_train, x_test = x_train / 255.0 * 2 - 1, x_test / 255.0 * 2 - 1\n",
        "\n",
        "\n",
        "# výstup bude od -1 do 1\n"
      ],
      "metadata": {
        "id": "Kz3U8YPMmqC8"
      },
      "execution_count": null,
      "outputs": []
    },
    {
      "cell_type": "code",
      "source": [
        "# Ověříme si jak data vypadají\n",
        "print(x_train[0])"
      ],
      "metadata": {
        "id": "wfiC1uBum7K_"
      },
      "execution_count": null,
      "outputs": []
    },
    {
      "cell_type": "markdown",
      "source": [
        "Preprocessing"
      ],
      "metadata": {
        "id": "QRn6iNiXnS6g"
      }
    },
    {
      "cell_type": "code",
      "source": [
        "N, H, W = x_train.shape\n",
        "D = H * W\n",
        "\n",
        "# znudlíme data\n",
        "x_train = x_train.reshape(-1, D)\n",
        "x_test = x_test.reshape(-1, D)"
      ],
      "metadata": {
        "id": "Cu0_naMpm_5C"
      },
      "execution_count": null,
      "outputs": []
    },
    {
      "cell_type": "code",
      "source": [
        "# Zobrazení dat\n",
        "x_train.shape\n",
        "\n",
        "#           (60000, 784) 60 000 obrázků a délka znudlení 784 bodů"
      ],
      "metadata": {
        "colab": {
          "base_uri": "https://localhost:8080/"
        },
        "id": "9PEYGugwnSS-",
        "outputId": "8b53a4ec-548a-4b2c-dfb3-675d2899e985"
      },
      "execution_count": null,
      "outputs": [
        {
          "output_type": "execute_result",
          "data": {
            "text/plain": [
              "(60000, 784)"
            ]
          },
          "metadata": {},
          "execution_count": 12
        }
      ]
    },
    {
      "cell_type": "markdown",
      "source": [
        "Zadefinujeme si dimenzionalitu latentního prostoru - náhodný šum = 1. hyperparametr"
      ],
      "metadata": {
        "id": "ZfFEuqBrndcS"
      }
    },
    {
      "cell_type": "code",
      "source": [
        "latent_dim = 100"
      ],
      "metadata": {
        "id": "cEIsSLsznc-j"
      },
      "execution_count": null,
      "outputs": []
    },
    {
      "cell_type": "markdown",
      "source": [
        "# Tvorba modelu neuronové sítě GENERÁTOR"
      ],
      "metadata": {
        "id": "KHGu4jjDnk9C"
      }
    },
    {
      "cell_type": "code",
      "source": [
        "def build_generator(latent_dim):\n",
        "    i = Input(shape=(latent_dim,))\n",
        "    x = Dense(256, activation=LeakyReLU(alpha=0.2))(i)\n",
        "    x = BatchNormalization(momentum=0.7)(x) #dropouts\n",
        "    x = Dense(512, activation=LeakyReLU(alpha=0.2))(x)\n",
        "    x = BatchNormalization(momentum=0.7)(x)\n",
        "    x = Dense(1024, activation=LeakyReLU(alpha=0.2))(x)\n",
        "    x = BatchNormalization(momentum=0.7)(x)\n",
        "    x = Dense(D, activation='tanh')(x)\n",
        "\n",
        "\n",
        "#   máme vstupní vrstvu (i) definovanou latent. dim = šum\n",
        "#   poté 3 vrstvy x se vzrůstajícím počtem neuronů 256 -> 512 -> 1024 proložení BatchNormalization\n",
        "#   vrstvy (x) mají alpha hyperparametr 0,2 učující náklon aktivační funkce LeakyReLU\n",
        "\n",
        "    model = Model(i, x)\n",
        "    return model"
      ],
      "metadata": {
        "id": "Tsgn-U4yn16p"
      },
      "execution_count": null,
      "outputs": []
    },
    {
      "cell_type": "markdown",
      "source": [
        "# Tvorba modelu neuronové sítě DISKRIMINÁTOR"
      ],
      "metadata": {
        "id": "V5311m0mnqHD"
      }
    },
    {
      "cell_type": "code",
      "source": [
        "def build_discriminator(D):\n",
        "    i = Input(shape=(D,))\n",
        "    x = Dense(512, activation=LeakyReLU(alpha=0.2))(i)\n",
        "    x = Dense(256, activation=LeakyReLU(alpha=0.2))(x)\n",
        "    x = Dense(1, activation='sigmoid')(x) #pravý/falešný\n",
        "\n",
        "\n",
        "#   Pro diskriminátor je vhodné opět snížit dimenzionalitu vrstev 1024 -> 512 -> 256 z toho se rozhoduje 1 neuron\n",
        "#   Je nevhodné nechat vysokou dimenzi generátoru a nechat diskriminátor rozhodovat na základě vstupu ze všech\n",
        "#   Uplatňuje se tzv. princip štrůdlu\n",
        "    model = Model(i, x)\n",
        "    return model"
      ],
      "metadata": {
        "id": "m-0PJ0Wvpdvp"
      },
      "execution_count": null,
      "outputs": []
    },
    {
      "cell_type": "markdown",
      "source": [
        "# KOMPILACE 1. - DISKRIMINÁTOR"
      ],
      "metadata": {
        "id": "sMi6jmN1nv-3"
      }
    },
    {
      "cell_type": "code",
      "source": [
        "discriminator = build_discriminator(D)\n",
        "discriminator.compile(\n",
        "    loss='binary_crossentropy',\n",
        "    optimizer=Adam(0.0002, 0.5),\n",
        "    metrics=['accuracy'])\n",
        "\n",
        "# vyvoláme discriminator z funkce build_discriminator s parametrem (D - což je H*W)\n",
        "# dodáme mu ztrátovou funkci, optimizer ...\n"
      ],
      "metadata": {
        "id": "A2uCMEr7rHUH"
      },
      "execution_count": null,
      "outputs": []
    },
    {
      "cell_type": "markdown",
      "source": [
        "# KOMPILACE 2. - GENERÁTOR"
      ],
      "metadata": {
        "id": "pqDobW2PrXp7"
      }
    },
    {
      "cell_type": "markdown",
      "source": [
        "Zde je zapotřebí generátor zabalit ještě s okolím diskriminátoru aby vycházel z jeho dat - následující úpravou"
      ],
      "metadata": {
        "id": "oK2hkETMsZlD"
      }
    },
    {
      "cell_type": "code",
      "source": [
        "noise_input = Input(shape=(latent_dim,))\n",
        "\n",
        "generator = build_generator(latent_dim)\n",
        "fake_img = generator(noise_input)\n",
        "\n",
        "discriminator.trainable = False   #tady si zastavíme na chvíli diskriminátor\n",
        "fake_pred = discriminator(fake_img)\n",
        "\n",
        "combined_model = Model(noise_input, fake_pred)\n",
        "combined_model.compile(loss='binary_crossentropy', optimizer=Adam(0.0002, 0.5))"
      ],
      "metadata": {
        "id": "i7ulWSClsWBD"
      },
      "execution_count": null,
      "outputs": []
    },
    {
      "cell_type": "markdown",
      "source": [
        "# Nastavení trénovacího modelu"
      ],
      "metadata": {
        "id": "wKuilJ-yuJyO"
      }
    },
    {
      "cell_type": "code",
      "source": [
        "batch_size = 32   # 32 dávek obrázků na dávku\n",
        "epochs = 30000\n",
        "sample_period = 200   # po 200 periodách nám to extrahuje ukázku výstupu\n",
        "\n",
        "zeros = np.zeros(batch_size) #falesne obrazky (generovane generatorem) = ytrain\n",
        "ones = np.ones(batch_size) #prave obrazky (mnist) = ytrain\n",
        "\n",
        "d_losses = []\n",
        "g_losses = []\n",
        "d_acces = []\n",
        "\n",
        "if not os.path.exists('gan_images'):   #vytvoří nám to adresář gen_images kde najdeme postupně výstupy programu\n",
        "  os.makedirs('gan_images')"
      ],
      "metadata": {
        "id": "oR8Z0JIEuIt1"
      },
      "execution_count": null,
      "outputs": []
    },
    {
      "cell_type": "markdown",
      "source": [
        "V jakém formátu chceme vidět výstupy dat - mřížka 5x5 obrázků"
      ],
      "metadata": {
        "id": "NfY9qeSaupgK"
      }
    },
    {
      "cell_type": "code",
      "source": [
        "def sample_images(epoch):\n",
        "    rows, cols = 5, 5\n",
        "    noise = np.random.randn(rows * cols, latent_dim)\n",
        "    imgs = generator.predict(noise)\n",
        "\n",
        "    # přeškálování na 0 - 1\n",
        "    imgs = 0.5 * imgs + 0.5\n",
        "\n",
        "    fig, axs = plt.subplots(rows, cols)\n",
        "    idx = 0\n",
        "    for i in range(rows):\n",
        "        for j in range(cols):\n",
        "            axs[i,j].imshow(imgs[idx].reshape(H, W), cmap='gray')\n",
        "            axs[i,j].axis('off')\n",
        "            idx += 1\n",
        "    fig.savefig(\"gan_images/%d.png\" % epoch)\n",
        "    plt.close()"
      ],
      "metadata": {
        "id": "IpSwwC-hukZR"
      },
      "execution_count": null,
      "outputs": []
    },
    {
      "cell_type": "markdown",
      "source": [
        "# Trénink diskriminátoru a generátoru"
      ],
      "metadata": {
        "id": "NGfAjSkVu0nn"
      }
    },
    {
      "cell_type": "code",
      "source": [
        "for epoch in range(epochs):\n",
        "\n",
        "    ###########################\n",
        "    ### Train discriminator ###\n",
        "\n",
        "    #prave obrazky\n",
        "    idx = np.random.randint(0, N, batch_size)\n",
        "    real_imgs = x_train[idx]\n",
        "\n",
        "    #falesne obrazky\n",
        "    noise = np.random.randn(batch_size, latent_dim)\n",
        "    fake_imgs = generator.predict(noise)\n",
        "\n",
        "    d_loss_real, d_acc_real = discriminator.train_on_batch(real_imgs, ones)\n",
        "    d_loss_fake, d_acc_fake = discriminator.train_on_batch(fake_imgs, zeros)\n",
        "\n",
        "    d_loss = 0.5 * (d_loss_real + d_loss_fake)\n",
        "    d_acc  = 0.5 * (d_acc_real + d_acc_fake)\n",
        "    ###########################\n",
        "\n",
        "\n",
        "\n",
        "    #######################\n",
        "    ### Train generator ###\n",
        "\n",
        "    noise = np.random.randn(batch_size, latent_dim)\n",
        "    g_loss = combined_model.train_on_batch(noise, ones)\n",
        "    #######################\n",
        "\n",
        "    d_losses.append(d_loss)\n",
        "    g_losses.append(g_loss)\n",
        "    d_acces.append(d_acc)\n",
        "\n",
        "    if epoch % sample_period == 0:\n",
        "        sample_images(epoch)\n",
        "        print(f\"epoch: {epoch+1}/{epochs}, d_loss: {d_loss:.2f}, d_acc: {d_acc:.2f}, g_loss: {g_loss:.2f}\")"
      ],
      "metadata": {
        "id": "vELVTUwouvgH"
      },
      "execution_count": null,
      "outputs": []
    }
  ]
}