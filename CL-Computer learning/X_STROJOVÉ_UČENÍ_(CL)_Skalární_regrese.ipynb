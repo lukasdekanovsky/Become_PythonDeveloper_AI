{
  "nbformat": 4,
  "nbformat_minor": 0,
  "metadata": {
    "colab": {
      "provenance": [],
      "authorship_tag": "ABX9TyOJ0/YjQnZfJZzUtX/2X113",
      "include_colab_link": true
    },
    "kernelspec": {
      "name": "python3",
      "display_name": "Python 3"
    },
    "language_info": {
      "name": "python"
    }
  },
  "cells": [
    {
      "cell_type": "markdown",
      "metadata": {
        "id": "view-in-github",
        "colab_type": "text"
      },
      "source": [
        "<a href=\"https://colab.research.google.com/github/lukasdekanovsky/Become_PythonDeveloper_AI/blob/main/X_STROJOV%C3%89_U%C4%8CEN%C3%8D_(CL)_Skal%C3%A1rn%C3%AD_regrese.ipynb\" target=\"_parent\"><img src=\"https://colab.research.google.com/assets/colab-badge.svg\" alt=\"Open In Colab\"/></a>"
      ]
    },
    {
      "cell_type": "markdown",
      "source": [
        "# **Neuronová síť regresní** - predikce hodnot/regrese"
      ],
      "metadata": {
        "id": "vtqN5zZ-GMdk"
      }
    },
    {
      "cell_type": "markdown",
      "source": [
        "Pokusíme se odhadnout medián ceny domů v daném předměstí Bostonu v polovině sedmdesátých let vzhledem k informacím o předměstí v té době jako je míra kriminality, místní daňová sazba atd.\n",
        "* K tomu slouží datová množina **Boston_housing**"
      ],
      "metadata": {
        "id": "yaGuVppGGY0b"
      }
    },
    {
      "cell_type": "markdown",
      "source": [
        "* Datová množina obsahuje 506 údajů rozdělených na 404 trénovacích a 102 testovacích\n",
        "* Každý příznak ve vstupních datech (např. míra kriminality) jiný rozsah 0-1, 1-12, 0-100 at..."
      ],
      "metadata": {
        "id": "sf82wWRqIIQY"
      }
    },
    {
      "cell_type": "markdown",
      "source": [
        "# **Načtení datové množiny**"
      ],
      "metadata": {
        "id": "Gul-WTIDIeEe"
      }
    },
    {
      "cell_type": "code",
      "execution_count": null,
      "metadata": {
        "id": "ZhpBKNLMWsu3"
      },
      "outputs": [],
      "source": [
        "import tensorflow as tf"
      ]
    },
    {
      "cell_type": "code",
      "source": [
        "(train_data, train_targets), (test_data, test_targets) = tf.keras.datasets.boston_housing.load_data()"
      ],
      "metadata": {
        "id": "QjW2E7FMIvOT"
      },
      "execution_count": null,
      "outputs": []
    },
    {
      "cell_type": "markdown",
      "source": [
        "# **Prohlédnutí dat**"
      ],
      "metadata": {
        "id": "Ip37vRo2I4tm"
      }
    },
    {
      "cell_type": "markdown",
      "source": [
        "1) Prohlédnutí dat - jaký mají shape (kolik)"
      ],
      "metadata": {
        "id": "0YIY39DRI7fz"
      }
    },
    {
      "cell_type": "code",
      "source": [
        "train_data.shape\n",
        "#                 (404, 13) = 404 trénovacích dat a každý má 13 číselných znaků jako je míra kriminality na obyvatele, průměrný počet pokojů atd.."
      ],
      "metadata": {
        "colab": {
          "base_uri": "https://localhost:8080/"
        },
        "id": "KgnqG0j-I7AY",
        "outputId": "1cb30614-8009-4a3e-c003-04559de8f71d"
      },
      "execution_count": null,
      "outputs": [
        {
          "output_type": "execute_result",
          "data": {
            "text/plain": [
              "(404, 13)"
            ]
          },
          "metadata": {},
          "execution_count": 10
        }
      ]
    },
    {
      "cell_type": "code",
      "source": [
        "test_data.shape\n",
        "#                 (102, 13)"
      ],
      "metadata": {
        "colab": {
          "base_uri": "https://localhost:8080/"
        },
        "id": "vXn_EYa6Q1mD",
        "outputId": "d0fc0aad-d106-4050-f192-cd17d0c194d6"
      },
      "execution_count": null,
      "outputs": [
        {
          "output_type": "execute_result",
          "data": {
            "text/plain": [
              "(102, 13)"
            ]
          },
          "metadata": {},
          "execution_count": 11
        }
      ]
    },
    {
      "cell_type": "markdown",
      "source": [
        "2) Prohlédnutí targetů - mediánové hodnoty domů v tisících dolarů"
      ],
      "metadata": {
        "id": "ZREPNq50RBjt"
      }
    },
    {
      "cell_type": "code",
      "source": [
        "train_targets\n",
        "#                 array([15.2, 42.3, 50. , 21.1, 17.7, 18.5, 11.3, 15.6, 15.6, 14.4, 12.1, ......])"
      ],
      "metadata": {
        "id": "VkRdfDjpRHsa"
      },
      "execution_count": null,
      "outputs": []
    },
    {
      "cell_type": "markdown",
      "source": [
        "# **Příprava dat**\n",
        "* Jelikož mají naše hodnoty různá rozmezí, provádíme normalizaci\n",
        "* = pro každý sloupec v matici vstupních dat odečteme od hodnot průměr a dělíme std odchylkou, takže výsledek bude centrován kolem 0 a bude mít směrodatnou odchylku 1"
      ],
      "metadata": {
        "id": "BbJRKefgRTfd"
      }
    },
    {
      "cell_type": "markdown",
      "source": [
        "1) Normalizace vstupních dat\n",
        "* provedeno na train_data a test_data"
      ],
      "metadata": {
        "id": "DygyaRIZRz-h"
      }
    },
    {
      "cell_type": "code",
      "source": [
        "# train_data\n",
        "mean = train_data.mean(axis=0)\n",
        "train_data -= mean\n",
        "std = train_data.std(axis=0)\n",
        "train_data /= std\n",
        "# test_data\n",
        "test_data -= mean\n",
        "test_data /= std"
      ],
      "metadata": {
        "id": "BfEoLcPiRze5"
      },
      "execution_count": null,
      "outputs": []
    },
    {
      "cell_type": "markdown",
      "source": [
        "# **Tvorba naší sítě**"
      ],
      "metadata": {
        "id": "ZEv0Fa1cYpsT"
      }
    },
    {
      "cell_type": "markdown",
      "source": [
        "Vzhledem k tomu, že je k dispozici jen málo příkladů, použijeme velmi malou síť jen se dvěma skrytými vrstvami, z nichž každá má 64 jednotek\n",
        "* Obecně platí, že čím méně trénovacích údajů máme, tím horší je přeučení.\n",
        "* Používání malých sítí je jedním ze způsobů, jak přeučení zmírnit.\n"
      ],
      "metadata": {
        "id": "5zTjznQjua1n"
      }
    },
    {
      "cell_type": "code",
      "source": [
        " #                    tvoříme model jako funkci, protože budeme muset vytvářet její instanci opakovaně\n",
        " def build_model():\n",
        "   model = tf.keras.models.Sequential()\n",
        "   model.add(tf.keras.layers.Dense(64, activation=\"relu\",\n",
        "                                   input_shape=(train_data.shape[1],)))\n",
        "   model.add(tf.keras.layers.Dense(64, activation=\"relu\"))\n",
        "   model.add(tf.keras.layers.Dense(1))\n",
        "   model.compile(optimizer=\"rmsprop\", loss=\"mse\", metrics=[\"mae\"])\n",
        "   return model\n"
      ],
      "metadata": {
        "id": "KXmNqRZ0Yn4G"
      },
      "execution_count": null,
      "outputs": []
    },
    {
      "cell_type": "markdown",
      "source": [
        "* Síť končí jedinou jednotkou a žádnou aktivací (bude to linární vrstva)\n",
        "= typické pro skalární regrese (pokoušíme se predikovat jednu spojitou hodnotu)\n",
        "= použití aktivační funkce by mohlo omezit rozsah výstupu\n",
        "* Jelikož neuvádíme aktivační funkci, může se síť naučit predikovat hodnoty v libovolném rozsahu, protože poslední vrstva je čistě lineární\n",
        "* Ztrátová funkce **mse** - střední kvadratická chyba = čtverec rozdílu mezi predikcí a cílem\n",
        "* trénovací metrika **mae** - střední absolutní chybu, je to aboslutní hodnota mezi predikcí a cílem = MAE s hodnotou 0,5 by znamenala, že naše predikce se v průměru liší o 500 dolarů"
      ],
      "metadata": {
        "id": "6jITyicMwAi3"
      }
    },
    {
      "cell_type": "markdown",
      "source": [
        "# **U regresí aplikujeme K-násobné validace** - pokud máme nedostatek validačních dat = validační skóre se může hodně měnit v závislosti na typu použitých dat"
      ],
      "metadata": {
        "id": "Q4J8MbrTxcaZ"
      }
    },
    {
      "cell_type": "markdown",
      "source": [
        "# **+ Trénink modelu a validace**"
      ],
      "metadata": {
        "id": "1ycwM3qJVVIz"
      }
    },
    {
      "cell_type": "markdown",
      "source": [
        "* tzv. **K-fold** nebo také **cross-validation** spočívá v rozdělení dostupnch dat na K částí (4, 5..)\n",
        "* Vytvoření K instancí identických modelů a trénování každého na K-1 částech a použití zbývající části k validaci\n",
        "* Validační skore použitého modelu je pak průměr z K obdržených validačních skóre"
      ],
      "metadata": {
        "id": "riQr_Pmaxih_"
      }
    },
    {
      "cell_type": "code",
      "source": [
        "import numpy as np"
      ],
      "metadata": {
        "id": "GOszjw0ZxW_1"
      },
      "execution_count": null,
      "outputs": []
    },
    {
      "cell_type": "code",
      "source": [
        "k = 4\n",
        "num_val_samples = len(train_data) // k\n",
        "num_epochs = 100\n",
        "all_scores = []\n",
        "\n",
        "for i in range(k):\n",
        "  print(\"Processing fold #\", i)\n",
        "  # připraví validační data z oddílu (i)\n",
        "  val_data = train_data[i * num_val_samples: (i + 1) * num_val_samples]\n",
        "  val_targets = train_targets[i * num_val_samples: (i + 1) * num_val_samples]\n",
        "\n",
        "  # připraví trénovací data ze všech ostatních oddílů\n",
        "  partial_train_data = np.concatenate(\n",
        "      [train_data[:i * num_val_samples],\n",
        "       train_data[(i + 1) * num_val_samples:]],\n",
        "       axis=0)\n",
        "  partial_train_targets = np.concatenate(\n",
        "      [train_targets[:i * num_val_samples],\n",
        "      train_targets[(i + 1) * num_val_samples:]],\n",
        "      axis=0)\n",
        "\n",
        "  # Vytvoříme model Kerasu - již  zkompilovaný\n",
        "  model = build_model()\n",
        "  # Trénuje model\n",
        "  model.fit(partial_train_data, partial_train_targets, epochs=num_epochs, batch_size=1, verbose=0)\n",
        "  # Vyhodnotí model na validačních datech\n",
        "  val_mse, val_mae = model.evaluate(val_data, val_targets, verbose=0)\n",
        "  all_scores.append(val_mae)"
      ],
      "metadata": {
        "colab": {
          "base_uri": "https://localhost:8080/"
        },
        "id": "79_A81xpyWLG",
        "outputId": "3c6b0c8f-1768-465b-fab6-ea56109d6beb"
      },
      "execution_count": null,
      "outputs": [
        {
          "output_type": "stream",
          "name": "stdout",
          "text": [
            "Processing fold # 0\n",
            "Processing fold # 1\n",
            "Processing fold # 2\n",
            "Processing fold # 3\n"
          ]
        }
      ]
    },
    {
      "cell_type": "markdown",
      "source": [
        "Spuštění tohoto programu s num_epochs = 100 poskytuje následující výsledky:"
      ],
      "metadata": {
        "id": "YB-F4UgmMqtV"
      }
    },
    {
      "cell_type": "code",
      "source": [
        "print(all_scores)"
      ],
      "metadata": {
        "colab": {
          "base_uri": "https://localhost:8080/"
        },
        "id": "BBPD1vZQMw7U",
        "outputId": "04c0bef4-1020-4e42-a66f-1bcfdb11c1b0"
      },
      "execution_count": null,
      "outputs": [
        {
          "output_type": "stream",
          "name": "stdout",
          "text": [
            "[2.245640754699707, 2.4709622859954834, 3.100998640060425, 2.399486780166626]\n"
          ]
        }
      ]
    },
    {
      "cell_type": "code",
      "source": [
        "print(np.mean(all_scores))"
      ],
      "metadata": {
        "colab": {
          "base_uri": "https://localhost:8080/"
        },
        "id": "NPqF1GIWTWlL",
        "outputId": "69b7ed36-a143-47e7-a092-0d4569936dd6"
      },
      "execution_count": null,
      "outputs": [
        {
          "output_type": "stream",
          "name": "stdout",
          "text": [
            "2.5542721152305603\n"
          ]
        }
      ]
    },
    {
      "cell_type": "markdown",
      "source": [
        "Různé běhy ukazují poněkud odlišné validační skóre od 2.2-3.1 kdežto průměr 2.6 je mnohem spolehlivější"
      ],
      "metadata": {
        "id": "-Iv_gngiUtSh"
      }
    },
    {
      "cell_type": "markdown",
      "source": [
        "* v tomto případě se průměrně odchylujeme od 2500 dolarů což je při rozptylu cen 10k-50k docela významné\n",
        "* provedeme proto trénování na 500 epoch a nyní budeme pozorovat jak model pracuje v každé epoše"
      ],
      "metadata": {
        "id": "s_8LWqhXU5NT"
      }
    },
    {
      "cell_type": "markdown",
      "source": [
        "# **Úprava modelu zvýšením epoch**"
      ],
      "metadata": {
        "id": "qWZN9VUXVZcH"
      }
    },
    {
      "cell_type": "code",
      "source": [
        "num_epochs = 500\n",
        "all_mae_histories = []\n",
        "\n",
        "for i in range(k):\n",
        "  print(\"Processing fold #\", i)\n",
        "  # připraví validační data z oddílu (i)\n",
        "  val_data = train_data[i * num_val_samples: (i + 1) * num_val_samples]\n",
        "  val_targets = train_targets[i * num_val_samples: (i + 1) * num_val_samples]\n",
        "\n",
        "  partial_train_data = np.concatenate(\n",
        "      [train_data[:i * num_val_samples],\n",
        "       train_data[(i + 1) * num_val_samples:]],\n",
        "       axis=0)\n",
        "  partial_train_targets = np.concatenate(\n",
        "      [train_targets[:i * num_val_samples],\n",
        "      train_targets[(i + 1) * num_val_samples:]],\n",
        "      axis=0)\n",
        "\n",
        "  model = build_model()\n",
        "  history = model.fit(partial_train_data, partial_train_targets, epochs=num_epochs, batch_size=1, verbose=0)\n",
        "  mae_history = history.history[\"val_mean_absolute_error\"]\n",
        "  all_mae_histories.append(mae_history)"
      ],
      "metadata": {
        "id": "8mCpAXYKVch1"
      },
      "execution_count": null,
      "outputs": []
    },
    {
      "cell_type": "code",
      "source": [
        "average_mae_history=[np.mean([x[i] for x in all_mae_histories]) for i in range(num_epochs)]"
      ],
      "metadata": {
        "colab": {
          "base_uri": "https://localhost:8080/"
        },
        "id": "3mCrFXlAWS0P",
        "outputId": "545706eb-1fb7-4548-ab6c-a43d32469840"
      },
      "execution_count": null,
      "outputs": [
        {
          "output_type": "stream",
          "name": "stderr",
          "text": [
            "/usr/local/lib/python3.7/dist-packages/numpy/core/fromnumeric.py:3441: RuntimeWarning: Mean of empty slice.\n",
            "  out=out, **kwargs)\n",
            "/usr/local/lib/python3.7/dist-packages/numpy/core/_methods.py:189: RuntimeWarning: invalid value encountered in double_scalars\n",
            "  ret = ret.dtype.type(ret / rcount)\n"
          ]
        }
      ]
    },
    {
      "cell_type": "markdown",
      "source": [
        "* Vykreslíme si Validační MAE"
      ],
      "metadata": {
        "id": "ATEuhq_eXXIA"
      }
    },
    {
      "cell_type": "code",
      "source": [
        "import matplotlib.pyplot as plt\n",
        "\n",
        "plt.plot(range(1, len(average_mae_history) + 1), average_mae_history)\n",
        "plt.xlabel(\"Epochs\")\n",
        "plt.ylabel(\"Validation MAE\")\n",
        "plt.show()"
      ],
      "metadata": {
        "colab": {
          "base_uri": "https://localhost:8080/",
          "height": 279
        },
        "id": "Ni9aFBBUXWeq",
        "outputId": "5173aa06-3971-4758-8771-7a4d6dae6463"
      },
      "execution_count": null,
      "outputs": [
        {
          "output_type": "display_data",
          "data": {
            "text/plain": [
              "<Figure size 432x288 with 1 Axes>"
            ],
            "image/png": "[encoded data removed]"
          },
          "metadata": {
            "needs_background": "light"
          }
        }
      ]
    },
    {
      "cell_type": "markdown",
      "source": [
        "# **Ověření správnosti na testovacích datech**"
      ],
      "metadata": {
        "id": "f929d8UBYtg5"
      }
    },
    {
      "cell_type": "code",
      "source": [
        "model=build_model()\n",
        "model.fit(train_data, train_targets, epochs=80, batch_size=16, verbose=0)\n",
        "test_mse_score, test_mae_score = model.evaluate(test_data, test_targets)"
      ],
      "metadata": {
        "colab": {
          "base_uri": "https://localhost:8080/"
        },
        "id": "ySscptIcYyaY",
        "outputId": "b06fa087-1dce-423b-9e11-5bd16a342470"
      },
      "execution_count": null,
      "outputs": [
        {
          "output_type": "stream",
          "name": "stdout",
          "text": [
            "4/4 [==============================] - 0s 3ms/step - loss: 19.1250 - mae: 2.8193\n"
          ]
        }
      ]
    },
    {
      "cell_type": "code",
      "source": [
        "print(test_mae_score)"
      ],
      "metadata": {
        "colab": {
          "base_uri": "https://localhost:8080/"
        },
        "id": "6zT3H5CQZOeN",
        "outputId": "fb16b139-020d-4a04-93d4-5eaafdcdce97"
      },
      "execution_count": null,
      "outputs": [
        {
          "output_type": "stream",
          "name": "stdout",
          "text": [
            "2.8193159103393555\n"
          ]
        }
      ]
    }
  ]
}