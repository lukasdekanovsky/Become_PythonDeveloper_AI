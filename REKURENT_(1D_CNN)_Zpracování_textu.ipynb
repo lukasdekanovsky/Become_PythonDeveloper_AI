{
  "nbformat": 4,
  "nbformat_minor": 0,
  "metadata": {
    "colab": {
      "provenance": [],
      "authorship_tag": "ABX9TyO1UDaHjOGpjGloZgEEO3aN",
      "include_colab_link": true
    },
    "kernelspec": {
      "name": "python3",
      "display_name": "Python 3"
    },
    "language_info": {
      "name": "python"
    }
  },
  "cells": [
    {
      "cell_type": "markdown",
      "metadata": {
        "id": "view-in-github",
        "colab_type": "text"
      },
      "source": [
        "<a href=\"https://colab.research.google.com/github/lukasdekanovsky/Become_PythonDeveloper_AI/blob/main/REKURENT_(1D_CNN)_Zpracov%C3%A1n%C3%AD_textu.ipynb\" target=\"_parent\"><img src=\"https://colab.research.google.com/assets/colab-badge.svg\" alt=\"Open In Colab\"/></a>"
      ]
    },
    {
      "cell_type": "markdown",
      "source": [
        "# **Zpracování textu a přirozeného jazyka**"
      ],
      "metadata": {
        "id": "3NWh-03D7WWf"
      }
    },
    {
      "cell_type": "markdown",
      "source": [
        "# 1) **Import knihoven**"
      ],
      "metadata": {
        "id": "ST2UcHsy7dKv"
      }
    },
    {
      "cell_type": "code",
      "execution_count": null,
      "metadata": {
        "id": "WLu7326i3UL0",
        "colab": {
          "base_uri": "https://localhost:8080/"
        },
        "outputId": "7754d378-6027-41cf-f4f2-b3b684caeed9"
      },
      "outputs": [
        {
          "output_type": "stream",
          "name": "stdout",
          "text": [
            "2.9.2\n"
          ]
        }
      ],
      "source": [
        "import tensorflow as tf\n",
        "print(tf.__version__)"
      ]
    },
    {
      "cell_type": "markdown",
      "source": [
        "Další podstatnou částí je tokenizer a pad_sequences\n",
        "* Tokenizer - doplní každému slovu index\n",
        "* pad_sequences - zarovná věty podle té nejdelší, u všech kratších doplní na prázdná místa 0"
      ],
      "metadata": {
        "id": "C-HNBHxO8Aih"
      }
    },
    {
      "cell_type": "code",
      "source": [
        "from tensorflow.keras.preprocessing.text import Tokenizer\n",
        "from tensorflow.keras.preprocessing.sequence import pad_sequences"
      ],
      "metadata": {
        "id": "kB87rZ3A8EcY"
      },
      "execution_count": null,
      "outputs": []
    },
    {
      "cell_type": "code",
      "source": [
        "import numpy as np\n",
        "import pandas as pd\n",
        "import matplotlib.pyplot as plt\n",
        "from sklearn.model_selection import train_test_split\n",
        "\n",
        "from tensorflow.keras.preprocessing.text import Tokenizer\n",
        "from tensorflow.keras.preprocessing.sequence import pad_sequences\n",
        "from tensorflow.keras.layers import Dense, Input, GlobalMaxPooling1D\n",
        "from tensorflow.keras.layers import LSTM, Embedding\n",
        "from tensorflow.keras.models import Model"
      ],
      "metadata": {
        "id": "e5ngqzOv9QsP"
      },
      "execution_count": null,
      "outputs": []
    },
    {
      "cell_type": "markdown",
      "source": [
        "# 2) **Proces TOKENIZACE**"
      ],
      "metadata": {
        "id": "xzFzSDFZ8f-J"
      }
    },
    {
      "cell_type": "markdown",
      "source": [
        "* Ja jsem Pavel -> Ja = 1, jsem = 2, Pavel = 3 -> [1, 2, 3, 0]\n",
        "* Ja jsem mila Alena -> Ja = 1, jsem = 2, mila = 4, Alena = 5 -> [1, 2, 4, 5]"
      ],
      "metadata": {
        "id": "S2-oVRhG8jYr"
      }
    },
    {
      "cell_type": "markdown",
      "source": [
        "**Příklad**"
      ],
      "metadata": {
        "id": "xVrSNoQN89Vh"
      }
    },
    {
      "cell_type": "code",
      "source": [
        "vety = [\"Ja jsem Pavel\", \"Ja jsem mila Alena\", \"My jsme osklivi lide\"]\n",
        "\n",
        "MAX_SLOV = 20000 #MAX_VOCABULARY_SIZE\n",
        "tokenizer = Tokenizer(num_words=MAX_SLOV)\n",
        "tokenizer.fit_on_texts(vety) #ocislovani jake slovo ma jake cislo\n",
        "sekvence = tokenizer.texts_to_sequences(vety) #ocisluj vety v kolekci\n",
        "print(sekvence)\n",
        "tokenizer.word_index"
      ],
      "metadata": {
        "colab": {
          "base_uri": "https://localhost:8080/"
        },
        "id": "R2hTgUoL8fIb",
        "outputId": "1d59b5d2-c023-42fb-b0ed-e5078f7bf8cf"
      },
      "execution_count": null,
      "outputs": [
        {
          "output_type": "stream",
          "name": "stdout",
          "text": [
            "[[1, 2, 3], [1, 2, 4, 5], [6, 7, 8, 9]]\n"
          ]
        },
        {
          "output_type": "execute_result",
          "data": {
            "text/plain": [
              "{'ja': 1,\n",
              " 'jsem': 2,\n",
              " 'pavel': 3,\n",
              " 'mila': 4,\n",
              " 'alena': 5,\n",
              " 'my': 6,\n",
              " 'jsme': 7,\n",
              " 'osklivi': 8,\n",
              " 'lide': 9}"
            ]
          },
          "metadata": {},
          "execution_count": 6
        }
      ]
    },
    {
      "cell_type": "code",
      "source": [
        "data = pad_sequences(sekvence, padding=\"post\")\n",
        "print(data)"
      ],
      "metadata": {
        "colab": {
          "base_uri": "https://localhost:8080/"
        },
        "id": "KIjaL3qo9HEV",
        "outputId": "ae001799-8fd2-451d-a272-c443a61b0fdb"
      },
      "execution_count": null,
      "outputs": [
        {
          "output_type": "stream",
          "name": "stdout",
          "text": [
            "[[1 2 3 0]\n",
            " [1 2 4 5]\n",
            " [6 7 8 9]]\n"
          ]
        }
      ]
    },
    {
      "cell_type": "markdown",
      "source": [
        "# **Reálná data - detekce spamu**"
      ],
      "metadata": {
        "id": "hJjF-q0J9I4t"
      }
    },
    {
      "cell_type": "markdown",
      "source": [
        "1) Stažení dat"
      ],
      "metadata": {
        "id": "0W1qla1j9W4X"
      }
    },
    {
      "cell_type": "code",
      "source": [
        "!wget -nc https://lazyprogrammer.me/course_files/spam.csv"
      ],
      "metadata": {
        "colab": {
          "base_uri": "https://localhost:8080/"
        },
        "id": "kVxvoIvQ9L1F",
        "outputId": "7aedc3e1-f1e3-4f49-a430-9490361ebf15"
      },
      "execution_count": null,
      "outputs": [
        {
          "output_type": "stream",
          "name": "stdout",
          "text": [
            "--2022-11-19 12:55:58--  https://lazyprogrammer.me/course_files/spam.csv\n",
            "Resolving lazyprogrammer.me (lazyprogrammer.me)... 172.67.213.166, 104.21.23.210, 2606:4700:3030::ac43:d5a6, ...\n",
            "Connecting to lazyprogrammer.me (lazyprogrammer.me)|172.67.213.166|:443... connected.\n",
            "HTTP request sent, awaiting response... 200 OK\n",
            "Length: 503663 (492K) [text/csv]\n",
            "Saving to: ‘spam.csv’\n",
            "\n",
            "spam.csv            100%[===================>] 491.86K  --.-KB/s    in 0.06s   \n",
            "\n",
            "2022-11-19 12:55:58 (7.56 MB/s) - ‘spam.csv’ saved [503663/503663]\n",
            "\n"
          ]
        }
      ]
    },
    {
      "cell_type": "markdown",
      "source": [
        "2) Kontrola dat"
      ],
      "metadata": {
        "id": "NMR-L5al9dM_"
      }
    },
    {
      "cell_type": "code",
      "source": [
        "!head spam.csv"
      ],
      "metadata": {
        "colab": {
          "base_uri": "https://localhost:8080/"
        },
        "id": "1KUQmh-U9e9j",
        "outputId": "1bf77aa3-a155-49b5-e2d4-bc6257f5e3d6"
      },
      "execution_count": null,
      "outputs": [
        {
          "output_type": "stream",
          "name": "stdout",
          "text": [
            "v1,v2,,,\r\n",
            "ham,\"Go until jurong point, crazy.. Available only in bugis n great world la e buffet... Cine there got amore wat...\",,,\r\n",
            "ham,Ok lar... Joking wif u oni...,,,\r\n",
            "spam,Free entry in 2 a wkly comp to win FA Cup final tkts 21st May 2005. Text FA to 87121 to receive entry question(std txt rate)T&C's apply 08452810075over18's,,,\r\n",
            "ham,U dun say so early hor... U c already then say...,,,\r\n",
            "ham,\"Nah I don't think he goes to usf, he lives around here though\",,,\r\n",
            "spam,\"FreeMsg Hey there darling it's been 3 week's now and no word back! I'd like some fun you up for it still? Tb ok! XxX std chgs to send, �1.50 to rcv\",,,\r\n",
            "ham,Even my brother is not like to speak with me. They treat me like aids patent.,,,\r\n",
            "ham,As per your request 'Melle Melle (Oru Minnaminunginte Nurungu Vettam)' has been set as your callertune for all Callers. Press *9 to copy your friends Callertune,,,\r\n",
            "spam,WINNER!! As a valued network customer you have been selected to receivea �900 prize reward! To claim call 09061701461. Claim code KL341. Valid 12 hours only.,,,\r\n"
          ]
        }
      ]
    },
    {
      "cell_type": "markdown",
      "source": [
        "3) Načtení dat do dataframu a jejich úprava - ham/spam = 0/1"
      ],
      "metadata": {
        "id": "RTyH-Id59i6r"
      }
    },
    {
      "cell_type": "code",
      "source": [
        "df = pd.read_csv(\"spam.csv\", encoding=\"ISO-8859-1\")\n",
        "df = df.drop([\"Unnamed: 2\", \"Unnamed: 3\", \"Unnamed: 4\"], axis=1) #zahodí sloupce\n",
        "df.columns = [\"labels\", \"data\"]\n",
        "df[\"bin_labels\"] = df[\"labels\"].map({\"ham\": 0, \"spam\": 1})\n",
        "df.head(11)"
      ],
      "metadata": {
        "colab": {
          "base_uri": "https://localhost:8080/",
          "height": 394
        },
        "id": "Ib_0xSHx9ldh",
        "outputId": "c8db8e9d-9ebc-4b8c-fb51-4dc360b26e40"
      },
      "execution_count": null,
      "outputs": [
        {
          "output_type": "execute_result",
          "data": {
            "text/plain": [
              "   labels                                               data  bin_labels\n",
              "0     ham  Go until jurong point, crazy.. Available only ...           0\n",
              "1     ham                      Ok lar... Joking wif u oni...           0\n",
              "2    spam  Free entry in 2 a wkly comp to win FA Cup fina...           1\n",
              "3     ham  U dun say so early hor... U c already then say...           0\n",
              "4     ham  Nah I don't think he goes to usf, he lives aro...           0\n",
              "5    spam  FreeMsg Hey there darling it's been 3 week's n...           1\n",
              "6     ham  Even my brother is not like to speak with me. ...           0\n",
              "7     ham  As per your request 'Melle Melle (Oru Minnamin...           0\n",
              "8    spam  WINNER!! As a valued network customer you have...           1\n",
              "9    spam  Had your mobile 11 months or more? U R entitle...           1\n",
              "10    ham  I'm gonna be home soon and i don't want to tal...           0"
            ],
            "text/html": [
              "\n",
              "  <div id=\"df-44acb100-db1e-4643-b9dd-9419a26efddb\">\n",
              "    <div class=\"colab-df-container\">\n",
              "      <div>\n",
              "<style scoped>\n",
              "    .dataframe tbody tr th:only-of-type {\n",
              "        vertical-align: middle;\n",
              "    }\n",
              "\n",
              "    .dataframe tbody tr th {\n",
              "        vertical-align: top;\n",
              "    }\n",
              "\n",
              "    .dataframe thead th {\n",
              "        text-align: right;\n",
              "    }\n",
              "</style>\n",
              "<table border=\"1\" class=\"dataframe\">\n",
              "  <thead>\n",
              "    <tr style=\"text-align: right;\">\n",
              "      <th></th>\n",
              "      <th>labels</th>\n",
              "      <th>data</th>\n",
              "      <th>bin_labels</th>\n",
              "    </tr>\n",
              "  </thead>\n",
              "  <tbody>\n",
              "    <tr>\n",
              "      <th>0</th>\n",
              "      <td>ham</td>\n",
              "      <td>Go until jurong point, crazy.. Available only ...</td>\n",
              "      <td>0</td>\n",
              "    </tr>\n",
              "    <tr>\n",
              "      <th>1</th>\n",
              "      <td>ham</td>\n",
              "      <td>Ok lar... Joking wif u oni...</td>\n",
              "      <td>0</td>\n",
              "    </tr>\n",
              "    <tr>\n",
              "      <th>2</th>\n",
              "      <td>spam</td>\n",
              "      <td>Free entry in 2 a wkly comp to win FA Cup fina...</td>\n",
              "      <td>1</td>\n",
              "    </tr>\n",
              "    <tr>\n",
              "      <th>3</th>\n",
              "      <td>ham</td>\n",
              "      <td>U dun say so early hor... U c already then say...</td>\n",
              "      <td>0</td>\n",
              "    </tr>\n",
              "    <tr>\n",
              "      <th>4</th>\n",
              "      <td>ham</td>\n",
              "      <td>Nah I don't think he goes to usf, he lives aro...</td>\n",
              "      <td>0</td>\n",
              "    </tr>\n",
              "    <tr>\n",
              "      <th>5</th>\n",
              "      <td>spam</td>\n",
              "      <td>FreeMsg Hey there darling it's been 3 week's n...</td>\n",
              "      <td>1</td>\n",
              "    </tr>\n",
              "    <tr>\n",
              "      <th>6</th>\n",
              "      <td>ham</td>\n",
              "      <td>Even my brother is not like to speak with me. ...</td>\n",
              "      <td>0</td>\n",
              "    </tr>\n",
              "    <tr>\n",
              "      <th>7</th>\n",
              "      <td>ham</td>\n",
              "      <td>As per your request 'Melle Melle (Oru Minnamin...</td>\n",
              "      <td>0</td>\n",
              "    </tr>\n",
              "    <tr>\n",
              "      <th>8</th>\n",
              "      <td>spam</td>\n",
              "      <td>WINNER!! As a valued network customer you have...</td>\n",
              "      <td>1</td>\n",
              "    </tr>\n",
              "    <tr>\n",
              "      <th>9</th>\n",
              "      <td>spam</td>\n",
              "      <td>Had your mobile 11 months or more? U R entitle...</td>\n",
              "      <td>1</td>\n",
              "    </tr>\n",
              "    <tr>\n",
              "      <th>10</th>\n",
              "      <td>ham</td>\n",
              "      <td>I'm gonna be home soon and i don't want to tal...</td>\n",
              "      <td>0</td>\n",
              "    </tr>\n",
              "  </tbody>\n",
              "</table>\n",
              "</div>\n",
              "      <button class=\"colab-df-convert\" onclick=\"convertToInteractive('df-44acb100-db1e-4643-b9dd-9419a26efddb')\"\n",
              "              title=\"Convert this dataframe to an interactive table.\"\n",
              "              style=\"display:none;\">\n",
              "        \n",
              "  <svg xmlns=\"http://www.w3.org/2000/svg\" height=\"24px\"viewBox=\"0 0 24 24\"\n",
              "       width=\"24px\">\n",
              "    <path d=\"M0 0h24v24H0V0z\" fill=\"none\"/>\n",
              "    <path d=\"M18.56 5.44l.94 2.06.94-2.06 2.06-.94-2.06-.94-.94-2.06-.94 2.06-2.06.94zm-11 1L8.5 8.5l.94-2.06 2.06-.94-2.06-.94L8.5 2.5l-.94 2.06-2.06.94zm10 10l.94 2.06.94-2.06 2.06-.94-2.06-.94-.94-2.06-.94 2.06-2.06.94z\"/><path d=\"M17.41 7.96l-1.37-1.37c-.4-.4-.92-.59-1.43-.59-.52 0-1.04.2-1.43.59L10.3 9.45l-7.72 7.72c-.78.78-.78 2.05 0 2.83L4 21.41c.39.39.9.59 1.41.59.51 0 1.02-.2 1.41-.59l7.78-7.78 2.81-2.81c.8-.78.8-2.07 0-2.86zM5.41 20L4 18.59l7.72-7.72 1.47 1.35L5.41 20z\"/>\n",
              "  </svg>\n",
              "      </button>\n",
              "      \n",
              "  <style>\n",
              "    .colab-df-container {\n",
              "      display:flex;\n",
              "      flex-wrap:wrap;\n",
              "      gap: 12px;\n",
              "    }\n",
              "\n",
              "    .colab-df-convert {\n",
              "      background-color: #E8F0FE;\n",
              "      border: none;\n",
              "      border-radius: 50%;\n",
              "      cursor: pointer;\n",
              "      display: none;\n",
              "      fill: #1967D2;\n",
              "      height: 32px;\n",
              "      padding: 0 0 0 0;\n",
              "      width: 32px;\n",
              "    }\n",
              "\n",
              "    .colab-df-convert:hover {\n",
              "      background-color: #E2EBFA;\n",
              "      box-shadow: 0px 1px 2px rgba(60, 64, 67, 0.3), 0px 1px 3px 1px rgba(60, 64, 67, 0.15);\n",
              "      fill: #174EA6;\n",
              "    }\n",
              "\n",
              "    [theme=dark] .colab-df-convert {\n",
              "      background-color: #3B4455;\n",
              "      fill: #D2E3FC;\n",
              "    }\n",
              "\n",
              "    [theme=dark] .colab-df-convert:hover {\n",
              "      background-color: #434B5C;\n",
              "      box-shadow: 0px 1px 3px 1px rgba(0, 0, 0, 0.15);\n",
              "      filter: drop-shadow(0px 1px 2px rgba(0, 0, 0, 0.3));\n",
              "      fill: #FFFFFF;\n",
              "    }\n",
              "  </style>\n",
              "\n",
              "      <script>\n",
              "        const buttonEl =\n",
              "          document.querySelector('#df-44acb100-db1e-4643-b9dd-9419a26efddb button.colab-df-convert');\n",
              "        buttonEl.style.display =\n",
              "          google.colab.kernel.accessAllowed ? 'block' : 'none';\n",
              "\n",
              "        async function convertToInteractive(key) {\n",
              "          const element = document.querySelector('#df-44acb100-db1e-4643-b9dd-9419a26efddb');\n",
              "          const dataTable =\n",
              "            await google.colab.kernel.invokeFunction('convertToInteractive',\n",
              "                                                     [key], {});\n",
              "          if (!dataTable) return;\n",
              "\n",
              "          const docLinkHtml = 'Like what you see? Visit the ' +\n",
              "            '<a target=\"_blank\" href=https://colab.research.google.com/notebooks/data_table.ipynb>data table notebook</a>'\n",
              "            + ' to learn more about interactive tables.';\n",
              "          element.innerHTML = '';\n",
              "          dataTable['output_type'] = 'display_data';\n",
              "          await google.colab.output.renderOutput(dataTable, element);\n",
              "          const docLink = document.createElement('div');\n",
              "          docLink.innerHTML = docLinkHtml;\n",
              "          element.appendChild(docLink);\n",
              "        }\n",
              "      </script>\n",
              "    </div>\n",
              "  </div>\n",
              "  "
            ]
          },
          "metadata": {},
          "execution_count": 11
        }
      ]
    },
    {
      "cell_type": "markdown",
      "source": [
        "4) Rozdělení datové sady"
      ],
      "metadata": {
        "id": "Vn4Wocs49tBB"
      }
    },
    {
      "cell_type": "code",
      "source": [
        "df_train, df_test, Ytrain, Ytest = train_test_split(df['data'], df['bin_labels'].values, test_size=0.33)"
      ],
      "metadata": {
        "id": "Xs4IuI4W-CSl"
      },
      "execution_count": null,
      "outputs": []
    },
    {
      "cell_type": "code",
      "source": [
        "print(len(df_train), len(df_test)) # v jakém poměru máme trénovací a testovací"
      ],
      "metadata": {
        "colab": {
          "base_uri": "https://localhost:8080/"
        },
        "id": "BE5RvW8l-Gav",
        "outputId": "645d03cb-8cc3-4719-b7ff-9b8aa4367e10"
      },
      "execution_count": null,
      "outputs": [
        {
          "output_type": "stream",
          "name": "stdout",
          "text": [
            "3733 1839\n"
          ]
        }
      ]
    },
    {
      "cell_type": "markdown",
      "source": [
        "5) Provedeme TOKENIZACI - !!! tokenizace musí být stejná i pro testovací - jinak by měla kompletně odlišné indexy pro jednotlivá slova"
      ],
      "metadata": {
        "id": "EUh5nYIl-Ol-"
      }
    },
    {
      "cell_type": "code",
      "source": [
        "MAX_SLOV = 20000\n",
        "tokenizer = Tokenizer(num_words=MAX_SLOV)\n",
        "tokenizer.fit_on_texts(df_train)\n",
        "sequences_train = tokenizer.texts_to_sequences(df_train)\n",
        "sequences_test = tokenizer.texts_to_sequences(df_test)"
      ],
      "metadata": {
        "id": "z7rCVule-Qqr"
      },
      "execution_count": null,
      "outputs": []
    },
    {
      "cell_type": "markdown",
      "source": [
        "6) Zobrazíme si počet unikátních slov"
      ],
      "metadata": {
        "id": "uFjpSpVR-XC2"
      }
    },
    {
      "cell_type": "code",
      "source": [
        "V = len(tokenizer.word_index)\n",
        "print(V)\n",
        "print(tokenizer.word_index)"
      ],
      "metadata": {
        "colab": {
          "base_uri": "https://localhost:8080/"
        },
        "id": "SLZ3IaW6-apI",
        "outputId": "fddaf26b-d062-4a35-b57f-b4e86226a0db"
      },
      "execution_count": null,
      "outputs": [
        {
          "output_type": "stream",
          "name": "stdout",
          "text": [
            "7258\n",
            "{'i': 1, 'to': 2, 'you': 3, 'a': 4, 'the': 5, 'u': 6, 'and': 7, 'in': 8, 'is': 9, 'me': 10, 'my': 11, 'for': 12, 'your': 13, 'it': 14, 'of': 15, 'call': 16, 'have': 17, 'that': 18, 'on': 19, '2': 20, 'are': 21, 'now': 22, 'so': 23, 'or': 24, 'but': 25, 'can': 26, 'do': 27, 'not': 28, 'ur': 29, 'if': 30, \"i'm\": 31, 'at': 32, 'will': 33, 'with': 34, 'get': 35, 'be': 36, 'no': 37, 'we': 38, 'just': 39, 'gt': 40, 'this': 41, 'lt': 42, '4': 43, 'when': 44, 'up': 45, 'how': 46, 'all': 47, 'out': 48, 'ok': 49, 'free': 50, 'good': 51, 'go': 52, 'what': 53, 'know': 54, 'from': 55, 'like': 56, 'then': 57, 'its': 58, 'was': 59, 'come': 60, 'time': 61, 'got': 62, 'am': 63, 'only': 64, 'love': 65, 'text': 66, 'want': 67, 'day': 68, 'send': 69, 'he': 70, 'need': 71, 'one': 72, 'going': 73, 'txt': 74, 'there': 75, 'lor': 76, 'sorry': 77, 'as': 78, 'r': 79, 'home': 80, 'still': 81, 'by': 82, 'about': 83, \"i'll\": 84, 'back': 85, 'stop': 86, 'k': 87, 'our': 88, 'see': 89, 'she': 90, 'later': 91, 'reply': 92, 'today': 93, 'tell': 94, 'n': 95, 'dont': 96, 'think': 97, 'da': 98, 'new': 99, \"don't\": 100, 'hi': 101, 'take': 102, 'been': 103, 'any': 104, 'here': 105, 'has': 106, 'much': 107, '1': 108, 'they': 109, 'please': 110, 'week': 111, 'did': 112, 'her': 113, 'pls': 114, 'who': 115, 'some': 116, 'mobile': 117, 'dear': 118, 'ì': 119, 'phone': 120, 'msg': 121, 'oh': 122, \"it's\": 123, 'claim': 124, 'hope': 125, 'night': 126, 'hey': 127, 'great': 128, 'had': 129, 'yes': 130, 'way': 131, 'him': 132, 'well': 133, 'd': 134, 'an': 135, 'give': 136, 'more': 137, 'where': 138, 'right': 139, 'make': 140, 'www': 141, 'tomorrow': 142, 'wat': 143, 'message': 144, 'too': 145, 'ask': 146, 'work': 147, 'prize': 148, 'say': 149, 'should': 150, 'doing': 151, 'meet': 152, 'c': 153, 'really': 154, 'already': 155, 'find': 156, 'why': 157, 'very': 158, 'yeah': 159, 'e': 160, 'after': 161, 'happy': 162, 'morning': 163, 'amp': 164, 'them': 165, 'im': 166, 'cos': 167, 'life': 168, '3': 169, 't': 170, 'said': 171, 'cash': 172, 'babe': 173, 'sent': 174, 'again': 175, 'thanks': 176, 'buy': 177, 'anything': 178, 'won': 179, 'com': 180, \"i've\": 181, 'number': 182, 'thing': 183, 'around': 184, 'last': 185, 'miss': 186, 'contact': 187, 'before': 188, 'also': 189, 'chat': 190, 'care': 191, 'every': 192, 'sure': 193, 'lol': 194, 'something': 195, 'wait': 196, 'uk': 197, 'b': 198, 'even': 199, 'feel': 200, 'cant': 201, 'urgent': 202, 'first': 203, 'place': 204, 'let': 205, 'went': 206, 'pick': 207, 'money': 208, 'win': 209, 'someone': 210, 'would': 211, '150p': 212, 'tonight': 213, 'keep': 214, 'next': 215, 'nokia': 216, 'service': 217, \"can't\": 218, 'gonna': 219, 's': 220, 'his': 221, 'help': 222, 'off': 223, 'v': 224, 'over': 225, 'always': 226, 'soon': 227, 'sleep': 228, 'could': 229, 'other': 230, 'nice': 231, 'use': 232, 'hello': 233, 'wan': 234, 'friends': 235, 'which': 236, '5': 237, 'waiting': 238, 'tone': 239, 'were': 240, 'co': 241, 'mins': 242, 'smile': 243, 'dun': 244, 'told': 245, 'many': 246, \"that's\": 247, '50': 248, 'per': 249, 'sms': 250, 'min': 251, 'us': 252, 'ya': 253, 'year': 254, 'same': 255, '16': 256, 'haha': 257, 'wish': 258, 'name': 259, 'friend': 260, 'done': 261, \"you're\": 262, 'people': 263, 'leave': 264, 'yet': 265, 'heart': 266, 'late': 267, 'things': 268, '18': 269, 'gud': 270, 'man': 271, 'person': 272, 'customer': 273, 'guaranteed': 274, 'days': 275, 'special': 276, 'job': 277, 'coming': 278, 'holiday': 279, 'down': 280, 'thought': 281, 'try': 282, 'talk': 283, 'enjoy': 284, 'cs': 285, \"didn't\": 286, 'house': 287, 'y': 288, 'stuff': 289, 'than': 290, 'lunch': 291, 'trying': 292, 'ìï': 293, 'having': 294, 'fine': 295, 'eat': 296, 'best': 297, 'meeting': 298, 'finish': 299, 'dat': 300, 'may': 301, 'draw': 302, 'never': 303, 'thk': 304, 'class': 305, 'thats': 306, 'getting': 307, 'real': 308, 'ready': 309, 'cool': 310, 'account': 311, 'ill': 312, 'few': 313, 'half': 314, 'live': 315, 'better': 316, 'line': 317, 'll': 318, 'latest': 319, 'room': 320, 'nothing': 321, 'lot': 322, 'long': 323, 'girl': 324, '1st': 325, 'dinner': 326, 'box': 327, 'looking': 328, 'sir': 329, 'once': 330, 'check': 331, 'liao': 332, 'chance': 333, 'å£1': 334, 'word': 335, '2nd': 336, 'x': 337, 'because': 338, 'jus': 339, 'shows': 340, 'yo': 341, 'wanna': 342, 'play': 343, 'cost': 344, 'yup': 345, 'god': 346, 'camera': 347, 'month': 348, 'end': 349, 'receive': 350, 'wife': 351, '7': 352, 'ah': 353, 'video': 354, 'maybe': 355, 'ever': 356, 'sat': 357, 'awarded': 358, 'rate': 359, 'wont': 360, 'guys': 361, 'world': 362, 'called': 363, 'aight': 364, 'den': 365, 'å£1000': 366, 'network': 367, 'plan': 368, 'weekend': 369, 'car': 370, '10': 371, 'landline': 372, 'actually': 373, 'kiss': 374, 'another': 375, 'into': 376, 'watch': 377, 'shopping': 378, '6': 379, 'shit': 380, 'lar': 381, 'bad': 382, 'dis': 383, 'might': 384, 'leh': 385, 'po': 386, 'mind': 387, 'join': 388, 'early': 389, 'problem': 390, 'remember': 391, 'sweet': 392, 'though': 393, 'fun': 394, 'forgot': 395, 'quite': 396, 'easy': 397, 'working': 398, 'orange': 399, 'birthday': 400, 'guess': 401, 'code': 402, 'start': 403, 'tv': 404, 'bt': 405, '150ppm': 406, \"there's\": 407, 'until': 408, 'pa': 409, 'selected': 410, 'm': 411, 'award': 412, 'tmr': 413, 'came': 414, 'everything': 415, 'wif': 416, 'big': 417, 'hear': 418, 'being': 419, 'reach': 420, 'shall': 421, 'office': 422, 'says': 423, 'must': 424, 'thanx': 425, 'wot': 426, 'de': 427, 'most': 428, 'enough': 429, 'didnt': 430, 'speak': 431, 'those': 432, 'hav': 433, 'abt': 434, 'luv': 435, 'price': 436, 'messages': 437, 'collect': 438, 'tones': 439, 'wk': 440, 'bored': 441, 'xxx': 442, '000': 443, \"he's\": 444, 'bit': 445, 'watching': 446, 'town': 447, 'does': 448, 'decimal': 449, 'baby': 450, 'times': 451, 'offer': 452, 'mail': 453, 'anyway': 454, 'bed': 455, 'collection': 456, 'dunno': 457, 'bus': 458, 'school': 459, 'these': 460, 'id': 461, 'xmas': 462, 'double': 463, 'important': 464, 'probably': 465, 'two': 466, 'without': 467, \"how's\": 468, 'fuck': 469, 'making': 470, 'true': 471, 'juz': 472, 'goes': 473, 'pain': 474, 'able': 475, 'mob': 476, 'while': 477, 'missing': 478, 'wake': 479, 'full': 480, 'evening': 481, 'apply': 482, 'look': 483, 'sad': 484, 'sexy': 485, 'til': 486, 'entry': 487, 'calls': 488, 'goin': 489, 'left': 490, 'wanted': 491, 'wants': 492, 'princess': 493, 'attempt': 494, '10p': 495, 'details': 496, '500': 497, 'beautiful': 498, 'believe': 499, 'afternoon': 500, 'saw': 501, 'bring': 502, 'delivery': 503, 'national': 504, 'pay': 505, 'put': 506, 'family': 507, 'show': 508, 'alright': 509, \"won't\": 510, 'comes': 511, 'words': 512, 'answer': 513, 'havent': 514, 'g': 515, 'question': 516, 'away': 517, 'hurt': 518, 'worry': 519, 'since': 520, 'guy': 521, 'between': 522, 'yourself': 523, 'plus': 524, 'oso': 525, \"she's\": 526, 'busy': 527, 'dad': 528, 'test': 529, 'address': 530, 'okay': 531, 'sis': 532, \"what's\": 533, 'hour': 534, 'part': 535, 'little': 536, 'asked': 537, 'chikku': 538, 'music': 539, 'means': 540, 'else': 541, 'sleeping': 542, 'yesterday': 543, 'found': 544, \"haven't\": 545, 'calling': 546, 'dude': 547, '9': 548, '8007': 549, 'lets': 550, 'coz': 551, 'hours': 552, 'valid': 553, 'together': 554, 'vouchers': 555, 'took': 556, 'ringtone': 557, 'hair': 558, 'games': 559, '750': 560, 'boy': 561, 'missed': 562, 'pm': 563, 'await': 564, 'sae': 565, 'wil': 566, 'gift': 567, 'sch': 568, 'wen': 569, 'texts': 570, 'leaving': 571, 'everyone': 572, 'net': 573, 'post': 574, 'date': 575, 'update': 576, 'touch': 577, 'both': 578, 'tot': 579, 'sun': 580, 'neva': 581, 'shop': 582, 'stay': 583, 'top': 584, 'whatever': 585, 'unsubscribe': 586, 'makes': 587, \"we're\": 588, 'online': 589, 'started': 590, 'girls': 591, 'xx': 592, 'story': 593, 'wid': 594, 'worth': 595, 'å£5000': 596, 'drive': 597, 'poly': 598, 'loving': 599, 'http': 600, 'food': 601, 'mum': 602, 'break': 603, 'friendship': 604, 'choose': 605, 'thinking': 606, 'thank': 607, 'alone': 608, 'years': 609, 'till': 610, 'content': 611, 're': 612, 'hard': 613, 'points': 614, 'nite': 615, 'bonus': 616, 'plz': 617, 'change': 618, 'lei': 619, 'todays': 620, 'mine': 621, 'crazy': 622, 'lesson': 623, '8': 624, 'brother': 625, 'made': 626, 'anyone': 627, 'driving': 628, 'minutes': 629, 'colour': 630, 'game': 631, 'pounds': 632, 'dating': 633, 'rs': 634, 'weekly': 635, 'mobileupd8': 636, 'ring': 637, 'haf': 638, 'noe': 639, 'å£100': 640, '11': 641, 'hows': 642, 'needs': 643, 'available': 644, 'old': 645, 'knw': 646, 'sister': 647, 'tried': 648, 'light': 649, 'yours': 650, 'run': 651, 'row': 652, 'drink': 653, 'order': 654, 'huh': 655, 'lucky': 656, 'company': 657, 'don': 658, '\\x89û': 659, 'second': 660, 'secret': 661, 'earlier': 662, 'tho': 663, 'valued': 664, 'card': 665, 'club': 666, 'close': 667, 'happened': 668, 'awesome': 669, 'gone': 670, 'parents': 671, 'far': 672, 'ha': 673, 'rite': 674, 'å£3': 675, 'auction': 676, 'anytime': 677, '08000839402': 678, 'lose': 679, 'feeling': 680, 'trip': 681, 'type': 682, 'news': 683, 'meant': 684, 'drop': 685, 'gd': 686, 'prob': 687, 'treat': 688, 'ard': 689, 'movie': 690, 'luck': 691, 'set': 692, 'saying': 693, 'dreams': 694, 'congrats': 695, 'saturday': 696, 'private': 697, 'statement': 698, 'expires': 699, 'kind': 700, 'congratulations': 701, '100': 702, 'tomo': 703, 'frnd': 704, 'book': 705, '86688': 706, 'å£2000': 707, 'mean': 708, 'ten': 709, 'finished': 710, 'mate': 711, 'gotta': 712, 'reveal': 713, 'thinks': 714, 'cause': 715, 'mom': 716, 'fast': 717, 'pic': 718, 'walk': 719, \"you've\": 720, 'minute': 721, 'whole': 722, 'offers': 723, 'final': 724, 'w': 725, 'mu': 726, \"we'll\": 727, 'gym': 728, 'asap': 729, 'pics': 730, 'hee': 731, 'å£500': 732, 'sea': 733, 'mayb': 734, 'b4': 735, 'college': 736, 'smoke': 737, 'pub': 738, 'opt': 739, 'used': 740, 'land': 741, 'taking': 742, 'sunday': 743, 'either': 744, 'identifier': 745, 'reason': 746, 'open': 747, 'eve': 748, 'hot': 749, 'wkly': 750, 'mates': 751, 'fancy': 752, 'services': 753, 'goodmorning': 754, 'forget': 755, 'winner': 756, 'darlin': 757, 'lots': 758, 'email': 759, 'area': 760, 'fri': 761, 'nope': 762, 'nt': 763, 'within': 764, 'wrong': 765, 'welcome': 766, 'dogging': 767, 'msgs': 768, 'friday': 769, 'couple': 770, 'outside': 771, 'bout': 772, 'pretty': 773, \"''\": 774, 'visit': 775, 'happiness': 776, 'gr8': 777, 'savamob': 778, 'credit': 779, 'okie': 780, 'slow': 781, 'confirm': 782, 'angry': 783, 'motorola': 784, 'frnds': 785, '30': 786, 'face': 787, '2nite': 788, 'read': 789, 'freemsg': 790, 'supposed': 791, 'etc': 792, 'abiola': 793, 'bathe': 794, 'telling': 795, '12hrs': 796, 'search': 797, 'mah': 798, 'point': 799, 'fone': 800, 'park': 801, '03': 802, 'o': 803, 'blue': 804, 'india': 805, 'support': 806, 'feels': 807, 'fucking': 808, 'own': 809, 'log': 810, 'currently': 811, 'nyt': 812, 'snow': 813, 'quiz': 814, 'th': 815, 'bank': 816, 'weed': 817, 'tonite': 818, 'muz': 819, 'happen': 820, 'clean': 821, 'blood': 822, 'sound': 823, 'hit': 824, 'through': 825, 'admirer': 826, 'å£350': 827, 'charge': 828, 'listen': 829, 'sex': 830, 'sort': 831, 'glad': 832, 'surprise': 833, 'sending': 834, '0800': 835, 'hmmm': 836, 'gets': 837, 'voucher': 838, 'truth': 839, 'bath': 840, 'call2optout': 841, 'stupid': 842, 'project': 843, 'pobox': 844, 'link': 845, 'booked': 846, 'their': 847, 'pass': 848, 'em': 849, 'lovely': 850, \"doesn't\": 851, 'frm': 852, 'decided': 853, 'player': 854, 'ltd': 855, 'txts': 856, 'phones': 857, 'f': 858, 'cum': 859, 'laptop': 860, 'case': 861, 'un': 862, 'side': 863, '2003': 864, '800': 865, '87066': 866, 'smiling': 867, 'å£2': 868, 'caller': 869, 'whats': 870, 'picking': 871, 'carlos': 872, 'suite342': 873, '2lands': 874, 'nah': 875, 'hand': 876, 'police': 877, 'children': 878, 'complimentary': 879, 'yar': 880, 'leaves': 881, 'darren': 882, 'sounds': 883, 'empty': 884, 'boytoy': 885, \"c's\": 886, 'rental': 887, 'laugh': 888, 'balance': 889, 'charity': 890, 'mm': 891, 'oredi': 892, 'lost': 893, 'normal': 894, 'party': 895, 'difficult': 896, 'mrng': 897, 'weeks': 898, 'reading': 899, 'sony': 900, 'fact': 901, \"'\": 902, 'workin': 903, 'orchard': 904, 'å£150': 905, 'discount': 906, '00': 907, 'coffee': 908, 'met': 909, 'questions': 910, 'press': 911, 'std': 912, 'terms': 913, '150': 914, 'swing': 915, 'via': 916, 'comp': 917, 'enter': 918, 'talking': 919, 'usf': 920, 'asking': 921, 'cut': 922, \"wasn't\": 923, 'tc': 924, 'ringtones': 925, 'match': 926, 'info': 927, 'doin': 928, 'slave': 929, 'die': 930, 'wine': 931, 'sunshine': 932, 'lessons': 933, 'ass': 934, 'remove': 935, 'chennai': 936, 'poor': 937, 'wonderful': 938, 'eg': 939, 'almost': 940, 'ipod': 941, 'unlimited': 942, 'move': 943, 'save': 944, '\\x89ûò': 945, 'rain': 946, '08000930705': 947, 'facebook': 948, 'fr': 949, 'mr': 950, 'redeemed': 951, '04': 952, 'cinema': 953, 'others': 954, 'umma': 955, '06': 956, 'sometimes': 957, 'mobiles': 958, 'shower': 959, 'txting': 960, 'especially': 961, 'staying': 962, 'ho': 963, 'red': 964, 'hold': 965, 'smth': 966, 'tired': 967, 'finally': 968, 'whenever': 969, 'exam': 970, 'hungry': 971, 'starting': 972, 'song': 973, 'getzed': 974, 'pray': 975, 'john': 976, 'eh': 977, 'understand': 978, 'against': 979, 'hmm': 980, 'information': 981, 'computer': 982, 'thinkin': 983, 'water': 984, 'operator': 985, 'sick': 986, 'invited': 987, 'wiv': 988, 'march': 989, 'semester': 990, 'sofa': 991, 'rent': 992, 'felt': 993, 'ugh': 994, 'kids': 995, '12': 996, 'film': 997, 'colleagues': 998, 'sell': 999, 'representative': 1000, \"uk's\": 1001, 'frens': 1002, 'gn': 1003, 'ge': 1004, 'fantastic': 1005, 'least': 1006, 'door': 1007, \"you'd\": 1008, 'feb': 1009, 'lover': 1010, 'rest': 1011, 'yijue': 1012, 'nobody': 1013, 'extra': 1014, 'ar': 1015, 'aft': 1016, 'cold': 1017, 'hoping': 1018, 'na': 1019, 'knew': 1020, 'training': 1021, 'hiya': 1022, 'age': 1023, 'loves': 1024, 'copy': 1025, 'head': 1026, 'camcorder': 1027, 'each': 1028, 'kate': 1029, 'valentine': 1030, 'jay': 1031, 'road': 1032, 'somewhere': 1033, 'alex': 1034, 'tampa': 1035, 'yr': 1036, 'age16': 1037, 'wit': 1038, 'hop': 1039, 'warm': 1040, 'worried': 1041, 'near': 1042, 'al': 1043, 'accept': 1044, 'following': 1045, 'decide': 1046, \"you'll\": 1047, 'rakhesh': 1048, 'thru': 1049, 'cheap': 1050, 'holla': 1051, 'direct': 1052, 'hg': 1053, 'crave': 1054, 'credits': 1055, 'train': 1056, 'wednesday': 1057, 'drugs': 1058, 'anymore': 1059, 'checking': 1060, 'woke': 1061, 'add': 1062, 'hospital': 1063, 'cheers': 1064, '20': 1065, 'power': 1066, 'self': 1067, 'xy': 1068, 'completely': 1069, 'urself': 1070, 'bcoz': 1071, 'fault': 1072, 'eyes': 1073, 'different': 1074, 'fixed': 1075, 'wow': 1076, 'promise': 1077, 'figure': 1078, 'rates': 1079, 'dnt': 1080, 'medical': 1081, 'simple': 1082, 'tel': 1083, 'weight': 1084, 'malaria': 1085, 'takes': 1086, 'imma': 1087, 'hai': 1088, 'rock': 1089, 'paper': 1090, 'charged': 1091, 'bid': 1092, 'father': 1093, 'running': 1094, 'doesnt': 1095, 'disturb': 1096, 'joined': 1097, 'uncle': 1098, 'planned': 1099, 'don\\x89û÷t': 1100, 'joke': 1101, 'yest': 1102, 'kb': 1103, 'wonder': 1104, 'dead': 1105, 'paid': 1106, 'digital': 1107, '28': 1108, 'voice': 1109, 'ahead': 1110, 'naked': 1111, \"they're\": 1112, \"i'd\": 1113, 'specially': 1114, 'pound': 1115, 'tuesday': 1116, 'dint': 1117, \"b'day\": 1118, 'entered': 1119, 'askd': 1120, 'mood': 1121, 'yay': 1122, '85023': 1123, 'lift': 1124, 'moral': 1125, \"u'll\": 1126, 'wap': 1127, 'five': 1128, 'somebody': 1129, 'gee': 1130, 'å£250': 1131, 'bluetooth': 1132, 'dvd': 1133, 'problems': 1134, 'married': 1135, '20p': 1136, '25p': 1137, 'convey': 1138, 'sense': 1139, 'grins': 1140, 'user': 1141, 'weekends': 1142, 'yoga': 1143, 'damn': 1144, 'immediately': 1145, 'del': 1146, 'marry': 1147, 'rcvd': 1148, 'matches': 1149, 'style': 1150, '4th': 1151, 'loan': 1152, 'alrite': 1153, 'across': 1154, 'tick': 1155, 'ans': 1156, 'situation': 1157, 'bag': 1158, 'aiyo': 1159, 'unsub': 1160, 'otherwise': 1161, 'forever': 1162, 'awaiting': 1163, 'gas': 1164, 'heard': 1165, 'library': 1166, 'callertune': 1167, 'sitting': 1168, 'pleased': 1169, 'meaning': 1170, 'tough': 1171, 'single': 1172, '8th': 1173, 'spend': 1174, 'small': 1175, '2day': 1176, 'store': 1177, 'tea': 1178, 'dream': 1179, 'team': 1180, 'starts': 1181, 'round': 1182, 'ldew': 1183, 'seeing': 1184, \"who's\": 1185, '02': 1186, 'rply': 1187, 'amazing': 1188, 'cell': 1189, 'kinda': 1190, 'bslvyl': 1191, 'ac': 1192, 'black': 1193, '2004': 1194, 'bugis': 1195, 'appreciate': 1196, 'comuk': 1197, 'wishing': 1198, 'merry': 1199, 'rose': 1200, 'including': 1201, 'mrt': 1202, 'wana': 1203, 'trouble': 1204, 'numbers': 1205, 'sp': 1206, 'seen': 1207, '50p': 1208, 'murdered': 1209, 'murder': 1210, 'maid': 1211, 'marriage': 1212, 'murderer': 1213, 'cuz': 1214, 'mistake': 1215, 'changed': 1216, \"isn't\": 1217, 'less': 1218, 'bb': 1219, 'flirt': 1220, 'ago': 1221, 'tht': 1222, 'valentines': 1223, 'moment': 1224, 'quality': 1225, 'heavy': 1226, 'loverboy': 1227, 'p': 1228, 'loads': 1229, 'king': 1230, 'super': 1231, 'reached': 1232, 'ntt': 1233, 'comin': 1234, 'happens': 1235, 'fyi': 1236, 'expensive': 1237, 'excellent': 1238, 'process': 1239, 'cute': 1240, 'present': 1241, 'write': 1242, 'summer': 1243, 'replying': 1244, 'w1j6hl': 1245, 'awake': 1246, 'insurance': 1247, 'monday': 1248, 'sport': 1249, 'country': 1250, 'envelope': 1251, 'access': 1252, 'tenerife': 1253, 'goodnight': 1254, \"joy's\": 1255, 'il': 1256, 'deal': 1257, 'hurry': 1258, 'slept': 1259, 'wun': 1260, 'shuhui': 1261, 'meds': 1262, \"aren't\": 1263, 'kick': 1264, 'sipix': 1265, 'thnk': 1266, 'putting': 1267, 'studying': 1268, '08712300220': 1269, 'past': 1270, 'months': 1271, 'however': 1272, 'white': 1273, 'transaction': 1274, 'arrange': 1275, 'become': 1276, 'playing': 1277, 'sign': 1278, 'track': 1279, '4u': 1280, 'idea': 1281, 'internet': 1282, 'bedroom': 1283, 'cake': 1284, 'screaming': 1285, 'omg': 1286, 'high': 1287, 'member': 1288, '10am': 1289, 'eating': 1290, 'england': 1291, 'flag': 1292, 'using': 1293, 'aiyah': 1294, 'interested': 1295, 'o2': 1296, 'ts': 1297, 'vl': 1298, 'dog': 1299, 'excuse': 1300, 'ldn': 1301, 'regards': 1302, 'reference': 1303, 'birds': 1304, 'pussy': 1305, 'giving': 1306, 'pilates': 1307, 'pizza': 1308, 'forwarded': 1309, 'costa': 1310, 'sol': 1311, 'sk38xh': 1312, 'charges': 1313, 'st': 1314, 'local': 1315, 'nature': 1316, 'worries': 1317, \"u're\": 1318, 'lady': 1319, 'correct': 1320, 'tariffs': 1321, 'records': 1322, 'posted': 1323, 'thursday': 1324, 'sub': 1325, 'amount': 1326, 'mp3': 1327, 'daddy': 1328, 'å£900': 1329, 'izzit': 1330, 'website': 1331, '08712460324': 1332, 'january': 1333, 'return': 1334, 'looks': 1335, 'drug': 1336, 'simply': 1337, 'works': 1338, 'pictures': 1339, 'raining': 1340, 'kept': 1341, 'knows': 1342, 'pleasure': 1343, 'plans': 1344, 'body': 1345, \"shouldn't\": 1346, 'relax': 1347, 'model': 1348, 'horny': 1349, 'cd': 1350, 'cancer': 1351, 'law': 1352, 'linerental': 1353, 'laid': 1354, 'wherever': 1355, 'shirt': 1356, '05': 1357, 'bucks': 1358, 'sale': 1359, 'mon': 1360, 'entitled': 1361, 'wondering': 1362, 'trust': 1363, 'recently': 1364, 'rather': 1365, 'locations': 1366, 'ec2a': 1367, 'men': 1368, 'yrs': 1369, 'goto': 1370, 'login': 1371, 'advance': 1372, 'some1': 1373, 'gal': 1374, 'walking': 1375, 'jst': 1376, 'aathi': 1377, 'hurts': 1378, 'places': 1379, 'honey': 1380, 'forward': 1381, 'boston': 1382, 'happening': 1383, 'å£10': 1384, 'planning': 1385, 'yep': 1386, 'waste': 1387, 'seriously': 1388, 'safe': 1389, 'kallis': 1390, 'pete': 1391, 'ive': 1392, 'bill': 1393, 'kerala': 1394, 'no1': 1395, '36504': 1396, 'opportunity': 1397, 'yogasana': 1398, 'bother': 1399, 'freephone': 1400, 'mother': 1401, 'sunny': 1402, 'serious': 1403, 'reward': 1404, '80488': 1405, 'buying': 1406, 'howz': 1407, 'omw': 1408, 'nxt': 1409, 'flat': 1410, 'horrible': 1411, \"god's\": 1412, 'din': 1413, 'thts': 1414, 'hw': 1415, 'random': 1416, 'buns': 1417, 'biz': 1418, 'review': 1419, 'onto': 1420, 'straight': 1421, 'catch': 1422, 'quick': 1423, 'realy': 1424, 'wnt': 1425, 'exciting': 1426, 'ending': 1427, 'greet': 1428, 'stand': 1429, 'aint': 1430, 'j': 1431, 'cup': 1432, 'ice': 1433, 'nigeria': 1434, '11mths': 1435, 'smiles': 1436, 'asleep': 1437, 'seems': 1438, 'course': 1439, 'å£200': 1440, 'worse': 1441, 'deliver': 1442, 'informed': 1443, 'imagine': 1444, 'learn': 1445, '82277': 1446, 'stopped': 1447, 'acc': 1448, 'hook': 1449, 'click': 1450, 'aha': 1451, 'torch': 1452, 'babes': 1453, 'å£800': 1454, 'future': 1455, 'jesus': 1456, 'bx420': 1457, 'ip4': 1458, '5we': 1459, 'noon': 1460, 'usually': 1461, 'lmao': 1462, 'picked': 1463, 'flower': 1464, '08718720201': 1465, 'yahoo': 1466, 'cine': 1467, 'woman': 1468, 'none': 1469, 'ones': 1470, 'custcare': 1471, 'tickets': 1472, 'download': 1473, 'surely': 1474, 'result': 1475, 'miracle': 1476, 'ish': 1477, 'except': 1478, 'battery': 1479, 'salary': 1480, 'med': 1481, 'i\\x89û÷m': 1482, '09061221066': 1483, 'fromm': 1484, \"u've\": 1485, '250': 1486, 'paying': 1487, 'askin': 1488, 'logo': 1489, 'mad': 1490, 'instead': 1491, '4get': 1492, 'hell': 1493, 'role': 1494, 'outta': 1495, 'ex': 1496, 'possible': 1497, 'village': 1498, 'ticket': 1499, 'centre': 1500, 'wed': 1501, \"did'nt\": 1502, 'boss': 1503, 'apartment': 1504, 'google': 1505, 'theatre': 1506, 'bringing': 1507, 'pobox84': 1508, 'm263uz': 1509, 'cancel': 1510, 'ladies': 1511, 'official': 1512, 'unless': 1513, 'subscription': 1514, 'space': 1515, 'arcade': 1516, 'pc': 1517, 'received': 1518, 'unique': 1519, 'ignore': 1520, 'costs': 1521, 'rooms': 1522, 'wishes': 1523, 'ta': 1524, 'bitch': 1525, '09050090044': 1526, 'toclaim': 1527, 'pobox334': 1528, 'stockport': 1529, 'costå£1': 1530, 'max10mins': 1531, 'pple': 1532, 'polyphonic': 1533, 'zed': 1534, 'wonders': 1535, '7th': 1536, '6th': 1537, '5th': 1538, 'personality': 1539, '3rd': 1540, 'ym': 1541, 'version': 1542, 'purpose': 1543, 'tenants': 1544, 'feet': 1545, 'cream': 1546, 'fix': 1547, 'whether': 1548, \"today's\": 1549, 'tuition': 1550, 'photo': 1551, 'pissed': 1552, 'å£400': 1553, '83355': 1554, 'discuss': 1555, 'keeping': 1556, 'remind': 1557, 'texting': 1558, 'hella': 1559, 'boo': 1560, 'moms': 1561, 'mid': 1562, 'ended': 1563, 'request': 1564, \"wouldn't\": 1565, 'shd': 1566, 'inform': 1567, 'enjoyed': 1568, 'handset': 1569, 'brings': 1570, 'sen': 1571, '1000s': 1572, 'itself': 1573, 'bin': 1574, 'dey': 1575, 'fall': 1576, 'south': 1577, '25': 1578, 'l8r': 1579, 'sura': 1580, 'fantasy': 1581, 'sky': 1582, 'inside': 1583, 'guide': 1584, 'num': 1585, 'intelligent': 1586, 'ttyl': 1587, 'ahmad': 1588, \"did't\": 1589, 'cleaning': 1590, 'tncs': 1591, 'players': 1592, '3g': 1593, 'tear': 1594, 'hun': 1595, 'ru': 1596, 'ni8': 1597, 'report': 1598, 'travel': 1599, 'reaching': 1600, 'darling': 1601, 'largest': 1602, 'activate': 1603, '86021': 1604, 'gave': 1605, 'persons': 1606, 'songs': 1607, 'comedy': 1608, 'tis': 1609, 'relation': 1610, 'doctor': 1611, 'basically': 1612, 'yun': 1613, 'short': 1614, 'obviously': 1615, 'solve': 1616, 'arrested': 1617, 'brilliant': 1618, 'moji': 1619, 'nyc': 1620, 'brand': 1621, 'fullonsms': 1622, 'experience': 1623, 'essential': 1624, 'system': 1625, 'opinion': 1626, 'exactly': 1627, 'w45wq': 1628, 'norm150p': 1629, '3030': 1630, 'lonely': 1631, 'jazz': 1632, 'hip': 1633, 'mite': 1634, 'behind': 1635, 'notice': 1636, 'url': 1637, 'nw': 1638, 'rays': 1639, 'takin': 1640, 'sha': 1641, 'cars': 1642, 'mo': 1643, 'gravity': 1644, 'carefully': 1645, 'embarassed': 1646, 'scream': 1647, 'page': 1648, 'sept': 1649, 'bet': 1650, 'credited': 1651, 'totally': 1652, 'urawinner': 1653, 'basic': 1654, 'explain': 1655, 'wearing': 1656, 'tour': 1657, 'adult': 1658, 'asks': 1659, 'sim': 1660, 'voda': 1661, 'quoting': 1662, 'standard': 1663, 'app': 1664, 'conditions': 1665, 'pg': 1666, 'selection': 1667, 'brought': 1668, 'common': 1669, 'tat': 1670, 'earth': 1671, 'turns': 1672, 'moan': 1673, 'cross': 1674, 'ntwk': 1675, '08001950382': 1676, 'cry': 1677, '2optout': 1678, 'unsold': 1679, 'coins': 1680, 'gentle': 1681, 'liked': 1682, 'fa': 1683, '87121': 1684, 'april': 1685, \"where's\": 1686, 'exams': 1687, 'depends': 1688, 'current': 1689, 'bday': 1690, 'jamster': 1691, 'shortly': 1692, 'queen': 1693, 'fb': 1694, 'oops': 1695, 'site': 1696, 'christmas': 1697, 'ends': 1698, 'nvm': 1699, 'hrs': 1700, 'complete': 1701, 'gay': 1702, '1327': 1703, 'croydon': 1704, 'cr9': 1705, '5wb': 1706, '0870': 1707, 'tyler': 1708, 'spree': 1709, 'london': 1710, 'exact': 1711, 'meal': 1712, 'daily': 1713, 'machan': 1714, 'q': 1715, 'under': 1716, 'yan': 1717, 'jiu': 1718, '150pm': 1719, 'street': 1720, 'naughty': 1721, 'teaches': 1722, 'la': 1723, 'blank': 1724, 'share': 1725, 'myself': 1726, 'lect': 1727, 'career': 1728, 'lacs': 1729, 'gettin': 1730, 'prabha': 1731, 'qatar': 1732, 'mode': 1733, 'maximize': 1734, 'cc': 1735, 'donåõt': 1736, 'connect': 1737, 'drinks': 1738, 'eatin': 1739, 'arms': 1740, 'vikky': 1741, 'kano': 1742, 'lookin': 1743, 'strong': 1744, 'hl': 1745, 'receiving': 1746, 'budget': 1747, 'polys': 1748, '7pm': 1749, 'hostel': 1750, 'letters': 1751, '40gb': 1752, 'indian': 1753, 'replied': 1754, 'cover': 1755, 'personal': 1756, 'karaoke': 1757, 'purchase': 1758, 'certainly': 1759, 'jan': 1760, 'slowly': 1761, 'sorted': 1762, 'attend': 1763, 'sighs': 1764, 'august': 1765, 'morphine': 1766, 'cud': 1767, 'mini': 1768, 'dress': 1769, 'hols': 1770, 'eerie': 1771, 'spook': 1772, 'upset': 1773, 'bat': 1774, 'fit': 1775, 'female': 1776, 'freezing': 1777, 'joy': 1778, 'ages': 1779, 'women': 1780, 'lines': 1781, 'amt': 1782, 'warner': 1783, 'calicut': 1784, 'gals': 1785, 'everybody': 1786, \"''ok''\": 1787, 'sed': 1788, 'minuts': 1789, 'latr': 1790, 'kidz': 1791, 'wedding': 1792, 'score': 1793, 'greetings': 1794, 'subs': 1795, 'dry': 1796, 'fell': 1797, '9pm': 1798, 'medicine': 1799, 'sooner': 1800, 'optout': 1801, 'eng': 1802, \"she'll\": 1803, 'jokes': 1804, 'concentrate': 1805, '0': 1806, 'settings': 1807, 'ave': 1808, 'chinese': 1809, 'lead': 1810, 'proof': 1811, 'cust': 1812, '08712405020': 1813, 'sonyericsson': 1814, 'evn': 1815, 'lazy': 1816, '121': 1817, 'nimya': 1818, \"mom's\": 1819, 'sports': 1820, 've': 1821, 'jordan': 1822, 'speed': 1823, 'pobox36504w45wq': 1824, 'nichols': 1825, 'paris': 1826, 'å£75': 1827, 'homeowners': 1828, 'previously': 1829, 'refused': 1830, '1956669': 1831, \"'help'\": 1832, 'teasing': 1833, 'pouts': 1834, 'stomps': 1835, 'air': 1836, 'fat': 1837, 'fingers': 1838, 'rich': 1839, 'argument': 1840, 'wins': 1841, 'argue': 1842, 'doggy': 1843, 'contract': 1844, 'callback': 1845, 'issues': 1846, 'returns': 1847, '530': 1848, 'cha': 1849, 'rofl': 1850, 'wtf': 1851, 'oni': 1852, 'roommates': 1853, 'answering': 1854, 'mtmsgrcvd18': 1855, 'wanting': 1856, 'midnight': 1857, 'isnt': 1858, 'aiya': 1859, 'fetch': 1860, 'vomit': 1861, '6hrs': 1862, 'ate': 1863, 'deleted': 1864, 'soup': 1865, 'yetunde': 1866, 'returned': 1867, 'period': 1868, 'callers': 1869, 'seemed': 1870, 'madam': 1871, 'senthil': 1872, 'group': 1873, 'jess': 1874, 'recd': 1875, 'successfully': 1876, 'meh': 1877, 'storming': 1878, 'phne': 1879, 'wt': 1880, 'margaret': 1881, 'girlfrnd': 1882, 'grahmbell': 1883, 'invnted': 1884, 'telphone': 1885, 'provided': 1886, 'voicemail': 1887, 'rule': 1888, 'contacted': 1889, 'instructions': 1890, \"wat's\": 1891, 'bowl': 1892, 'lecture': 1893, 'spanish': 1894, 'energy': 1895, 'lousy': 1896, 'waking': 1897, 'green': 1898, 'step': 1899, '80082': 1900, 'choice': 1901, 'infernal': 1902, 'football': 1903, 'postcode': 1904, 'responding': 1905, 'art': 1906, '26': 1907, 'tests': 1908, 'lick': 1909, 'evng': 1910, 'loved': 1911, '125gift': 1912, 'com1win150ppmx3age16': 1913, 'holding': 1914, '09066362231': 1915, '07xxxxxxxxx': 1916, 'belovd': 1917, 'enemy': 1918, 'sore': 1919, 'videophones': 1920, '09063458130': 1921, 'videochat': 1922, 'java': 1923, 'dload': 1924, 'polyph': 1925, 'noline': 1926, 'rentl': 1927, 'often': 1928, 'bein': 1929, 'lie': 1930, 'low': 1931, 'dates': 1932, 'teeth': 1933, 'twelve': 1934, 'aah': 1935, 'campus': 1936, 'understanding': 1937, '21': 1938, 'inviting': 1939, '62468': 1940, 'sometime': 1941, '786': 1942, 'unredeemed': 1943, 'looked': 1944, 'sup': 1945, 'thurs': 1946, 'fees': 1947, 'university': 1948, 'seem': 1949, 'chatting': 1950, '7250i': 1951, 'w1jhl': 1952, 'geeee': 1953, 'lab': 1954, 'inclusive': 1955, '3qxj9': 1956, '08702840625': 1957, '220': 1958, 'cm2': 1959, '9ae': 1960, 'foreign': 1961, 'stamps': 1962, 'buff': 1963, 'vava': 1964, 'afraid': 1965, 'praying': 1966, 'chechi': 1967, 'ron': 1968, 'becoz': 1969, 'movies': 1970, 'ph': 1971, 'raise': 1972, 'italian': 1973, 'ì©': 1974, '900': 1975, 'eggs': 1976, 'failed': 1977, 'due': 1978, 'fantasies': 1979, '60p': 1980, 'questioned': 1981, 'cook': 1982, 'cooking': 1983, 'gardener': 1984, 'vegetables': 1985, 'neighbour': 1986, 'study': 1987, 'regarding': 1988, 'membership': 1989, 'networking': 1990, 'realized': 1991, 'subscribed': 1992, 'diff': 1993, 'weird': 1994, 'abta': 1995, 'fill': 1996, 'preferably': 1997, 'tree': 1998, 'checked': 1999, 'sender': 2000, 'blessings': 2001, 'xchat': 2002, 'joking': 2003, '87131': 2004, 'social': 2005, 'tscs': 2006, 'skillgame': 2007, '1winaweek': 2008, '150ppermesssubscription': 2009, 'journey': 2010, 'garage': 2011, 'idk': 2012, 'cbe': 2013, 'city': 2014, 'uks': 2015, 'james': 2016, 'bless': 2017, 'egg': 2018, 'in2': 2019, 'faster': 2020, '0808': 2021, '145': 2022, '4742': 2023, '9am': 2024, '11pm': 2025, 'miles': 2026, 'bay': 2027, 'dropped': 2028, 'boring': 2029, 'ideas': 2030, 'lives': 2031, 'mark': 2032, 'intro': 2033, 'selling': 2034, 'broke': 2035, 'list': 2036, 'reasons': 2037, 'bags': 2038, 'played': 2039, 'bros': 2040, 'rang': 2041, 'l': 2042, '2mrw': 2043, 'callin': 2044, 'timing': 2045, 'uni': 2046, 'box97n7qp': 2047, 'wats': 2048, 'spending': 2049, 'ic': 2050, 'sit': 2051, 'pending': 2052, 'partner': 2053, 'gautham': 2054, 'swt': 2055, 'dem': 2056, 'wisdom': 2057, 'alwys': 2058, 'revealed': 2059, 'walls': 2060, 'closer': 2061, 'picture': 2062, 'ache': 2063, 'spell': 2064, 'derek': 2065, 'management': 2066, 'loud': 2067, 'during': 2068, 'burger': 2069, '2moro': 2070, 'touched': 2071, 'files': 2072, 'bro': 2073, 'appt': 2074, 'wet': 2075, 'frying': 2076, 'sec': 2077, 'hmv': 2078, 'alert': 2079, 'vary': 2080, 'pink': 2081, \"we'd\": 2082, 'singles': 2083, 'note': 2084, 'iz': 2085, 'itz': 2086, 'beer': 2087, 'jason': 2088, 'hopefully': 2089, 'barely': 2090, 'aiyar': 2091, 'truly': 2092, 'gbp': 2093, 'tkts': 2094, '2005': 2095, 'title': 2096, 'died': 2097, 'gram': 2098, 'nights': 2099, 'wah': 2100, 'def': 2101, '08715705022': 2102, 'registered': 2103, 'transfer': 2104, 'citizen': 2105, 'losing': 2106, 'wallpaper': 2107, 'butt': 2108, 'tm': 2109, 'anybody': 2110, 'december': 2111, 'bathing': 2112, 'hint': 2113, 'gives': 2114, 'perfect': 2115, 'sight': 2116, 'callså£1': 2117, 'it\\x89û÷s': 2118, 'upload': 2119, 'innings': 2120, 'spent': 2121, 'chasing': 2122, 'living': 2123, 'ad': 2124, 'biggest': 2125, 'stock': 2126, 'indians': 2127, 'teach': 2128, 'apps': 2129, 'handle': 2130, 'loss': 2131, 'belly': 2132, 'sry': 2133, 'wear': 2134, 'pages': 2135, 'suite': 2136, 'flight': 2137, 'rush': 2138, 'throat': 2139, 'bf': 2140, 'euro2004': 2141, 'results': 2142, 'euro': 2143, 'husband': 2144, 'captain': 2145, 'middle': 2146, 'blow': 2147, 'ansr': 2148, 'tyrone': 2149, 'bought': 2150, 'announcement': 2151, 'newest': 2152, 'pin': 2153, 'dai': 2154, 'exe': 2155, 'surfing': 2156, 'blackberry': 2157, 'abi': 2158, 'ppm': 2159, 'kindly': 2160, 'hr': 2161, '2stoptxt': 2162, 'se': 2163, 'mths': 2164, 'tt': 2165, 'ride': 2166, 'rude': 2167, 'public': 2168, 'govt': 2169, 'instituitions': 2170, 'closed': 2171, 'activities': 2172, \"t's\": 2173, 'argh': 2174, 'research': 2175, 'english': 2176, 'iam': 2177, 'bold': 2178, 'chillin': 2179, 'nan': 2180, '5000': 2181, 'cw25wx': 2182, 'practice': 2183, 'funny': 2184, 'reality': 2185, '08707509020': 2186, 'likely': 2187, '09061209465': 2188, 'suprman': 2189, 'matrix3': 2190, 'starwars3': 2191, 'usc': 2192, 'menu': 2193, 'iåõm': 2194, 'quickly': 2195, 'include': 2196, 'armand': 2197, 'season': 2198, '09066612661': 2199, 'twice': 2200, 'boat': 2201, 'added': 2202, 'missin': 2203, 'definitely': 2204, '87077': 2205, 'willing': 2206, 'vry': 2207, 'freefone': 2208, 'cuddle': 2209, 'floor': 2210, 'fml': 2211, 'original': 2212, 'dearly': 2213, 'begin': 2214, 'spoke': 2215, '87239': 2216, 'chosen': 2217, 'smart': 2218, 'snake': 2219, 'cheaper': 2220, 'er': 2221, 'dare': 2222, 'cam': 2223, 'roger': 2224, 'business': 2225, 'masters': 2226, 'favourite': 2227, 'plenty': 2228, 'claire': 2229, 'standing': 2230, 'interview': 2231, 'frndship': 2232, 'bigger': 2233, 'txtin': 2234, '4info': 2235, 'skype': 2236, 'btw': 2237, 'fight': 2238, 'tom': 2239, 'six': 2240, 'clock': 2241, 'weak': 2242, 'sing': 2243, 'taunton': 2244, 'finishes': 2245, 'password': 2246, 'alfie': 2247, \"moon's\": 2248, 'm8s': 2249, 'nokias': 2250, '08701417012': 2251, 'profit': 2252, 'expecting': 2253, 'technical': 2254, 'whenevr': 2255, 'bright': 2256, 'vodafone': 2257, 'scared': 2258, 'norm': 2259, 'stuck': 2260, 'sugar': 2261, 'sam': 2262, 'along': 2263, 'upto': 2264, 'hate': 2265, 'cannot': 2266, 'seat': 2267, 'smokes': 2268, \"week's\": 2269, 'meanwhile': 2270, 'advise': 2271, 'recent': 2272, 'å£1500': 2273, 'chicken': 2274, \"couldn't\": 2275, 'banks': 2276, \"blake's\": 2277, 'alcohol': 2278, '123': 2279, 'å£1450': 2280, 'downloads': 2281, 'themob': 2282, 'ubi': 2283, '3lp': 2284, 'befor': 2285, 'crab': 2286, 'footprints': 2287, 'restaurant': 2288, 'three': 2289, 'railway': 2290, 'tog': 2291, 'monkeys': 2292, 'wud': 2293, 'prospects': 2294, 'outstanding': 2295, '447801259231': 2296, '09058094597': 2297, 'doc': 2298, '8pm': 2299, 'ela': 2300, 'infront': 2301, 'fab': 2302, 'british': 2303, 'hotels': 2304, 'dial': 2305, 'sw73ss': 2306, \"month's\": 2307, 'halloween': 2308, 'constantly': 2309, 'ear': 2310, 'surprised': 2311, 'moving': 2312, 'released': 2313, 'vday': 2314, 'shirts': 2315, 'underwear': 2316, 'cheer': 2317, 'deciding': 2318, 'headache': 2319, 'h': 2320, 'hol': 2321, 'roads': 2322, 'record': 2323, '2000': 2324, '08712402050': 2325, '10ppm': 2326, 'ag': 2327, 'promo': 2328, 'searching': 2329, 'talent': 2330, 'popcorn': 2331, 'kiosk': 2332, 'welp': 2333, 'addie': 2334, 'tues': 2335, 'babies': 2336, 'cabin': 2337, 'dorm': 2338, 'spring': 2339, 'easier': 2340, 'popped': 2341, 'galileo': 2342, 'trade': 2343, 'å£6': 2344, 'boys': 2345, 'handed': 2346, 'celebration': 2347, '169': 2348, '6031': 2349, 'anti': 2350, 'kicks': 2351, 'male': 2352, 'fastest': 2353, 'growing': 2354, '2stop': 2355, 'twenty': 2356, 'yer': 2357, '84199': 2358, 'box39822': 2359, 'w111wx': 2360, 'fren': 2361, 'honeybee': 2362, 'sweetest': 2363, 'laughed': 2364, 'havnt': 2365, 'crack': 2366, 'gm': 2367, 'regular': 2368, 'fret': 2369, 'ovulation': 2370, 'skip': 2371, '08718726270': 2372, 'improve': 2373, 'minor': 2374, 'engin': 2375, 'arts': 2376, 'buffet': 2377, '08002888812': 2378, 'holder': 2379, 'package': 2380, 'thot': 2381, 'box334sk38ch': 2382, 'thgt': 2383, 'allow': 2384, '84128': 2385, 'textcomp': 2386, '1000': 2387, 'neck': 2388, 'bud': 2389, 'previous': 2390, 'evr': 2391, 'haiz': 2392, 'drivin': 2393, 'explicit': 2394, 'secs': 2395, '02073162414': 2396, 'favour': 2397, 'slots': 2398, 'msn': 2399, 'mostly': 2400, 'lyk': 2401, 'anywhere': 2402, 'chain': 2403, 'whn': 2404, 'saucy': 2405, 'diet': 2406, 'cheat': 2407, 'tank': 2408, 'discreet': 2409, 'action': 2410, 'speedchat': 2411, '2morow': 2412, 'signing': 2413, 'petey': 2414, 'spoken': 2415, 'roommate': 2416, 'dubsack': 2417, 'fave': 2418, 'alive': 2419, 'shipped': 2420, 'subscriber': 2421, 'receipt': 2422, 'legal': 2423, 'shld': 2424, 'onwards': 2425, 'theory': 2426, 'loses': 2427, 'file': 2428, \"'ll\": 2429, 'mnths': 2430, 'bang': 2431, 'paragon': 2432, 'settled': 2433, 'meets': 2434, '08717898035': 2435, 'fair': 2436, 'aunts': 2437, 'confirmed': 2438, 'dhoni': 2439, 'rocks': 2440, 'wipro': 2441, 'painting': 2442, 'monthly': 2443, 'terrible': 2444, '6months': 2445, 'finishing': 2446, 'accordingly': 2447, 'repeat': 2448, 'bak': 2449, 'impossible': 2450, 'distance': 2451, '09061702893': 2452, 'acl03530150pm': 2453, 'ke': 2454, 'reg': 2455, 'grand': 2456, 'bears': 2457, \"weekend's\": 2458, 'nat': 2459, '30ish': 2460, 'flash': 2461, 'hands': 2462, 'stress': 2463, 'knackered': 2464, 'fo': 2465, 'bar': 2466, '09065174042': 2467, '07821230901': 2468, 'application': 2469, 'airtel': 2470, 'processed': 2471, '61610': 2472, '08712400602450p': 2473, 'tones2you': 2474, '08719181513': 2475, 'shock': 2476, 'reaction': 2477, 'birla': 2478, 'soft': 2479, 'networks': 2480, 'fool': 2481, '300p': 2482, 'lush': 2483, 'difficulties': 2484, 'clearly': 2485, 'bloody': 2486, 'kid': 2487, 'revision': 2488, 'moon': 2489, 'goodnite': 2490, 'cat': 2491, \"1's\": 2492, 'fuckin': 2493, '89555': 2494, 'textoperator': 2495, 'g696ga': 2496, 'sells': 2497, 'mids': 2498, 'giv': 2499, 'gossip': 2500, 'knock': 2501, 'whose': 2502, 'skyped': 2503, 'kz': 2504, \"we've\": 2505, 'given': 2506, 'ultimatum': 2507, 'countin': 2508, 'aburo': 2509, 'en': 2510, 'affair': 2511, 'register': 2512, 'reminder': 2513, 'breath': 2514, 'filling': 2515, 'forms': 2516, 'ma': 2517, 'ba': 2518, 'supply': 2519, 'cds': 2520, 'ee': 2521, 'steve': 2522, 'passionate': 2523, 'turn': 2524, 'sticky': 2525, 'aftr': 2526, 'environment': 2527, 'terrific': 2528, 'dear1': 2529, 'best1': 2530, 'clos1': 2531, 'lvblefrnd': 2532, 'jstfrnd': 2533, 'cutefrnd': 2534, 'lifpartnr': 2535, 'swtheart': 2536, 'bstfrnd': 2537, 'apo': 2538, 'success': 2539, '8am': 2540, 'lf56': 2541, 'ey': 2542, '910': 2543, 'salam': 2544, 'sharing': 2545, 'grace': 2546, 'allah': 2547, '930': 2548, 'kisses': 2549, 'yellow': 2550, 'stayin': 2551, 'texted': 2552, 'thangam': 2553, 'photos': 2554, 'specific': 2555, 'swoop': 2556, \"when's\": 2557, 'minimum': 2558, 'condition': 2559, 'indicate': 2560, 'accident': 2561, 'broken': 2562, '9t': 2563, '3510i': 2564, 'delivered': 2565, '200': 2566, '69888': 2567, '31p': 2568, 'teaching': 2569, 'chip': 2570, 'str': 2571, 'successful': 2572, 'snowman': 2573, 'mas': 2574, 'swimming': 2575, 'transfered': 2576, 'northampton': 2577, 'luvs': 2578, 'causing': 2579, 'nearly': 2580, 'iscoming': 2581, 'prince': 2582, 'rewarding': 2583, \"'maangalyam\": 2584, 'alaipayuthe': 2585, 'drunken': 2586, 'pours': 2587, 'sum1': 2588, 'pig': 2589, 'count': 2590, 'division': 2591, 'erm': 2592, \"that'll\": 2593, 'mental': 2594, 'ability': 2595, 'bedrm': 2596, 'exhausted': 2597, 'pie': 2598, 'web': 2599, 'names': 2600, 'penis': 2601, 'error': 2602, 'windows': 2603, 'mila': 2604, 'age23': 2605, 'blonde': 2606, 'mtalk': 2607, '69866': 2608, '30pp': 2609, '5free': 2610, 'increments': 2611, 'help08718728876': 2612, 'recovery': 2613, 'creep': 2614, 'regret': 2615, 'born': 2616, 'yor': 2617, 'woulda': 2618, 'helpline': 2619, '08706091795': 2620, 'farm': 2621, 'cheese': 2622, 'magical': 2623, 'gotten': 2624, 'kegger': 2625, 'pandy': 2626, 'loxahatchee': 2627, 'burning': 2628, 'smith': 2629, 'sac': 2630, 'carry': 2631, 'woken': 2632, 'cherish': 2633, 'mojibiola': 2634, 'blame': 2635, 'gods': 2636, 'weather': 2637, 'hsbc': 2638, 'idew': 2639, 'bye': 2640, 'drunk': 2641, 'sachin': 2642, 'nowadays': 2643, 'tb': 2644, 'possession': 2645, 'mmm': 2646, 'childish': 2647, '8077': 2648, '09061790121': 2649, 'catching': 2650, 'telly': 2651, 'dark': 2652, 'ful': 2653, 'stones': 2654, 'åð': 2655, 'selfish': 2656, 'idiot': 2657, 'birth': 2658, 'island': 2659, 'cme': 2660, 'walked': 2661, 'anyways': 2662, '24': 2663, 'faggy': 2664, 'atm': 2665, 'hug': 2666, '0871': 2667, 'box95qu': 2668, 'jen': 2669, 'ne': 2670, 'interesting': 2671, 'cancelled': 2672, 'vote': 2673, 'form': 2674, 'clark': 2675, 'utter': 2676, 'base': 2677, 'helen': 2678, 'respect': 2679, 'mails': 2680, 'various': 2681, 'arrive': 2682, 'misbehaved': 2683, 'slap': 2684, 'measure': 2685, 'drms': 2686, 'dearer': 2687, 'mmmmm': 2688, 'lock': 2689, '09058091854': 2690, 'box385': 2691, 'm6': 2692, '6wu': 2693, 'bbd': 2694, 'violence': 2695, 'textbuddy': 2696, 'gaytextbuddy': 2697, '89693': 2698, 'decisions': 2699, 'coping': 2700, 'legs': 2701, 'ordered': 2702, 'pull': 2703, 'confidence': 2704, 'shoving': 2705, 'location': 2706, 'premium': 2707, 'nasty': 2708, 'shot': 2709, 'reverse': 2710, 'cheating': 2711, 'mathematics': 2712, '09058094565': 2713, 'cock': 2714, 'charles': 2715, 'mmmmmm': 2716, 'yummy': 2717, 'borrow': 2718, '10k': 2719, 'cafe': 2720, 'di': 2721, 'booking': 2722, 'bck': 2723, 'jealous': 2724, 'suppose': 2725, 'disconnect': 2726, \"'terrorist'\": 2727, 'confirmd': 2728, 'verified': 2729, 'cnn': 2730, 'ibn': 2731, 'xxxx': 2732, 'earn': 2733, 'channel': 2734, 'wan2': 2735, 'westlife': 2736, 'm8': 2737, 'unbreakable': 2738, 'untamed': 2739, 'unkempt': 2740, '83049': 2741, 'kg': 2742, 'superb': 2743, 'talks': 2744, 'tessy': 2745, 'favor': 2746, 'shijas': 2747, 'gona': 2748, 'planet': 2749, 'deep': 2750, 'jia': 2751, 'consider': 2752, 'confuses': 2753, '89545': 2754, '087187262701': 2755, '50gbp': 2756, 'mtmsg18': 2757, 'txtauction': 2758, 'auto': 2759, '21st': 2760, \"08452810075over18's\": 2761, 'titles': 2762, 'billion': 2763, 'nothin': 2764, 'urgnt': 2765, 'ese': 2766, 'telugu': 2767, 'china': 2768, '700': 2769, 'guilty': 2770, '165': 2771, 'gr8prizes': 2772, '80878': 2773, 'tablets': 2774, 'furniture': 2775, 'academic': 2776, 'department': 2777, 'secretary': 2778, 'quote': 2779, 'dick': 2780, 'transport': 2781, 'definite': 2782, 'easter': 2783, '88888': 2784, 'salon': 2785, 'created': 2786, 'answered': 2787, 'gudnite': 2788, 'vijay': 2789, 'keeps': 2790, 'rgds': 2791, 'hundred': 2792, 'pride': 2793, 'forum': 2794, 'parking': 2795, 'remain': 2796, 'jane': 2797, 'minmoremobsemspobox45po139wa': 2798, 'downloaded': 2799, '08718730666': 2800, 'fran': 2801, 'exeter': 2802, 'brothas': 2803, 'properly': 2804, 'christ': 2805, 'airport': 2806, '88039': 2807, 'skilgme': 2808, 'tscs087147403231winawk': 2809, '50perwksub': 2810, 'cashbin': 2811, 'uncles': 2812, 'apologise': 2813, 'joining': 2814, 'buzy': 2815, 'yeh': 2816, 'msgrcvdhg': 2817, 'gastroenteritis': 2818, 'replace': 2819, 'temp': 2820, 'reduce': 2821, 'limiting': 2822, 'illness': 2823, 'lip': 2824, 'directly': 2825, 'flip': 2826, 'advice': 2827, 'unbelievable': 2828, 'telephone': 2829, 'slippers': 2830, 'building': 2831, 'coat': 2832, 'temple': 2833, 'pongal': 2834, '08712101358': 2835, '440': 2836, 'showing': 2837, 'begging': 2838, 'tomarrow': 2839, 'inc': 2840, 'hotel': 2841, 'yunny': 2842, 'eta': 2843, 'ben': 2844, '2waxsto': 2845, 'major': 2846, 'propose': 2847, 'os': 2848, 'installing': 2849, 'anthony': 2850, \"'t\": 2851, 'kickoff': 2852, '83222': 2853, 'gain': 2854, 'rights': 2855, 'demand': 2856, 'matter': 2857, 'shoes': 2858, 'aom': 2859, 'dealing': 2860, 'further': 2861, 'incredible': 2862, 'o2fwd': 2863, '18p': 2864, 'literally': 2865, 'refilled': 2866, 'inr': 2867, 'keralacircle': 2868, 'prepaid': 2869, 'kr': 2870, 'geeeee': 2871, 'cramps': 2872, 'superior': 2873, 'unable': 2874, 'schedule': 2875, 'rhythm': 2876, 'potter': 2877, 'phoenix': 2878, 'harry': 2879, 'among': 2880, 'readers': 2881, 'renewal': 2882, 'lays': 2883, 'threats': 2884, 'sales': 2885, 'executive': 2886, 'complaint': 2887, 'kent': 2888, 'vale': 2889, 'affairs': 2890, 'flowing': 2891, 'audition': 2892, 'å£1250': 2893, '09071512433': 2894, '050703': 2895, 'csbcm4235wc1n3xx': 2896, 'callcost': 2897, 'mobilesvary': 2898, 'maxå£7': 2899, 'loose': 2900, 'ow': 2901, 'california': 2902, 'waheed': 2903, 'fathima': 2904, 'conform': 2905, 'named': 2906, 'colours': 2907, 'indeed': 2908, 'ummmmmaah': 2909, 'bishan': 2910, 'pop': 2911, 'runs': 2912, 'ms': 2913, 'nahi': 2914, 'zindgi': 2915, 'wo': 2916, 'jo': 2917, 'mystery': 2918, 'solved': 2919, 'batch': 2920, 'sweetie': 2921, '674': 2922, '4a': 2923, '69698': 2924, 'module': 2925, 'bell': 2926, 'lk': 2927, 'necessary': 2928, 'eight': 2929, 'moby': 2930, 'normally': 2931, 'mmmm': 2932, 'lion': 2933, 'devouring': 2934, '2p': 2935, 'germany': 2936, '350': 2937, \"everybody's\": 2938, 'addicted': 2939, 'msging': 2940, 'maga': 2941, '2go': 2942, 'visionsms': 2943, 'xuhui': 2944, 'passed': 2945, 'switch': 2946, 'dave': 2947, 'tcs': 2948, 'accidentally': 2949, '88066': 2950, '09050001808': 2951, 'm95': 2952, 'valid12hrs': 2953, 'mac': 2954, 'usb': 2955, 'tsunamis': 2956, 'natural': 2957, 'jobs': 2958, 'toot': 2959, 'bloomberg': 2960, 'fights': 2961, 'i\\x89û÷ll': 2962, 'pan': 2963, 'perhaps': 2964, 'that\\x89û÷s': 2965, '1030': 2966, 'replacement': 2967, 'meetin': 2968, 'tlk': 2969, 'algarve': 2970, 'thx': 2971, '4eva': 2972, 'clothes': 2973, \"he'll\": 2974, 'neft': 2975, 'beneficiary': 2976, 'spk': 2977, 'sn': 2978, 'front': 2979, 'express': 2980, 'stretch': 2981, 'follow': 2982, '29': 2983, 'lux': 2984, 'wa': 2985, 'sleepin': 2986, '09058094599': 2987, '83600': 2988, 'europe': 2989, 'actual': 2990, 'indyarocks': 2991, 'thanksgiving': 2992, 'correction': 2993, 'caught': 2994, '12mths': 2995, 'shame': 2996, '326': 2997, 'docs': 2998, 'sweetheart': 2999, 'wales': 3000, 'scotland': 3001, '4txt': 3002, 'pod': 3003, '80182': 3004, '08452810073': 3005, 'cookies': 3006, 'bmw': 3007, 'urgently': 3008, 'hv': 3009, 'shortage': 3010, 'source': 3011, 'arng': 3012, 'worlds': 3013, 'vip': 3014, 'stops': 3015, 'character': 3016, '13': 3017, 'figures': 3018, \"priscilla's\": 3019, 'ringtoneking': 3020, 'vodka': 3021, '2u': 3022, 'history': 3023, 'taylor': 3024, 'worst': 3025, 'oranges': 3026, 'upd8': 3027, '09065171142': 3028, 'stopsms': 3029, '08': 3030, 'soryda': 3031, 'sory': 3032, 'nap': 3033, 'doors': 3034, 'sake': 3035, 'staff': 3036, 'mouth': 3037, 'bahamas': 3038, 'hang': 3039, 'cooked': 3040, 'slo': 3041, 'stars': 3042, 'bruv': 3043, 'foot': 3044, 'incident': 3045, 'map': 3046, 'mag': 3047, 'dippeditinadew': 3048, 'lovingly': 3049, 'itwhichturnedinto': 3050, 'gifted': 3051, 'tomeandsaid': 3052, 'apparently': 3053, 'removal': 3054, '08708034412': 3055, 'printed': 3056, 'gpu': 3057, 'dance': 3058, 'relatives': 3059, 'option': 3060, 'funeral': 3061, 'bite': 3062, 'av': 3063, 'lookatme': 3064, 'thatåõs': 3065, 'appointment': 3066, 'messenger': 3067, 'topic': 3068, 'sorting': 3069, 'epsilon': 3070, 'practicing': 3071, 'longer': 3072, 'cardiff': 3073, 'mix': 3074, 'useful': 3075, \"hasn't\": 3076, 'pattern': 3077, 'lido': 3078, 'celebrate': 3079, 'wuld': 3080, 'nuther': 3081, 'verify': 3082, 'onion': 3083, 'february': 3084, 'wylie': 3085, 'caroline': 3086, 'radio': 3087, 'fish': 3088, 'strange': 3089, 'eighth': 3090, 'survey': 3091, 'oz': 3092, 'poker': 3093, '45239': 3094, 'loans': 3095, 'pence': 3096, '85': 3097, 'peace': 3098, 'blessed': 3099, 'posts': 3100, 'hunny': 3101, 'eurodisinc': 3102, 'trav': 3103, 'aco': 3104, 'entry41': 3105, 'morefrmmob': 3106, 'shracomorsglsuplt': 3107, 'ls1': 3108, '3aj': 3109, 'violated': 3110, 'supervisor': 3111, 'cal': 3112, 'respond': 3113, 'tons': 3114, 'yuo': 3115, 'tihs': 3116, 'throw': 3117, 'challenge': 3118, 'answers': 3119, 'ques': 3120, 'suits': 3121, 'boyfriend': 3122, 'xxxmobilemovieclub': 3123, 'constant': 3124, 'cared': 3125, '08000776320': 3126, 'tease': 3127, '15': 3128, 'oic': 3129, 'prepared': 3130, 'wave': 3131, 'asp': 3132, 'taken': 3133, 'lyfu': 3134, 'lyf': 3135, 'ali': 3136, 'meow': 3137, 'avatar': 3138, \"1000's\": 3139, '4fil': 3140, '87575': 3141, 'garbage': 3142, 'items': 3143, \"jay's\": 3144, 'delete': 3145, 'messy': 3146, 'laundry': 3147, 'connection': 3148, 'setting': 3149, 'hardly': 3150, 'quiet': 3151, 'housewives': 3152, '0871750': 3153, '77': 3154, 'landlines': 3155, 'opinions': 3156, 'belive': 3157, 'field': 3158, 'administrator': 3159, 'benefits': 3160, 'scold': 3161, 'prepare': 3162, 'tms': 3163, 'widelive': 3164, 'index': 3165, 'wml': 3166, \"roommate's\": 3167, 'spare': 3168, 'issue': 3169, 'software': 3170, 'sentence': 3171, 'educational': 3172, 'hes': 3173, 'minmobsmorelkpobox177hp51fl': 3174, 'ofice': 3175, 'avoiding': 3176, 'upstairs': 3177, 'dan': 3178, 'stranger': 3179, 'fav': 3180, 'considering': 3181, 'value': 3182, 'table': 3183, 'responce': 3184, 'happend': 3185, '21870000': 3186, 'mailbox': 3187, 'messaging': 3188, '09056242159': 3189, 'retrieve': 3190, 'remembered': 3191, 'unknown': 3192, 'album': 3193, 'classes': 3194, 'tech': 3195, 'key': 3196, 'mall': 3197, 'nic': 3198, 'petrol': 3199, 'shesil': 3200, 'continue': 3201, 'elsewhere': 3202, 'jogging': 3203, 'concert': 3204, 'hrishi': 3205, '09066364311': 3206, 'forevr': 3207, 'silent': 3208, 'painful': 3209, 'funk': 3210, 'tones2u': 3211, '3gbp': 3212, '5p': 3213, 'uh': 3214, 'lane': 3215, 'poop': 3216, 'four': 3217, 'rem': 3218, 'letter': 3219, '88600': 3220, '09061743386': 3221, 'testing': 3222, 'tape': 3223, \"let's\": 3224, 'needed': 3225, 'hamster': 3226, '84025': 3227, 'difference': 3228, 'inches': 3229, 'calculation': 3230, 'treated': 3231, 'funky': 3232, 'crisis': 3233, 'toa': 3234, 'payoh': 3235, 'mistakes': 3236, '1x150p': 3237, 'ship': 3238, 'edu': 3239, 'mt': 3240, '08002986906': 3241, 'birthdate': 3242, 'sathya': 3243, 'laughing': 3244, 'premier': 3245, '542': 3246, '0578': 3247, 'death': 3248, 'logos': 3249, 'wrote': 3250, '09066364589': 3251, '9ja': 3252, 'spider': 3253, 'å£4': 3254, 'dining': 3255, 'lib': 3256, 'lag': 3257, 'killing': 3258, 'lik': 3259, 'miserable': 3260, 'ibhltd': 3261, 'ldnw15h': 3262, 'sleepwell': 3263, 'lo': 3264, 'darlings': 3265, 'kadeem': 3266, 'adore': 3267, 'strike': 3268, 'bird': 3269, \"dat's\": 3270, 'winning': 3271, 'textpod': 3272, '2morro': 3273, 'seconds': 3274, 'ths': 3275, 'iq': 3276, 'ias': 3277, 'nok': 3278, '87021': 3279, 'differ': 3280, 'flaky': 3281, 'parent': 3282, '40': 3283, 'racing': 3284, 'delhi': 3285, 'u4': 3286, 'actor': 3287, 'virgin': 3288, 'frog': 3289, 'urn': 3290, 'denis': 3291, 'eaten': 3292, 'staring': 3293, 'ruining': 3294, 'wks': 3295, 'wasted': 3296, 'applebees': 3297, 'term': 3298, 'silently': 3299, 'dumb': 3300, 'brah': 3301, 'display': 3302, 'assume': 3303, 'txt82228': 3304, 'competition': 3305, '09050002311': 3306, 'b4280703': 3307, '08718727868': 3308, 'turning': 3309, 'up4': 3310, 'ericsson': 3311, '09094646899': 3312, 'vu': 3313, 'bcm1896wc1n3xx': 3314, 'pix': 3315, 'kothi': 3316, '8552': 3317, 'generally': 3318, 'cartoon': 3319, 'flights': 3320, 'steam': 3321, 'somethin': 3322, 'teacher': 3323, 'conducts': 3324, 'netcollex': 3325, '08700621170150p': 3326, 'blessing': 3327, 'listening': 3328, 'shu': 3329, 'lemme': 3330, 'payment': 3331, 'bottle': 3332, 'serving': 3333, 'dirty': 3334, 'church': 3335, 'requests': 3336, 'k52': 3337, '69696': 3338, 'stamped': 3339, '113': 3340, 'bray': 3341, 'wicklow': 3342, 'eire': 3343, 'jsco': 3344, 'maneesha': 3345, 'satisfied': 3346, 'toll': 3347, 'xavier': 3348, 'å£5': 3349, 'arm': 3350, 'blu': 3351, 'smsco': 3352, 'amy': 3353, 'bloke': 3354, 'members': 3355, 'sian': 3356, 'divorce': 3357, '114': 3358, '14': 3359, 'tcr': 3360, 'w1': 3361, 'river': 3362, '300': 3363, 'symbol': 3364, 'wrk': 3365, 'enuff': 3366, 'parco': 3367, 'nb': 3368, 'effects': 3369, 'blur': 3370, 'realize': 3371, 'shore': 3372, 'remains': 3373, 'amongst': 3374, 'swiss': 3375, 'crore': 3376, 'politicians': 3377, 'mumtaz': 3378, \"mumtaz's\": 3379, 'horo': 3380, 'clearing': 3381, 'unemployed': 3382, 'mis': 3383, 'stick': 3384, 'picsfree1': 3385, 'waves': 3386, 'cleared': 3387, 'contents': 3388, 'league': 3389, 'deficient': 3390, 'sitter': 3391, 'kaitlyn': 3392, 'enc': 3393, 'miwa': 3394, 'jiayin': 3395, 'annoyin': 3396, 'creepy': 3397, 'we\\x89û÷ll': 3398, 'haunt': 3399, 'promoting': 3400, 'hex': 3401, 'ayo': 3402, 'travelled': 3403, 'forgotten': 3404, 'accordin': 3405, 'discussed': 3406, \"g's\": 3407, 'scrounge': 3408, 'ammo': 3409, 'ak': 3410, 'genius': 3411, 'webadres': 3412, 'geting': 3413, 'slip': 3414, 'crashed': 3415, 'cuddled': 3416, 'commercial': 3417, 'hasbro': 3418, 'jump': 3419, 'hoops': 3420, 'giggle': 3421, 'possibly': 3422, 'person2die': 3423, 'nvq': 3424, 'prescribed': 3425, 'err': 3426, 'parked': 3427, 'onum': 3428, 'woo': 3429, 'hoo': 3430, 'ganesh': 3431, 'fires': 3432, 'neither': 3433, 'sterm': 3434, 'resolved': 3435, 'bx526': 3436, 'inconsiderate': 3437, 'nag': 3438, 'recession': 3439, 'hence': 3440, 'nightnight': 3441, 'sppok': 3442, 'julianaland': 3443, 'oblivious': 3444, 'ball': 3445, 'spin': 3446, 'improved': 3447, 'bottom': 3448, 'soo': 3449, 'muchxxlove': 3450, 'locaxx': 3451, \"how're\": 3452, 'throwing': 3453, 'scratching': 3454, 'owe': 3455, 'helloooo': 3456, 'welcomes': 3457, 'hm': 3458, '09090204448': 3459, 'minded': 3460, 'aå£1': 3461, 'minapn': 3462, 'ls278bb': 3463, 'slob': 3464, 'rv': 3465, 'havenåõt': 3466, 'rvx': 3467, 'potential': 3468, 'arun': 3469, 'transfr': 3470, 'adventuring': 3471, \"all's\": 3472, 'famamus': 3473, '83118': 3474, 'colin': 3475, 'farrell': 3476, 'swat': 3477, 'wkend': 3478, 'mre': 3479, 'converted': 3480, 'theoretically': 3481, 'newquay': 3482, 'postcard': 3483, '1im': 3484, 'talkin': 3485, 'semiobscure': 3486, 'ran': 3487, 'younger': 3488, \"alex's\": 3489, 'maps': 3490, 'complacent': 3491, 'escape': 3492, 'kavalan': 3493, 'chapel': 3494, 'frontierville': 3495, 'sparkling': 3496, 'breaks': 3497, '45': 3498, '0121': 3499, '2025050': 3500, 'shortbreaks': 3501, 'org': 3502, '6times': 3503, 'passable': 3504, 'phd': 3505, '5years': 3506, 'loo': 3507, 'ed': 3508, 'dobby': 3509, \"account's\": 3510, 'x2': 3511, 'hooch': 3512, 'toaday': 3513, 'splat': 3514, 'grazed': 3515, 'knees': 3516, 'stayed': 3517, 'poo': 3518, 'mega': 3519, 'asda': 3520, 'counts': 3521, 'ffffffffff': 3522, 'esplanade': 3523, 'gsoh': 3524, 'spam': 3525, 'gigolo': 3526, 'mens': 3527, 'oncall': 3528, 'mjzgroup': 3529, '08714342399': 3530, '50rcvd': 3531, 'coherently': 3532, 'tonights': 3533, 'ringing': 3534, 'houseful': 3535, 'brats': 3536, 'pulling': 3537, 'drove': 3538, 'opener': 3539, 'papers': 3540, 'strips': 3541, 'postal': 3542, 'msgrcvd': 3543, 'customercare': 3544, \"there'll\": 3545, 'shindig': 3546, 'invaders': 3547, 'orig': 3548, 'console': 3549, 'cutest': 3550, 'wtlp': 3551, 'jetton': 3552, 'lambu': 3553, 'ji': 3554, 'batchlor': 3555, 'teresa': 3556, 'dec': 3557, \"you'ld\": 3558, 'bam': 3559, 'aid': 3560, 'usmle': 3561, 'itåõs': 3562, 'deserve': 3563, 'tight': 3564, 'steak': 3565, 'someonone': 3566, '09064015307': 3567, \"fren's\": 3568, 'consensus': 3569, '4qf2': 3570, 'breathing': 3571, 'suggestion': 3572, 'lands': 3573, 'helps': 3574, 'forgt': 3575, 'jog': 3576, 'weekdays': 3577, 'nails': 3578, \"harish's\": 3579, 'transfred': 3580, 'acnt': 3581, 'gsex': 3582, '2667': 3583, 'wc1n': 3584, '3xx': 3585, 'hack': 3586, 'backdoor': 3587, 'fraction': 3588, 'neo69': 3589, '09050280520': 3590, 'subscribe': 3591, 'dps': 3592, 'bcm': 3593, '8027': 3594, 'wc1n3xx': 3595, 'raji': 3596, 'loooooool': 3597, 'couch': 3598, 'rents': 3599, 'posh': 3600, 'chaps': 3601, 'trial': 3602, 'prods': 3603, 'champneys': 3604, 'dob': 3605, 'yupz': 3606, 'prevent': 3607, 'dehydration': 3608, 'fluids': 3609, 'monkey': 3610, 'asshole': 3611, 'yuou': 3612, 'spot': 3613, 'hotmail': 3614, 'footbl': 3615, 'crckt': 3616, 'hunting': 3617, '448712404000': 3618, '08712404000': 3619, 'lovers': 3620, 'becz': 3621, 'undrstndng': 3622, 'avoids': 3623, 'suffer': 3624, '69669': 3625, 'gprs': 3626, 'free2day': 3627, \"george's\": 3628, '89080': 3629, 'celeb': 3630, 'pocketbabe': 3631, '0870241182716': 3632, 'fones': 3633, 'wild': 3634, 'stop2stop': 3635, 'everyday': 3636, 'fatty': 3637, 'instantly': 3638, '69969': 3639, 'bcmsfwc1n3xx': 3640, '80155': 3641, 'swap': 3642, 'chatter': 3643, 'chat80155': 3644, 'rcd': 3645, '08701417012150p': 3646, \"zaher's\": 3647, 'xclusive': 3648, 'clubsaisai': 3649, 'soiree': 3650, 'speciale': 3651, 'zouk': 3652, 'roses': 3653, '07946746291': 3654, '07880867867': 3655, 'z': 3656, 'noiåõm': 3657, 'avent': 3658, 'nit': 3659, 'js': 3660, 'shhhhh': 3661, 'korean': 3662, \"leona's\": 3663, 'loneliness': 3664, 'dine': 3665, 'dawns': 3666, 'refreshed': 3667, 'breathe': 3668, 'buttons': 3669, 'elvis': 3670, 'presleys': 3671, '80062': 3672, 'ams': 3673, 'referin': 3674, \"mei's\": 3675, 'waitin': 3676, 'wallet': 3677, 'tiwary': 3678, 'rcb': 3679, 'battle': 3680, 'kochi': 3681, 'gloucesterroad': 3682, 'uup': 3683, 'newspapers': 3684, 'andrews': 3685, 'boltblue': 3686, 'mono': 3687, 'poly3': 3688, 'slide': 3689, 'jamz': 3690, 'toxic': 3691, 'coco': 3692, 'anniversary': 3693, 'tarpon': 3694, 'springs': 3695, 'hhahhaahahah': 3696, 'nig': 3697, 'leonardo': 3698, 'luckily': 3699, 'starring': 3700, 'reboot': 3701, 'resizing': 3702, 'hopeing': 3703, 'wasn\\x89û÷t': 3704, 'sisters': 3705, 'wall': 3706, 'proze': 3707, 'norcorp': 3708, 'formatting': 3709, 'woul': 3710, 'curfew': 3711, 'gibe': 3712, \"'til\": 3713, 'getsleep': 3714, 'studdying': 3715, 'mornin': 3716, 'thanku': 3717, 'n9dx': 3718, 'changes': 3719, 'appendix': 3720, 'range': 3721, 'chill': 3722, 'ingredients': 3723, 'hide': 3724, 'anythiing': 3725, 'fortune': 3726, 'smoked': 3727, 'cards': 3728, 'qi': 3729, 'suddenly': 3730, 'blogging': 3731, 'magicalsongs': 3732, 'blogspot': 3733, 'ciao': 3734, 'adventure': 3735, 'twinks': 3736, 'scallies': 3737, 'skins': 3738, 'jocks': 3739, '08712466669': 3740, 'tortilla': 3741, 'yummmm': 3742, \"'melle\": 3743, 'melle': 3744, 'oru': 3745, 'minnaminunginte': 3746, 'nurungu': 3747, 'vettam': 3748, 'headstart': 3749, 'desperate': 3750, 'rummer': 3751, 'judgemental': 3752, 'fridays': 3753, 'spatula': 3754, 'apnt': 3755, '5pm': 3756, 'noooooooo': 3757, 'nervous': 3758, 'lark': 3759, 'senor': 3760, 'youåõre': 3761, 'broadband': 3762, 'installation': 3763, 'hanging': 3764, 'leona': 3765, 'tamilnadu': 3766, 'placed': 3767, 'borderline': 3768, '09061701939': 3769, 's89': 3770, 'payasam': 3771, 'rinu': 3772, 'splashmobile': 3773, 'subscrition': 3774, 'costing': 3775, 'firsg': 3776, '645': 3777, 'peach': 3778, 'tasts': 3779, 'workout': 3780, 'fats': 3781, 'aids': 3782, 'patent': 3783, 'stoners': 3784, '09050000928': 3785, 'pobox45w2tg150p': 3786, 'sucks': 3787, 'anand': 3788, 'tirunelvali': 3789, 'prometazine': 3790, 'syrup': 3791, '5mls': 3792, 'feed': 3793, \"dobby's\": 3794, 'surname': 3795, 'clue': 3796, 'begins': 3797, 'sometext': 3798, 'boost': 3799, 'jod': 3800, 'keris': 3801, 'smidgin': 3802, 'beneath': 3803, 'pale': 3804, 'swhrt': 3805, \"tantrum's\": 3806, 'turned': 3807, 'foward': 3808, 'ruin': 3809, 'showr': 3810, 'banneduk': 3811, 'multimedia': 3812, 'juswoke': 3813, 'boatin': 3814, 'docks': 3815, 'spinout': 3816, \"idea's\": 3817, 'anyplaces': 3818, 'tkls': 3819, 'stoptxtstopå£1': 3820, 'plm': 3821, 'cherthala': 3822, 'cochin': 3823, 'bfore': 3824, 'tmorow': 3825, 'engaged': 3826, 'nange': 3827, 'bakra': 3828, 'kalstiya': 3829, 'que': 3830, 'pases': 3831, 'buen': 3832, 'tiempo': 3833, 'evenings': 3834, 'deny': 3835, 'gamestar': 3836, 'active': 3837, 'å£250k': 3838, 'scoring': 3839, '88088': 3840, 'romcapspam': 3841, 'presence': 3842, 'outgoing': 3843, 'bowls': 3844, \"ashley's\": 3845, '08715203656': 3846, '42049': 3847, 'repairs': 3848, 'followin': 3849, 'dao': 3850, 'subs16': 3851, '1win150ppmx3': 3852, 'consistently': 3853, 'practicum': 3854, 'links': 3855, 'ears': 3856, 'pubs': 3857, 'frankie': 3858, 'bennys': 3859, 'poortiyagi': 3860, 'odalebeku': 3861, 'hanumanji': 3862, 'hanuman': 3863, 'bajarangabali': 3864, 'maruti': 3865, 'pavanaputra': 3866, 'sankatmochan': 3867, 'ramaduth': 3868, 'mahaveer': 3869, 'janarige': 3870, 'ivatte': 3871, 'kalisidare': 3872, 'olage': 3873, 'ondu': 3874, 'keluviri': 3875, 'maretare': 3876, 'inde': 3877, 'dodda': 3878, 'problum': 3879, 'nalli': 3880, 'siguviri': 3881, 'idu': 3882, 'matra': 3883, 'neglet': 3884, 'manky': 3885, 'scouse': 3886, 'travelling': 3887, 'inmind': 3888, 'recreation': 3889, 'enjoying': 3890, 'purity': 3891, 'musthu': 3892, 'drugdealer': 3893, 'comingdown': 3894, 'jolt': 3895, 'screamed': 3896, 'hallaq': 3897, 'owned': 3898, 'possessive': 3899, 'rounds': 3900, 'cmon': 3901, 'replies': 3902, 'bridgwater': 3903, 'banter': 3904, 'checkup': 3905, 'aka': 3906, 'pap': 3907, 'smear': 3908, 'mokka': 3909, 'philosophy': 3910, 'host': 3911, 'based': 3912, 'idps': 3913, 'linux': 3914, 'systems': 3915, 'everyso': 3916, 'panicks': 3917, \"'an\": 3918, \"quote''\": 3919, 'champ': 3920, 'glasgow': 3921, 'walkabout': 3922, 'poem': 3923, 'fear': 3924, 'saibaba': 3925, 'colany': 3926, 'oooh': 3927, 'ridden': 3928, 'maturity': 3929, '26th': 3930, 'july': 3931, 'lyricalladie': 3932, 'hmmross': 3933, 'iron': 3934, 'jeans': 3935, 'wahleykkum': 3936, 'tayseer': 3937, 'tissco': 3938, 'inshah': 3939, 'visitor': 3940, 'tacos': 3941, 'rajas': 3942, 'burrito': 3943, '08718726971': 3944, '08719181259': 3945, 'xxxxx': 3946, 'combine': 3947, 'rugby': 3948, '\\rham': 3949, 'pshew': 3950, 'conacted': 3951, '09111030116': 3952, 'pobox12n146tf15': 3953, 'held': 3954, 'prasad': 3955, 'joanna': 3956, 'freaking': 3957, 'myspace': 3958, 'logged': 3959, 'resuming': 3960, 'reapply': 3961, 'arsenal': 3962, 'dartboard': 3963, 'doubles': 3964, 'trebles': 3965, 'apart': 3966, \"joke's\": 3967, 'florida': 3968, '3750': 3969, 'wise': 3970, 'sorta': 3971, 'blown': 3972, '8000930705': 3973, 'gravel': 3974, 'weirdo': 3975, '07808247860': 3976, '08719899229': 3977, '40411': 3978, '09111032124': 3979, 'pobox12n146tf150p': 3980, 'uploaded': 3981, 'miiiiiiissssssssss': 3982, 'urgh': 3983, 'coach': 3984, 'smells': 3985, 'duvet': 3986, 'predictive': 3987, 'shijutta': 3988, 'keen': 3989, 'cheesy': 3990, 'frosty': 3991, 'dub': 3992, 'je': 3993, 'pool': 3994, 'jacuzzi': 3995, 'skyving': 3996, 'appy': 3997, 'fizz': 3998, 'contains': 3999, 'youdoing': 4000, 'sar': 4001, 'lately': 4002, 'starve': 4003, 'aww': 4004, 'jez': 4005, 'todo': 4006, 'workand': 4007, 'whilltake': 4008, 'anythin': 4009, 'hor': 4010, 'cried': 4011, 'heaven': 4012, 'hooked': 4013, 'tonght': 4014, 'ding': 4015, 'tai': 4016, 'feng': 4017, 'reservations': 4018, 'opposed': 4019, '146tf150p': 4020, 'chase': 4021, 'stated': 4022, 'perumbavoor': 4023, 'tagged': 4024, 'multiply': 4025, 'independently': 4026, 'push': 4027, 'showed': 4028, '45pm': 4029, 'snap': 4030, 'quizclub': 4031, '80122300p': 4032, 'rwm': 4033, '08704050406': 4034, 'holby': 4035, 'elaborating': 4036, 'safety': 4037, 'aspects': 4038, '140': 4039, 'ìä': 4040, '180': 4041, 'becausethey': 4042, '09058098002': 4043, 'pobox1': 4044, 'w14rg': 4045, 'pert': 4046, 'potato': 4047, 'head\\x89û': 4048, 'timin': 4049, 'applausestore': 4050, 'monthlysubscription': 4051, 'max6': 4052, 'csc': 4053, 'caring': 4054, 'adjustable': 4055, 'cooperative': 4056, 'allows': 4057, '08718726970': 4058, 'resent': 4059, 'queries': 4060, 'customersqueries': 4061, 'netvision': 4062, 'logoff': 4063, 'deepest': 4064, 'darkest': 4065, '09094646631': 4066, 'cooped': 4067, 'sarasota': 4068, 'ibored': 4069, 'performed': 4070, 'useless': 4071, 'speechless': 4072, 'easily': 4073, 'lengths': 4074, 'behalf': 4075, 'stunning': 4076, 'icic': 4077, 'printer': 4078, 'groovy': 4079, 'groovying': 4080, 'mailed': 4081, 'varma': 4082, 'insha': 4083, 'snatch': 4084, 'purse': 4085, 'nhs': 4086, '2b': 4087, 'terminated': 4088, 'inconvenience': 4089, '82324': 4090, 'stone': 4091, 'lifting': 4092, 'decision': 4093, 'simpler': 4094, 'begun': 4095, 'registration': 4096, 'permanent': 4097, 'residency': 4098, '0906346330': 4099, '47': 4100, 'po19': 4101, '2ez': 4102, 'consent': 4103, 'nauseous': 4104, 'sweets': 4105, 'dieting': 4106, 'slaaaaave': 4107, 'summon': 4108, 'vivek': 4109, 'tall': 4110, 'spaces': 4111, 'embassy': 4112, 'gayle': 4113, 'ahhhh': 4114, 'swimsuit': 4115, 'allowed': 4116, 'dentist': 4117, 'okors': 4118, 'uv': 4119, 'causes': 4120, 'mutations': 4121, 'sunscreen': 4122, 'thesedays': 4123, '0845': 4124, '2814032': 4125, '3xå£150pw': 4126, 'eå£nd': 4127, 'hanks': 4128, 'lotsly': 4129, 'swatch': 4130, '116': 4131, 'fudge': 4132, 'oreos': 4133, 'stores': 4134, 'conference': 4135, '1mega': 4136, 'pixels': 4137, '3optical': 4138, '5digital': 4139, 'dooms': 4140, 'keys': 4141, 'bookshelf': 4142, 'motherfucker': 4143, 'jot': 4144, 'bhaji': 4145, 'cricketer': 4146, 'ay': 4147, 'wkg': 4148, 'nosy': 4149, 'reacting': 4150, 'freaked': 4151, 'ga': 4152, 'showrooms': 4153, 'shaping': 4154, '83021': 4155, 'lighters': 4156, '08452810071': 4157, 'bbq': 4158, '6ish': 4159, 'jon': 4160, 'spain': 4161, 'sum': 4162, 'dinero': 4163, 'åôrents': 4164, '000pes': 4165, 'å£48': 4166, 'wrkin': 4167, 'wondarfull': 4168, 'clarify': 4169, 'preponed': 4170, 'property': 4171, 'antha': 4172, 'corrct': 4173, 'dane': 4174, 'awww': 4175, 'compliments': 4176, 'notixiquating': 4177, 'laxinorficated': 4178, 'bambling': 4179, 'entropication': 4180, 'oblisingately': 4181, 'opted': 4182, 'books': 4183, 'masteriastering': 4184, 'amplikater': 4185, 'fidalfication': 4186, 'champlaxigating': 4187, 'atrocious': 4188, 'wotz': 4189, 'junna': 4190, 'probs': 4191, 'ilol': 4192, 'personally': 4193, 'wuldnt': 4194, 'engalnd': 4195, 'mia': 4196, 'elliot': 4197, 'kissing': 4198, 'fishrman': 4199, 'waited': 4200, 'sack': 4201, 'strtd': 4202, 'throwin': 4203, 'thm': 4204, 'atlast': 4205, '1stone': 4206, 'diamonds': 4207, \"mrng''\": 4208, 'uawake': 4209, 'feellikw': 4210, 'justfound': 4211, 'aletter': 4212, 'thatmum': 4213, 'gotmarried': 4214, '4thnov': 4215, 'ourbacks': 4216, 'fuckinnice': 4217, 'slower': 4218, 'maniac': 4219, 'infra': 4220, 'dang': 4221, '8lb': 4222, '7oz': 4223, 'brilliantly': 4224, 'hme': 4225, 'rhode': 4226, 'bong': 4227, 'hos': 4228, 'awkward': 4229, 'doesnåõt': 4230, 'lifted': 4231, 'hopes': 4232, 'approaches': 4233, 'afterwards': 4234, '3230': 4235, 'textbook': 4236, 'algorithms': 4237, 'edition': 4238, 'hvae': 4239, '09061701444': 4240, \"nobody's\": 4241, 'sarcastic': 4242, 'linear': 4243, 'algebra': 4244, 'robinson': 4245, 'visa': 4246, 'gucci': 4247, 'bills': 4248, 'tiime': 4249, 'tears': 4250, 'smash': 4251, 'religiously': 4252, '09': 4253, '872': 4254, '9755': 4255, \"dealer's\": 4256, 'impatient': 4257, 'ninish': 4258, 'icky': 4259, 'american': 4260, 'freek': 4261, 'cab': 4262, 'steps': 4263, 'lacking': 4264, 'particular': 4265, \"dramastorm's\": 4266, 'billed': 4267, 'shortcode': 4268, '83332': 4269, '08081263000': 4270, 'refunded': 4271, 'avoid': 4272, 'wrking': 4273, 'sdryb8i': 4274, 'rats': 4275, 'themes': 4276, 'lara': 4277, 'drunkard': 4278, 'clarification': 4279, '0207': 4280, '083': 4281, '6089': 4282, 'knowing': 4283, 'tddnewsletter': 4284, 'emc1': 4285, 'thedailydraw': 4286, 'dozens': 4287, 'prizeswith': 4288, 'shelf': 4289, 'oclock': 4290, 'bash': 4291, 'hesitate': 4292, 'weakness': 4293, 'notebook': 4294, 'lotta': 4295, 'childporn': 4296, 'studyn': 4297, 'accommodation': 4298, 'global': 4299, 'phb1': 4300, '08700435505150p': 4301, '62220cncl': 4302, 'stopcs': 4303, '08717890890å£1': 4304, 'innocent': 4305, 'hlday': 4306, 'camp': 4307, 'amrca': 4308, 'serena': 4309, 'db': 4310, 'tellmiss': 4311, 'limit': 4312, 'boundaries': 4313, 'endless': 4314, \"biola's\": 4315, 'fne': 4316, 'pouch': 4317, '3miles': 4318, 'keypad': 4319, 'pity': 4320, 'suggestions': 4321, 'tirunelvai': 4322, 'intention': 4323, 'visitors': 4324, 'dvg': 4325, 'vinobanagar': 4326, 'hearts': 4327, 'cares': 4328, 'goodnoon': 4329, 'wavering': 4330, 'individual': 4331, 'heal': 4332, 'roomate': 4333, 'graduated': 4334, 'diddy': 4335, 'neighbor': 4336, 'toothpaste': 4337, 'fetching': 4338, 'nimbomsons': 4339, 'exhaust': 4340, 'replacing': 4341, 'waaaat': 4342, 'lololo': 4343, \"taylor's\": 4344, 'gyno': 4345, 'belong': 4346, 'signin': 4347, '88800': 4348, '89034': 4349, '08718711108': 4350, 'promises': 4351, 'cough': 4352, 'footy': 4353, 'stadium': 4354, 'large': 4355, 'coca': 4356, 'cola': 4357, 'wesleys': 4358, 'blimey': 4359, 'exercise': 4360, 'ceri': 4361, 'rebel': 4362, 'dreamz': 4363, 'buddy': 4364, 'blokes': 4365, 'cheetos': 4366, \"hubby's\": 4367, 'satisfy': 4368, '89938': 4369, 'strings': 4370, 'rec': 4371, '50ea': 4372, 'otbox': 4373, '731': 4374, 'la1': 4375, '7ws': 4376, 'vitamin': 4377, 'although': 4378, 'baig': 4379, 'watches': 4380, 'fifteen': 4381, 'concerned': 4382, 'computers': 4383, 'aunt': 4384, 'nike': 4385, 'necessarily': 4386, 'expect': 4387, 'headin': 4388, 'hdd': 4389, 'casing': 4390, 'creative': 4391, 'pathaya': 4392, 'enketa': 4393, 'maraikara': 4394, \"pa'\": 4395, 'knocking': 4396, 'arabian': 4397, 'steed': 4398, 'soooo': 4399, 'provider': 4400, 'tming': 4401, 'rejected': 4402, '0796xxxxxx': 4403, 'prizeawaiting': 4404, 'hottest': 4405, 'understood': 4406, 'acted': 4407, 'upon': 4408, 'ambitious': 4409, 'thnx': 4410, 'significance': 4411, 'receivea': 4412, '09061701461': 4413, 'kl341': 4414, 'ax': 4415, 'genuine': 4416, '100percent': 4417, '09064018838': 4418, 'cro1327': 4419, 'shorts': 4420, 'recharged': 4421, 'image': 4422, 'contacts': 4423, 'purple': 4424, 'yelow': 4425, 'brown': 4426, 'color': 4427, 'phony': 4428, '3100': 4429, 'weightloss': 4430, 'ebay': 4431, 'recieve': 4432, '24hrs': 4433, 'teletext': 4434, 'shouting': 4435, '545': 4436, 'weigh': 4437, 'lingerie': 4438, 'bridal': 4439, 'petticoatdreams': 4440, 'weddingfriend': 4441, 'disturbing': 4442, 'yelling': 4443, 'scrappy': 4444, 'dust': 4445, '09066660100': 4446, '2309': 4447, 'attending': 4448, '07753741225': 4449, '08715203677': 4450, '42478': 4451, 'skint': 4452, 'fancied': 4453, 'bevies': 4454, 'waz': 4455, 'othrs': 4456, 'spoon': 4457, 'watchng': 4458, 'comfey': 4459, 'mmmmmmm': 4460, 'snuggles': 4461, 'contented': 4462, 'sigh': 4463, 'whispers': 4464, 'complaining': 4465, 'neighbors': 4466, 'randomlly': 4467, '5min': 4468, 'opening': 4469, 'grab': 4470, 'excused': 4471, '49': 4472, 'bundle': 4473, 'deals': 4474, 'avble': 4475, 'mf': 4476, 'doesn\\x89û÷t': 4477, 'pushes': 4478, 'edge': 4479, 'underdtand': 4480, 'recpt': 4481, 'rahul': 4482, 'dengra': 4483, 'tarot': 4484, '85555': 4485, 'parachute': 4486, 'ft': 4487, 'combination': 4488, 'remb': 4489, 'nationwide': 4490, 'newport': 4491, 'dracula': 4492, 'ghost': 4493, 'addamsfa': 4494, 'munsters': 4495, 'exorcist': 4496, 'twilight': 4497, 'offense': 4498, 'nalla': 4499, 'specialisation': 4500, 'labor': 4501, 'shakara': 4502, 'beggar': 4503, 'poyyarikatur': 4504, 'kolathupalayam': 4505, 'unjalur': 4506, 'erode': 4507, 'realise': 4508, '6pm': 4509, 'hanger': 4510, \"parents'\": 4511, 'conveying': 4512, 'asia': 4513, 'breakfast': 4514, 'hamper': 4515, 'pure': 4516, 'hearted': 4517, 'enemies': 4518, 'smiley': 4519, 'natalie': 4520, 'natalie2k9': 4521, 'stripes': 4522, 'skirt': 4523, '078': 4524, '5k': 4525, '09064011000': 4526, 'cr01327bt': 4527, 'fixedline': 4528, '8800': 4529, 'psp': 4530, 'boye': 4531, 'faded': 4532, 'glory': 4533, 'ralphs': 4534, 'connections': 4535, '4the': 4536, 'flirtparty': 4537, 'replys150': 4538, 'pieces': 4539, 'cloth': 4540, 'pack': 4541, 'shola': 4542, 'sagamu': 4543, 'lautech': 4544, 'vital': 4545, 'completes': 4546, 'education': 4547, 'zealand': 4548, 'famous': 4549, 'develop': 4550, \"'anything'\": 4551, 'unconditionally': 4552, 'temper': 4553, \"'married'\": 4554, 'sacrifice': 4555, 'problematic': 4556, 'nos': 4557, '08701213186': 4558, '4mths': 4559, 'mobilesdirect': 4560, '08000938767': 4561, 'or2stoptxt': 4562, 'gap': 4563, 'fills': 4564, 'gaps': 4565, 'smiled': 4566, 'dehydrated': 4567, 'usual': 4568, 'desparately': 4569, \"rct'\": 4570, 'thnq': 4571, 'adrian': 4572, 'vatian': 4573, 'forwarding': 4574, 'batsman': 4575, 'grownup': 4576, '31': 4577, 'collapsed': 4578, 'simulate': 4579, 'readiness': 4580, 'clever': 4581, 'pears': 4582, 'maintain': 4583, 'sh': 4584, 'jas': 4585, 'nottingham': 4586, '63miles': 4587, '40mph': 4588, 'taxi': 4589, 'ing': 4590, 'wasnt': 4591, 'phoned': 4592, '09096102316': 4593, 'doit': 4594, 'mymoby': 4595, 'mary': 4596, 'defer': 4597, 'admission': 4598, 'thus': 4599, \"it'll\": 4600, 'floppy': 4601, 'snappy': 4602, 'gam': 4603, 'soc': 4604, 'heat': 4605, 'applyed': 4606, 'oil': 4607, '08707500020': 4608, 'french': 4609, 'fooled': 4610, 'boyf': 4611, 'interviw': 4612, 'total': 4613, 'quarter': 4614, '08712402779': 4615, 'westshore': 4616, 'hyde': 4617, 'tunde': 4618, 'basketball': 4619, 'outdoors': 4620, 'brin': 4621, 'sheet': 4622, 'holy': 4623, 'satsgettin': 4624, '47per': 4625, 'inner': 4626, 'tigress': 4627, 'inconvenient': 4628, 'treadmill': 4629, 'craigslist': 4630, '07781482378': 4631, 'atlanta': 4632, 'didn\\x89û÷t': 4633, 'nighters': 4634, 'persevered': 4635, 'clash': 4636, '08002986030': 4637, 'completed': 4638, 'degree': 4639, 'finance': 4640, 'kane': 4641, 'shud': 4642, '2nights': 4643, 'uve': 4644, 'wildest': 4645, '18yrs': 4646, '69888nyt': 4647, 'dats': 4648, 'dogg': 4649, 'dialogue': 4650, 'reltnship': 4651, \"treatin'\": 4652, 'treacle': 4653, 'tke': 4654, 'synced': 4655, 'shangela': 4656, 'yeesh': 4657, 'castor': 4658, 'math': 4659, '09061213237': 4660, '177': 4661, 'm227xy': 4662, 'siva': 4663, 'tats': 4664, 'whore': 4665, 'woodland': 4666, 'avenue': 4667, 'parish': 4668, 'magazine': 4669, 'returning': 4670, 'classmates': 4671, 'excited': 4672, 'romantic': 4673, 'crammed': 4674, 'financial': 4675, 'fridge': 4676, 'bec': 4677, 'packing': 4678, \"audrey's\": 4679, 'status': 4680, 'natalja': 4681, 'nat27081980': 4682, 'lovable': 4683, 'bcums': 4684, 'affection': 4685, 'kettoda': 4686, 'manda': 4687, 'absolutly': 4688, 'polo': 4689, '373': 4690, 'w1j': 4691, '6hl': 4692, 'ana': 4693, 'sathy': 4694, 'rto': 4695, 'betta': 4696, 'invest': 4697, 'aging': 4698, 'products': 4699, \"valentine's\": 4700, '69101': 4701, 'rtf': 4702, 'sphosting': 4703, 'chad': 4704, 'gymnastics': 4705, 'christians': 4706, 'nachos': 4707, 'å£600': 4708, 'landmark': 4709, 'bob': 4710, 'barry': 4711, '83738': 4712, 'goigng': 4713, 'perfume': 4714, 'youphone': 4715, 'athome': 4716, 'youwanna': 4717, 'howda': 4718, 'mathe': 4719, 'samachara': 4720, 'promotion': 4721, '8714714': 4722, 'ubandu': 4723, 'disk': 4724, 'repair': 4725, 'everyones': 4726, 'babysitting': 4727, 'okey': 4728, 'dokey': 4729, 'swashbuckling': 4730, 'tee': 4731, 'el': 4732, 'nino': 4733, 'himself': 4734, 'bawling': 4735, 'failure': 4736, 'failing': 4737, 'doesn': 4738, 'bunkers': 4739, 'peaceful': 4740, 'vijaykanth': 4741, '09094100151': 4742, 'cast': 4743, 'gbp5': 4744, 'box61': 4745, 'm60': 4746, '1er': 4747, 'ystrday': 4748, 'rp176781': 4749, 'regalportfolio': 4750, '08717205546': 4751, 'tip': 4752, '30th': 4753, 'areyouunique': 4754, 'li': 4755, 'lecturer': 4756, 'repeating': 4757, 'puzzeles': 4758, 'sink': 4759, 'paces': 4760, 'cage': 4761, 'surrounded': 4762, 'reminding': 4763, 'owns': 4764, 'cuck': 4765, 'durban': 4766, 'lennon': 4767, 'liverpool': 4768, 'textand': 4769, '08002988890': 4770, 'unfortunately': 4771, 'pants': 4772, '07099833605': 4773, 'ref': 4774, '9280114': 4775, 'establish': 4776, 'åòharry': 4777, 'luton': 4778, '0125698789': 4779, '0a': 4780, 'companies': 4781, 'responsible': 4782, 'suppliers': 4783, '0721072': 4784, 'bcaz': 4785, \"cann't\": 4786, 'topped': 4787, 'bubbletext': 4788, 'tgxxrz': 4789, 'overtime': 4790, 'nigpun': 4791, 'kvb': 4792, '4d': 4793, 'closes': 4794, 'bold2': 4795, 'shifad': 4796, 'raised': 4797, '\\x89ûïharry': 4798, 'royal': 4799, 'parkin': 4800, 'jabo': 4801, '449050000301': 4802, '09050000301': 4803, '09066350750': 4804, 'ibiza': 4805, '434': 4806, 'sk3': 4807, '8wp': 4808, 'shun': 4809, 'bian': 4810, 'glass': 4811, 'exhibition': 4812, 'nevering': 4813, 'rgent': 4814, 'milk': 4815, 'magic': 4816, 'faggot': 4817, 'completing': 4818, 'southern': 4819, 'ours': 4820, 'sday': 4821, '3lions': 4822, 'half8th': 4823, 'nigh': 4824, 'prolly': 4825, '60': 4826, '400thousad': 4827, 'nearer': 4828, 'ducking': 4829, 'chinchillas': 4830, 'tp': 4831, 'styles': 4832, 'hahaha': 4833, 'brain': 4834, 'chk': 4835, 'dict': 4836, 'waqt': 4837, 'pehle': 4838, 'naseeb': 4839, 'zyada': 4840, 'kisi': 4841, 'ko': 4842, 'kuch': 4843, 'milta': 4844, 'hum': 4845, 'sochte': 4846, 'ham': 4847, 'jeetey': 4848, 'watts': 4849, 'opened': 4850, 'jaya': 4851, 'feathery': 4852, 'bowa': 4853, 'buyer': 4854, '449071512431': 4855, 'cultures': 4856, 'eldest': 4857, 'sends': 4858, 'kalainar': 4859, 'thenampet': 4860, 'pocy': 4861, 'lyrics': 4862, 'reception': 4863, 'shoppin': 4864, 'treats': 4865, 'chez': 4866, 'jules': 4867, 'duchess': 4868, 'cornwall': 4869, '008704050406': 4870, 'arrow': 4871, 'crashing': 4872, 'africa': 4873, 'avin': 4874, 'silver': 4875, 'debating': 4876, 'theyre': 4877, 'hospitals': 4878, 'sooooo': 4879, 'wi': 4880, 'nz': 4881, 'wrks': 4882, 'lovin': 4883, '08448350055': 4884, 'planettalkinstant': 4885, '7548': 4886, '4041': 4887, 'leading': 4888, '151': 4889, 'pause': 4890, 'flavour': 4891, 'spotty': 4892, 'province': 4893, 'sterling': 4894, 'brolly': 4895, 'franxx': 4896, \"when're\": 4897, 'mcr': 4898, 'thin': 4899, 'arguments': 4900, 'fed': 4901, 'himso': 4902, 'wifi': 4903, 'ipad': 4904, 'chloe': 4905, 'smashed': 4906, 'varunnathu': 4907, 'edukkukayee': 4908, 'raksha': 4909, 'ollu': 4910, 'timings': 4911, 'prasanth': 4912, 'ettans': 4913, 'stomach': 4914, 'trauma': 4915, 'swear': 4916, 'diwali': 4917, 'sonathaya': 4918, 'soladha': 4919, 'rajitha': 4920, 'raj': 4921, 'ranju': 4922, 'okmail': 4923, '09061743806': 4924, 'box326': 4925, '32000': 4926, 'legitimat': 4927, 'efreefone': 4928, 'nìâte': 4929, 'audiitions': 4930, 'relocate': 4931, 'yah': 4932, 'esaplanade': 4933, 'archive': 4934, '3pound': 4935, 'bognor': 4936, 'splendid': 4937, 'yoyyooo': 4938, 'permissions': 4939, 'chillaxin': 4940, 'volcanoes': 4941, 'erupt': 4942, 'arise': 4943, 'hurricanes': 4944, 'sway': 4945, 'aroundn': 4946, 'disasters': 4947, 'ryan': 4948, 'unconvinced': 4949, 'elaborate': 4950, 'willpower': 4951, 'fringe': 4952, '07734396839': 4953, 'ibh': 4954, 'loyalty': 4955, 'nokia6600': 4956, '81151': 4957, '4t': 4958, 'wildlife': 4959, 'want2come': 4960, 'that2worzels': 4961, 'wizzle': 4962, 'theres': 4963, 'tmrw': 4964, 'center': 4965, '447797706009': 4966, 'careers': 4967, 'sd': 4968, 'sez': 4969, 'arab': 4970, 'evry1': 4971, 'eshxxxxxxxxxxx': 4972, 'build': 4973, 'angels': 4974, 'snowball': 4975, 'cps': 4976, 'outages': 4977, 'conserve': 4978, 'silly': 4979, 'isn\\x89û÷t': 4980, 'murali': 4981, 'prix': 4982, 'get4an18th': 4983, 'formally': 4984, 'grumble': 4985, 'soz': 4986, 'imat': 4987, 'mums': 4988, 'falls': 4989, 'vague': 4990, 'accounting': 4991, 'delayed': 4992, 'housing': 4993, 'agency': 4994, 'renting': 4995, 'beside': 4996, 'shorter': 4997, 'gaze': 4998, 'towards': 4999, 'mandan': 5000, 'shining': 5001, 'epi': 5002, 'mapquest': 5003, 'dogwood': 5004, 'cruisin': 5005, 'jenny': 5006, 'sary': 5007, 'tim': 5008, 'bollox': 5009, 'tol': 5010, '3000': 5011, 'beads': 5012, 'inspection': 5013, 'nursery': 5014, 'ideal': 5015, 'path': 5016, 'appear': 5017, 'paths': 5018, 'seperated': 5019, '\\x8eö´\\x89ó': 5020, '\\x8bû¬ud': 5021, 'rows': 5022, 'mcfly': 5023, 'ab': 5024, 'sara': 5025, 'jorge': 5026, 'lips': 5027, 'vomiting': 5028, 'ecstasy': 5029, 'chile': 5030, 'subletting': 5031, '08715203652': 5032, '42810': 5033, 'eh74rr': 5034, 'idc': 5035, 'weaseling': 5036, 'tomorro': 5037, 'efficient': 5038, 'iouri': 5039, 'puppy': 5040, 'noise': 5041, 'bruce': 5042, 'downs': 5043, 'fletcher': 5044, 'dock': 5045, 'rolled': 5046, 'newscaster': 5047, 'dabbles': 5048, 'flute': 5049, 'wheel': 5050, 'sang': 5051, \"'uptown\": 5052, \"girl'\": 5053, \"80's\": 5054, 'phonebook': 5055, 'mentor': 5056, 'percent': 5057, 'restock': 5058, 'desparate': 5059, 'recorded': 5060, 'unnecessarily': 5061, 'affectionate': 5062, 'admit': 5063, 'apologetic': 5064, 'fallen': 5065, 'actin': 5066, 'spoilt': 5067, 'child': 5068, 'badly': 5069, '400mins': 5070, 'j5q': 5071, 'worrying': 5072, 'quizzes': 5073, '09061743811': 5074, 'unlike': 5075, 'patients': 5076, 'turkeys': 5077, 'you\\x89û÷ll': 5078, 'biola': 5079, 'gibbs': 5080, 'mike': 5081, 'hussey': 5082, 'macedonia': 5083, 'goals': 5084, 'ì¼1': 5085, 'poboxox36504w45wq': 5086, 'makin': 5087, 'weirdy': 5088, 'brownies': 5089, '83110': 5090, 'flurries': 5091, 'melt': 5092, 'ground': 5093, 'eek': 5094, 'claims': 5095, 'dept': 5096, '08717507382': 5097, 'brainless': 5098, 'doll': 5099, 'vehicle': 5100, 'sariyag': 5101, 'madoke': 5102, 'barolla': 5103, 'gf': 5104, \"basket's\": 5105, 'comprehensive': 5106, 'gek1510': 5107, 'piece': 5108, 'seventeen': 5109, 'seven': 5110, 'ml': 5111, 'rt': 5112, 'pro': 5113, '08701237397': 5114, 'redeemable': 5115, 'wiskey': 5116, 'brandy': 5117, 'rum': 5118, 'gin': 5119, 'scotch': 5120, 'shampain': 5121, 'kudi': 5122, 'yarasu': 5123, 'dhina': 5124, 'vaazhthukkal': 5125, 'ovulate': 5126, '3wks': 5127, 'quiteamuzing': 5128, 'thatåõscool': 5129, 'luxury': 5130, 'canary': 5131, 'islands': 5132, '20m12aq': 5133, '\\x89ûï': 5134, \"'rencontre'\": 5135, 'mountains': 5136, 'outbid': 5137, 'simonwatson5120': 5138, 'shinco': 5139, 'plyr': 5140, 'smsrewards': 5141, 'notifications': 5142, 'assumed': 5143, 'shadow': 5144, 'grooved': 5145, 'melody': 5146, 'rupaul': 5147, 'tool': 5148, \"fuck's\": 5149, 'tallahassee': 5150, 'placement': 5151, 'amrita': 5152, 'blowing': 5153, 'abbey': 5154, 'everywhere': 5155, 'dirt': 5156, 'chores': 5157, 'exist': 5158, 'hail': 5159, 'mist': 5160, 'easiest': 5161, 'barcelona': 5162, 'guessing': 5163, 'guessed': 5164, 'callfreefone': 5165, '08081560665': 5166, 'cruise': 5167, 'ofå£2000': 5168, '07786200117': 5169, 'spontaneously': 5170, 'goodevening': 5171, 'starving': 5172, 'filthyguys': 5173, '4msgs': 5174, 'electricity': 5175, 'yavnt': 5176, 'buyers': 5177, 'videos': 5178, 'shsex': 5179, 'netun': 5180, 'fgkslpopw': 5181, 'fgkslpo': 5182, 'errors': 5183, '2mro': 5184, 'ploughing': 5185, 'pile': 5186, 'ironing': 5187, 'chinky': 5188, 'faglord': 5189, 'burial': 5190, 'eviction': 5191, 'spiral': 5192, 'michael': 5193, 'riddance': 5194, 'wee': 5195, 'gnarls': 5196, 'barkleys': 5197, 'submitting': 5198, 'destination': 5199, 'fumbling': 5200, 'ree': 5201, 'ummma': 5202, 'compass': 5203, 'soul': 5204, 'gnun': 5205, 'way2sms': 5206, 'we\\x89û÷re': 5207, '24th': 5208, 'wind': 5209, 'fwiw': 5210, 'afford': 5211, 'tells': 5212, '28th': 5213, 'headset': 5214, 'adp': 5215, 'olol': 5216, 'mandy': 5217, 'sullivan': 5218, 'hotmix': 5219, 'fm': 5220, '09041940223': 5221, 'transferred': 5222, 'shaking': 5223, 'booty': 5224, '85222': 5225, 'winnersclub': 5226, '84': 5227, 'm26': 5228, '3uz': 5229, 'gbp1': 5230, 'kaiez': 5231, 'beta': 5232, 'audrey': 5233, 'arngd': 5234, 'walkin': 5235, 'unfortuntly': 5236, 'bites': 5237, 'dancing': 5238, 'frnt': 5239, 'sayin': 5240, 'peoples': 5241, 'shy': 5242, 'gary': 5243, 'ptbo': 5244, 'machines': 5245, 'nannys': 5246, 'adoring': 5247, 'panties': 5248, \"friend's\": 5249, 'whos': 5250, 'clip': 5251, '35p': 5252, 'mmsto': 5253, '32323': 5254, 'gail': 5255, 'l8tr': 5256, 'yaxxx': 5257, \"gumby's\": 5258, 'forgive': 5259, 'call09050000327': 5260, 'anna': 5261, 'nagar': 5262, 'rocking': 5263, 'ashes': 5264, 'walmart': 5265, 'mouse': 5266, 'desk': 5267, 'harder': 5268, 'nbme': 5269, '08718738001': 5270, '49557': 5271, '08717895698': 5272, 'mobstorequiz10ppm': 5273, 'syria': 5274, 'canada': 5275, 'cl': 5276, 'yeovil': 5277, 'motor': 5278, 'max': 5279, 'lined': 5280, 'accenture': 5281, 'radiator': 5282, 'drastic': 5283, 'pract': 5284, 'flung': 5285, 'gower': 5286, 'åômorrow': 5287, 'html': 5288, 'gbp4': 5289, 'mfl': 5290, 'crap': 5291, 'watchin': 5292, 'leads': 5293, 'browser': 5294, 'surf': 5295, \"ny's\": 5296, 'asthma': 5297, 'attack': 5298, 'profile': 5299, 'bpo': 5300, 'feelin': 5301, 'rcv': 5302, 'svc': 5303, 'hardcore': 5304, '69988': 5305, '1hr': 5306, 'roast': 5307, 'dealer': 5308, 'freedom': 5309, 'lunsford': 5310, 'needing': 5311, 'memory': 5312, 'imin': 5313, 'dontmatter': 5314, 'urgoin': 5315, 'outl8r': 5316, 'ijust': 5317, 'talked': 5318, 'bani': 5319, 'prescription': 5320, 'filthy': 5321, 'stories': 5322, 'pen': 5323, 'beyond': 5324, 'biro': 5325, 'general': 5326, 'crying': 5327, 'imprtant': 5328, 'tomorw': 5329, 'raping': 5330, 'dudes': 5331, \"shade's\": 5332, 'summers': 5333, 'matched': 5334, 'help08714742804': 5335, \"station's\": 5336, 'kickboxing': 5337, 'mallika': 5338, 'sherawat': 5339, 'wondar': 5340, 'flim': 5341, '07742676969': 5342, '08719180248': 5343, 'noworriesloans': 5344, '08717111821': 5345, '0844': 5346, '861': 5347, 'prepayment': 5348, 'telediscount': 5349, 'gentleman': 5350, 'dignity': 5351, 'approve': 5352, 'panalam': 5353, 'supports': 5354, 'srt': 5355, 'ps3': 5356, 'didntgive': 5357, 'bellearlier': 5358, 'brison': 5359, 'language': 5360, \"party's\": 5361, 'contribute': 5362, 'greatly': 5363, 'appreciated': 5364, 'evaporated': 5365, 'privacy': 5366, 'stealing': 5367, \"employer's\": 5368, 'paperwork': 5369, 'jerk': 5370, \"dip's\": 5371, \"anybody's\": 5372, 'tactful': 5373, 'paypal': 5374, 'voila': 5375, 'pockets': 5376, 'jurong': 5377, 'amore': 5378, 'smarter': 5379, 'konw': 5380, 'waht': 5381, 'rael': 5382, 'gving': 5383, 'exmpel': 5384, 'jsut': 5385, 'evrey': 5386, 'splleing': 5387, 'wrnog': 5388, 'sitll': 5389, 'raed': 5390, 'wihtuot': 5391, 'ayn': 5392, 'mitsake': 5393, 'skateboarding': 5394, 'despite': 5395, 'thrown': 5396, 'winds': 5397, 'bandages': 5398, '08718723815': 5399, 'likes': 5400, 'dislikes': 5401, 'tok': 5402, 'pobox202': 5403, 'nr31': 5404, '7zs': 5405, '450pw': 5406, 'gifts': 5407, 'cliff': 5408, 'jos': 5409, '09061221061': 5410, '28days': 5411, 'box177': 5412, 'm221bp': 5413, '2yr': 5414, 'warranty': 5415, 'på£3': 5416, '99': 5417, 'pocay': 5418, 'wocay': 5419, '2morrowxxxx': 5420, 'atten': 5421, 'effect': 5422, 'aust': 5423, 'bk': 5424, 'olave': 5425, 'mandara': 5426, 'trishul': 5427, 'havin': 5428, 'borin': 5429, '09099725823': 5430, 'companion': 5431, 'chef': 5432, 'listener': 5433, 'organizer': 5434, 'sympathetic': 5435, 'athletic': 5436, 'courageous': 5437, 'determined': 5438, 'dependable': 5439, 'psychologist': 5440, 'pest': 5441, 'exterminator': 5442, 'psychiatrist': 5443, 'healer': 5444, 'stylist': 5445, 'driver': 5446, 'aaniye': 5447, 'pudunga': 5448, 'venaam': 5449, 'lamp': 5450, 'heavily': 5451, 'withdraw': 5452, 'anyhow': 5453, \"mine's\": 5454, 'qjkgighjjgcbl': 5455, 'arr': 5456, 'oscar': 5457, 'dogbreath': 5458, 'sounding': 5459, 'emigrated': 5460, 'hopeful': 5461, 'shiny': 5462, 'warming': 5463, 'invite': 5464, 'sun0819': 5465, 'fuuuuck': 5466, 'several': 5467, 'ofcourse': 5468, 'splash': 5469, 'disagreeable': 5470, 'incomm': 5471, 'accomodations': 5472, 'cave': 5473, 'offered': 5474, 'embarassing': 5475, 'shag': 5476, 'sextextuk': 5477, 'xxuk': 5478, 'suzy': 5479, '69876': 5480, 'install': 5481, 'browse': 5482, 'artists': 5483, 'kfc': 5484, 'meals': 5485, 'gravy': 5486, 'prey': 5487, 'kilos': 5488, 'documents': 5489, 'submitted': 5490, 'stapati': 5491, 'hoped': 5492, 'regretted': 5493, 'thet': 5494, 'skinny': 5495, 'casting': 5496, 'finalise': 5497, 'skye': 5498, 'alto18': 5499, '44345': 5500, 'panic': 5501, 'neshanth': 5502, \"ta's\": 5503, 'dump': 5504, 'heap': 5505, 'lowes': 5506, 'ericson': 5507, 'der': 5508, 'luks': 5509, 'modl': 5510, 'professional': 5511, 'tiger': 5512, 'woods': 5513, 'yalru': 5514, 'astne': 5515, 'innu': 5516, 'mundhe': 5517, 'halla': 5518, 'bilo': 5519, 'program': 5520, 'edhae': 5521, 'ovr': 5522, 'vargu': 5523, 'subtoitles': 5524, 'hunt': 5525, '83435': 5526, 'brownie': 5527, 'virgins': 5528, 'sexual': 5529, 'theirs': 5530, '69911': 5531, 'pt2': 5532, 'youi': 5533, 'smartcall': 5534, '68866': 5535, 'subscriptn3gbp': 5536, '08448714184': 5537, 'landlineonly': 5538, 'cocksuckers': 5539, 'ipads': 5540, 'worthless': 5541, 'novelty': 5542, 'ccna': 5543, 'wahala': 5544, 'retard': 5545, 'adding': 5546, 'zeros': 5547, 'savings': 5548, 'prefer': 5549, 'rubber': 5550, 'tag': 5551, 'bras': 5552, 'strewn': 5553, 'pillows': 5554, 'coincidence': 5555, \"aunty's\": 5556, 'annoncement': 5557, '07046744435': 5558, 'mumhas': 5559, 'beendropping': 5560, 'theplace': 5561, 'adress': 5562, 'commit': 5563, 'wn': 5564, 'prsn': 5565, 'somtimes': 5566, 'saves': 5567, 'eveb': 5568, 'trash': 5569, 'alternative': 5570, \"term's\": 5571, 'trek': 5572, 'sheffield': 5573, 'categories': 5574, 'ethnicity': 5575, 'census': 5576, 'transcribing': 5577, 'onluy': 5578, 'matters': 5579, 'offcampus': 5580, 'costumes': 5581, 'yowifes': 5582, 'select': 5583, 'trained': 5584, 'advisors': 5585, 'dialling': 5586, '402': 5587, 'watched': 5588, '08719181503': 5589, 'pounded': 5590, 'rules': 5591, 'responsibility': 5592, 'bend': 5593, 'thia': 5594, 'inlude': 5595, 'previews': 5596, 'ummifying': 5597, 'hidden': 5598, 'hearin': 5599, '077xxx': 5600, '09066362206': 5601, 'alter': 5602, 'spoiled': 5603, 'necesity': 5604, 'witout': 5605, \"hw'd\": 5606, 'colleg': 5607, \"wat'll\": 5608, 'wth': 5609, 'functions': 5610, 'events': 5611, \"espe'll\": 5612, 'irritated': 5613, '4wrd': 5614, 'wthout': 5615, 'whom': 5616, 'takecare': 5617, 'nordstrom': 5618, 'zac': 5619, '820554ad0a1705572711': 5620, 'trueåác': 5621, 'ringtoneåá': 5622, 'concentration': 5623, '420': 5624, 'chances': 5625, 'csh11': 5626, '6days': 5627, 'tsandcs': 5628, 'wewa': 5629, '130': 5630, 'iriver': 5631, '255': 5632, '128': 5633, 'mb': 5634, 'voted': 5635, '08712402578': 5636, 'truro': 5637, 'ext': 5638, 'maths': 5639, 'chapter': 5640, 'pansy': 5641, 'jungle': 5642, 'varaya': 5643, 'elaya': 5644, 'supplies': 5645, 'poet': 5646, 'imagination': 5647, 'forgiven': 5648, 'possibility': 5649, 'board': 5650, 'overheating': 5651, 'reslove': 5652, 'inst': 5653, \"8'o\": 5654, '09058094507': 5655, 'spice': 5656, '1172': 5657, 'onbus': 5658, 'donyt': 5659, 'latelyxxx': 5660, 'toyota': 5661, 'camry': 5662, \"olayiwola's\": 5663, 'mileage': 5664, 'dough': 5665, 'landing': 5666, 'receipts\\x89ûówell': 5667, 'what\\x89û÷s': 5668, 'glo': 5669, '7634': 5670, '7684': 5671, 'gist': 5672, 'daytime': 5673, 'busty': 5674, '09099726429': 5675, 'janinexx': 5676, '09071517866': 5677, '150ppmpobox10183bhamb64xe': 5678, 't91': 5679, '09057039994': 5680, 'can\\x89û÷t': 5681, 'cn': 5682, 'duffer': 5683, 'priya': 5684, 'hu': 5685, 'navigate': 5686, 'choosing': 5687, 'require': 5688, 'guidance': 5689, 'doubt': 5690, 'syllabus': 5691, 'identification': 5692, 'tix': 5693, 'notified': 5694, 'marketing': 5695, '84122': 5696, '08450542832': 5697, 'whr': 5698, \"'hex'\": 5699, 'stil': 5700, 'fucked': 5701, 'tobed': 5702, '430': 5703, '630': 5704, 'burden': 5705, 'relieved': 5706, 'westonzoyland': 5707, 'stu': 5708, 'truble': 5709, 'evone': 5710, 'hates': 5711, 'thankyou': 5712, 'stands': 5713, 'nitz': 5714, 'sindu': 5715, 'windy': 5716, 'drinkin': 5717, 'dancin': 5718, '15pm': 5719, 'agents': 5720, 'experiment': 5721, 'taught': 5722, 'ranjith': 5723, 'becaus': 5724, 'verifying': 5725, 'prabu': 5726, 'smsservices': 5727, 'yourinclusive': 5728, 'garden': 5729, 'bulbs': 5730, 'seeds': 5731, 'å£33': 5732, 'scotsman': 5733, 'go2': 5734, 'notxt': 5735, 'nudist': 5736, 'themed': 5737, 'lasting': 5738, 'darker': 5739, 'styling': 5740, 'kay': 5741, '08718738002': 5742, '48922': 5743, 'absence': 5744, '08715500022': 5745, 'rpl': 5746, 'cnl': 5747, 'oral': 5748, 'position': 5749, 'infact': 5750, 'velly': 5751, '2morrow': 5752, \"carlos'll\": 5753, 'quitting': 5754, 'least5times': 5755, \"wudn't\": 5756, 'beach': 5757, 'expected': 5758, 'helens': 5759, 'princes': 5760, 'sux': 5761, 'raiden': 5762, 'remembrs': 5763, 'forgets': 5764, 'everytime': 5765, 'stereo': 5766, 'mi': 5767, 'manual': 5768, 'reset': 5769, 'troubleshooting': 5770, 'solihull': 5771, 'mei': 5772, 'haven': 5773, 'bao': 5774, 'sugardad': 5775, 'pooja': 5776, 'pimples': 5777, 'sweatter': 5778, 'rayman': 5779, 'golf': 5780, 'activ8': 5781, 'termsapply': 5782, 'outsider': 5783, 'locks': 5784, 'jenne': 5785, 'ooooooh': 5786, 'yoville': 5787, 'whereare': 5788, 'friendsare': 5789, 'thekingshead': 5790, 'canlove': 5791, 'abroad': 5792, 'xxsp': 5793, 'stopcost': 5794, '08712400603': 5795, 'collecting': 5796, 'configure': 5797, 'noice': 5798, 'route': 5799, 'crucial': 5800, \"someone's\": 5801, 'erutupalam': 5802, 'thandiyachu': 5803, 'missions': 5804, \"'need'\": 5805, \"'comfort'\": 5806, \"'luxury'\": 5807, 'sold': 5808, 'qet': 5809, 'mylife': 5810, 'sq825': 5811, 'arrival': 5812, '087123002209am': 5813, 'gimmi': 5814, 'goss': 5815, 'cartons': 5816, 'shelves': 5817, 'every1': 5818, 'ava': 5819, 'goodtime': 5820, 'oli': 5821, 'melnite': 5822, 'ifink': 5823, 'everythin': 5824, 'l8rs': 5825, 'avo': 5826, 'progress': 5827, 'non': 5828, 'billy': 5829, 'chit': 5830, 'logon': 5831, '8883': 5832, 'cm': 5833, '4217': 5834, 'w1a': 5835, '6zf': 5836, '118p': 5837, 'dodgey': 5838, 'browsin': 5839, 'compulsory': 5840, '08006344447': 5841, 'flew': 5842, 'window': 5843, 'hppnss': 5844, 'sorrow': 5845, 'goodfriend': 5846, 'merely': 5847, 'relationship': 5848, 'wherevr': 5849, 'gudnyt': 5850, 'sculpture': 5851, \"sms'd\": 5852, 'orh': 5853, 'recognises': 5854, 'huiming': 5855, 'breeze': 5856, 'fresh': 5857, 'twittering': 5858, 'thinked': 5859, 'derp': 5860, 'abusers': 5861, '08718726978': 5862, 'hf8': 5863, 'spjanuary': 5864, '08709222922': 5865, '8p': 5866, 'peak': 5867, 'heads': 5868, 'ujhhhhhhh': 5869, 'sandiago': 5870, 'parantella': 5871, '0089': 5872, 'digits': 5873, '09063442151': 5874, 'dresser': 5875, 'pai': 5876, 'seh': 5877, '09058095107': 5878, 's3xy': 5879, 'gray': 5880, 'remembr': 5881, 'listn': 5882, 'watevr': 5883, 'arithmetic': 5884, 'percentages': 5885, 'attended': 5886, 'sickness': 5887, 'tooth': 5888, 'or2optout': 5889, 'hv9d': 5890, 'fifty': 5891, 'club4mobiles': 5892, '87070': 5893, 'club4': 5894, 'box1146': 5895, 'mk45': 5896, '2wt': 5897, 'sapna': 5898, 'aunty': 5899, 'manege': 5900, \"y'day\": 5901, 'hogidhe': 5902, 'chinnu': 5903, 'swalpa': 5904, 'agidhane': 5905, 'exp': 5906, '30apr': 5907, 'si': 5908, \"mum's\": 5909, 'optimistic': 5910, '09058099801': 5911, 'b4190604': 5912, '7876150ppm': 5913, \"tm'ing\": 5914, 'laughs': 5915, 'w8in': 5916, '4utxt': 5917, '82242': 5918, 'hlp': 5919, '08712317606': 5920, 'msg150p': 5921, '2rcv': 5922, 'emailed': 5923, 'yifeng': 5924, 'involve': 5925, 'imposed': 5926, 'donno': 5927, 'genes': 5928, 'humans': 5929, 'å£1million': 5930, 'ppt150x3': 5931, 'box403': 5932, 'w1t1jy': 5933, 'gran': 5934, 'onlyfound': 5935, 'afew': 5936, 'cusoon': 5937, 'honi': 5938, 'rumour': 5939, 'plum': 5940, 'smacks': 5941, 'jackpot': 5942, '81010': 5943, 'dbuk': 5944, 'lccltd': 5945, '4403ldnw1a7rw18': 5946, 'dusk': 5947, 'puzzles': 5948, 'jd': 5949, 'accounts': 5950, 'priority': 5951, 'thout': 5952, 'sayy': 5953, 'thirtyeight': 5954, 'resubbing': 5955, 'designation': 5956, 'developer': 5957, 'veggie': 5958, 'compensation': 5959, 'taxt': 5960, 'massage': 5961, 'tie': 5962, 'pos': 5963, 'lool': 5964, '09066368753': 5965, '97n7qp': 5966, 'hectic': 5967, 'flatter': 5968, 'pints': 5969, 'carlin': 5970, 'hcl': 5971, 'requires': 5972, 'freshers': 5973, 'suman': 5974, 'telephonic': 5975, '1pm': 5976, 'requirements': 5977, 'web2mobile': 5978, 'txt250': 5979, 'box139': 5980, 'la32wu': 5981, 'txtx': 5982, 'rimac': 5983, 'appeal': 5984, 'thriller': 5985, 'director': 5986, 'uworld': 5987, 'qbank': 5988, 'assessment': 5989, 'grinule': 5990, 'name1': 5991, 'name2': 5992, 'mobno': 5993, 'adam': 5994, '07123456789': 5995, 'txtno': 5996, 'ads': 5997, 'units': 5998, 'accent': 5999, '4years': 6000, 'dental': 6001, 'nmde': 6002, 'main': 6003, 'sources': 6004, 'unhappiness': 6005, 'canteen': 6006, 'sexychat': 6007, 'otside': 6008, 'nigro': 6009, 'flying': 6010, 'stability': 6011, 'tranquility': 6012, 'vibrant': 6013, 'colourful': 6014, 'lasagna': 6015, 'samus': 6016, 'shoulders': 6017, 'seing': 6018, 'asssssholeeee': 6019, 'weighed': 6020, 'woohoo': 6021, 'fixes': 6022, 'spelling': 6023, 'misundrstud': 6024, 'coughing': 6025, '83039': 6026, '62735': 6027, 'å£450': 6028, 'accommodationvouchers': 6029, 'mustprovide': 6030, '15541': 6031, 'moved': 6032, 'durham': 6033, 'reserved': 6034, 'das': 6035, 'iknow': 6036, 'wellda': 6037, 'peril': 6038, 'studentfinancial': 6039, 'victoria': 6040, 'traffic': 6041, 'practising': 6042, 'curtsey': 6043, 'matthew': 6044, '09063440451': 6045, 'ppm150': 6046, 'box334': 6047, 'ned': 6048, 'tirupur': 6049, 'gosh': 6050, 'spose': 6051, 'greatest': 6052, 'courage': 6053, 'bear': 6054, 'defeat': 6055, 'view': 6056, 'gays': 6057, 'triple': 6058, 'echo': 6059, 'zhong': 6060, 'qing': 6061, 'act': 6062, 'hurting': 6063, 'meaningful': 6064, 'compromised': 6065, 'science': 6066, 'nus': 6067, 'sg': 6068, 'phyhcmk': 6069, 'pc1323': 6070, 'pressies': 6071, 'missionary': 6072, '07801543489': 6073, 'latests': 6074, 'llc': 6075, 'ny': 6076, 'usa': 6077, 'msgrcvd18': 6078, \"table's\": 6079, 'occupied': 6080, 'certificate': 6081, 'publish': 6082, 'bike': 6083, 'dismissial': 6084, 'lodging': 6085, 'i\\x89ûªm': 6086, 'isn\\x89ûªt': 6087, '09061743810': 6088, 'sef': 6089, 'anjie': 6090, 'dom': 6091, 'fundamentals': 6092, 'langport': 6093, 'meg': 6094, 'wright': 6095, 'fly': 6096, 'envy': 6097, \"see's\": 6098, 'describe': 6099, 'nooooooo': 6100, 'cable': 6101, 'outage': 6102, 'sleepy': 6103, 'gobi': 6104, 'craving': 6105, 'chart': 6106, 'heroes': 6107, 'tips': 6108, 'videosound': 6109, 'gold': 6110, 'videosounds': 6111, 'musicnews': 6112, '09701213186': 6113, 'smsing': 6114, 'showered': 6115, \"er'ything\": 6116, 'cheyyamo': 6117, 'ritten': 6118, 'fold': 6119, 'jp': 6120, 'mofo': 6121, 'films': 6122, 'delay': 6123, 'natwest': 6124, 'citylink': 6125, 'marvel': 6126, 'ultimate': 6127, '83338': 6128, '8ball': 6129, 'broth': 6130, 'ramen': 6131, 'shant': 6132, 'experiencehttp': 6133, 'vouch4me': 6134, 'etlp': 6135, 'fondly': 6136, 'ups': 6137, '3days': 6138, 'shipping': 6139, '2wks': 6140, 'usps': 6141, 'bribe': 6142, 'nipost': 6143, 'amigos': 6144, 'burn': 6145, 'wenever': 6146, 'phone750': 6147, 'rub': 6148, 'west': 6149, 'palm': 6150, 'eastenders': 6151, 'dot': 6152, 'compare': 6153, 'herself': 6154, 'violet': 6155, 'tulip': 6156, 'lily': 6157, 'wkent': 6158, '150p16': 6159, 'arestaurant': 6160, 'squid': 6161, 'dosomething': 6162, 'predicte': 6163, \"partner's\": 6164, 'method': 6165, 'ajith': 6166, '0789xxxxxxx': 6167, '2find': 6168, 'sabarish': 6169, 'kappa': 6170, 'perf': 6171, 'appointments': 6172, 'pickle': 6173, 'jewelry': 6174, 'trips': 6175, 'hasnt': 6176, 'messaged': 6177, 'fredericksburg': 6178, 'prakesh': 6179, 'real1': 6180, 'pushbutton': 6181, 'dontcha': 6182, 'babygoodbye': 6183, 'golddigger': 6184, 'webeburnin': 6185, 'narcotics': 6186, 'lunchtime': 6187, 'organise': 6188, '2price': 6189, '100txt': 6190, 'mth': 6191, \"b'tooth\": 6192, 'd3wv': 6193, 'slightly': 6194, 'disastrous': 6195, 'wld': 6196, 'poorly': 6197, 'punishment': 6198, 'brb': 6199, 'kill': 6200, 'fffff': 6201, 'shattered': 6202, 'w4': 6203, '5wq': 6204, 'antelope': 6205, 'toplay': 6206, 'fieldof': 6207, 'selfindependence': 6208, 'contention': 6209, 'grow': 6210, 'gua': 6211, 'faber': 6212, 'jam': 6213, 'bread': 6214, 'hannaford': 6215, 'wheat': 6216, 'chex': 6217, 'thanks2': 6218, 'increase': 6219, 'vpod': 6220, '81303': 6221, '7ish': 6222, 'lou': 6223, 'gailxx': 6224, 'noncomittal': 6225, '09066368470': 6226, 'uniform': 6227, 'endowed': 6228, 'jokin': 6229, '09066362220': 6230, 'stressful': 6231, 'praveesh': 6232, 'delicious': 6233, 'resolution': 6234, 'frank': 6235, 'witin': 6236, 'jaklin': 6237, \"textin'\": 6238, \"fr'ndship\": 6239, 'needle': 6240, '4few': 6241, 'conected': 6242, 'receipts': 6243, 'pendent': 6244, 'intentions': 6245, 'greatness': 6246, 'charming': 6247, 'seekers': 6248, 'blankets': 6249, 'sufficient': 6250, 'covers': 6251, 'september': 6252, 'dhanush': 6253, 'enters': 6254, 'dollars': 6255, 'removed': 6256, 'hillsborough': 6257, 'highest': 6258, 'å£54': 6259, 'maximum': 6260, 'å£71': 6261, 'bids': 6262, '83383': 6263, 'belongs': 6264, 'fated': 6265, 'shoranur': 6266, 'fuelled': 6267, 'concern': 6268, 'prior': 6269, 'grief': 6270, 'meatballs': 6271, '087147123779am': 6272, 'apples': 6273, 'pairs': 6274, 'malarky': 6275, 'tahan': 6276, 'anot': 6277, '5226': 6278, 'hava': 6279, '1131': 6280, 'pookie': 6281, 'gauge': 6282, \"patty's\": 6283, 'interest': 6284, \"it'snot\": 6285, \"child's\": 6286, 'unintentional': 6287, 'nonetheless': 6288, 'suggest': 6289, 'greece': 6290, 'managed': 6291, 'oxygen': 6292, 'resort': 6293, 'roller': 6294, '09066358361': 6295, 'y87': 6296, 'cc100p': 6297, 'playng': 6298, 'occurs': 6299, 'necklace': 6300, 'token': 6301, 'liking': 6302, 'prayers': 6303, 'alaikkum': 6304, 'respectful': 6305, 'knickers': 6306, 'beg': 6307, '01223585236': 6308, 'nikiyu4': 6309, 'womdarfull': 6310, 'needy': 6311, 'sumfing': 6312, 'checkmate': 6313, 'chess': 6314, 'persian': 6315, 'phrase': 6316, 'shah': 6317, 'maat': 6318, 'odi': 6319, 'subscribers': 6320, 'chocolate': 6321, 'axel': 6322, 'akon': 6323, 'eyed': 6324, 'continued': 6325, 'president': 6326, 'sinco': 6327, 'payee': 6328, 'icicibank': 6329, 'beware': 6330, 'frauds': 6331, 'disclose': 6332, 'mina': 6333, 'reassuring': 6334, 'affidavit': 6335, 'twiggs': 6336, 'courtroom': 6337, 'lolnice': 6338, 'juicy': 6339, 'logging': 6340, 'desert': 6341, 'geoenvironmental': 6342, 'implications': 6343, 'earliest': 6344, 'habit': 6345, 'bari': 6346, 'hudgi': 6347, 'yorge': 6348, 'pataistha': 6349, 'ertini': 6350, 'spys': 6351, 'digi': 6352, 'coupla': 6353, 'predicting': 6354, 'inch': 6355, 'accumulation': 6356, 'starshine': 6357, 'sips': 6358, 'cappuccino': 6359, 'pump': 6360, 'xam': 6361, 'hall': 6362, 'manage': 6363, 'hesitation': 6364, 'intha': 6365, 'ponnungale': 6366, 'ipaditan': 6367, 'shoot': 6368, 'sozi': 6369, 'culdnt': 6370, 'talkbut': 6371, 'wannatell': 6372, 'wenwecan': 6373, 'restrictions': 6374, 'buddys': 6375, 'apology': 6376, 'mca': 6377, 'ore': 6378, 'owo': 6379, 'moments': 6380, 'fro': 6381, 'mountain': 6382, 'deer': 6383, 'scores': 6384, 'sophas': 6385, 'secondary': 6386, 'schools': 6387, 'applying': 6388, 'ogunrinde': 6389, 'maintaining': 6390, 'corect': 6391, 'speling': 6392, 'sarcasm': 6393, '83370': 6394, 'trivia': 6395, 'lifetime': 6396, 'quit': 6397, 'stage': 6398, 'mad1': 6399, 'mad2': 6400, 'text82228': 6401, 'significant': 6402, 'khelate': 6403, 'kintu': 6404, 'opponenter': 6405, 'dhorte': 6406, 'lage': 6407, '08718727870150ppm': 6408, 'congratulation': 6409, 'mc': 6410, 'complementary': 6411, 'wa14': 6412, '2px': 6413, \"something's\": 6414, 'engagement': 6415, 'fixd': 6416, 'shocking': 6417, 'njan': 6418, 'vilikkam': 6419, 'ws': 6420, 'sudn': 6421, 'steyn': 6422, 'wicket': 6423, 'meive': 6424, 'gotany': 6425, 'goal': 6426, 'piggy': 6427, 'annie': 6428, \"dad's\": 6429, 'ripped': 6430, 'clubmoby': 6431, '08717509990': 6432, 'gage': 6433, 'deck': 6434, 'cnupdates': 6435, 'newsletter': 6436, 'alerts': 6437, '82468': 6438, 'protect': 6439, 'sib': 6440, 'sensitive': 6441, 'passwords': 6442, 'risk': 6443, 'sporadically': 6444, 'bc': 6445, '07808': 6446, 'xxxxxx': 6447, '08719899217': 6448, '41685': 6449, '07': 6450, 'randomly': 6451, 'loyal': 6452, 'customers': 6453, '09066380611': 6454, 'follows': 6455, 'subsequent': 6456, 'yalrigu': 6457, 'heltini': 6458, 'iyo': 6459, 'shared': 6460, 'uttered': 6461, 'trusting': 6462, 'bomb': 6463, 'treasure': 6464, 'uncomfortable': 6465, 'hearing': 6466, 'yck': 6467, 'drizzling': 6468, 'scary': 6469, 'sumthin': 6470, 'mus': 6471, 'virtual': 6472, '01223585334': 6473, '2c': 6474, 'shagged': 6475, '2end': 6476, 'recorder': 6477, 'canname': 6478, 'capital': 6479, 'australia': 6480, 'mquiz': 6481, 'east': 6482, 'coast': 6483, 'falling': 6484, 'force': 6485, 'smeone': 6486, 'gmw': 6487, 'connected': 6488, 'jolly': 6489, 'dismay': 6490, 'emerging': 6491, 'fiend': 6492, 'impede': 6493, 'hesitant': 6494, 'celebrations': 6495, 'acknowledgement': 6496, 'astoundingly': 6497, 'tactless': 6498, 'oath': 6499, 'jerry': 6500, 'irritates': 6501, 'fails': 6502, 'intrepid': 6503, 'duo': 6504, 'alertfrom': 6505, 'jeri': 6506, 'stewartsize': 6507, '2kbsubject': 6508, 'prescripiton': 6509, 'drvgsto': 6510, 'hugging': 6511, 'upping': 6512, 'grams': 6513, 'robs': 6514, 'avenge': 6515, 'annoying': 6516, \"'its\": 6517, '10th': 6518, '09050000555': 6519, 'ba128nnfwfly150ppm': 6520, 'swan': 6521, 'hire': 6522, 'hitman': 6523, 'mathews': 6524, 'tait': 6525, 'edwards': 6526, 'anderson': 6527, 'urination': 6528, 'chiong': 6529, 'blanket': 6530, 'unconscious': 6531, 'adults': 6532, 'behave': 6533, 'abnormally': 6534, 'strict': 6535, '67441233': 6536, 'irene': 6537, 'ere': 6538, 'bus8': 6539, '22': 6540, '65': 6541, '61': 6542, '66': 6543, '382': 6544, 'cres': 6545, '6ph': 6546, '5wkg': 6547, 'ì¬n': 6548, 'lap': 6549, 'shut': 6550, 'playin': 6551, 'grandmas': 6552, 'hungover': 6553, 'ou': 6554, '09050003091': 6555, 'c52': 6556, 'bangbabes': 6557, 'bangb': 6558, 'punish': 6559, 'drama': 6560, 'struggling': 6561, 'ego': 6562, \"'if\": 6563, \"invited'\": 6564, 'necessity': 6565, 'reppurcussions': 6566, 'purchases': 6567, 'randy': 6568, 'breather': 6569, 'granted': 6570, 'fulfil': 6571, 'å£s': 6572, 'orno': 6573, 'careful': 6574, 'command': 6575, 'tallent': 6576, 'wasting': 6577, 'calm': 6578, 'downon': 6579, 'theacusations': 6580, 'itxt': 6581, 'iwana': 6582, 'wotu': 6583, 'thew': 6584, 'haventcn': 6585, 'nething': 6586, 'honesty': 6587, 'lotr': 6588, 'bffs': 6589, 'carly': 6590, 'checkin': 6591, 'grinder': 6592, 'brisk': 6593, 'walks': 6594, 'aluable': 6595, 'ffectionate': 6596, 'oveable': 6597, 'ternal': 6598, 'oble': 6599, 'ruthful': 6600, 'ntimate': 6601, 'atural': 6602, 'namous': 6603, 'obey': 6604, 'symptoms': 6605, 'beloved': 6606, 'singapore': 6607, \"x'mas\": 6608, 'elama': 6609, 'mudyadhu': 6610, 'guai': 6611, 'horniest': 6612, 'nowhere': 6613, 'ikno': 6614, 'doesdiscount': 6615, 'shitinnit': 6616, \"anything's\": 6617, 'computerless': 6618, 'oreo': 6619, 'truffles': 6620, '0871277810810': 6621, 'b4u': 6622, '27': 6623, 'marsms': 6624, 'b4utele': 6625, '08717168528': 6626, 'someday': 6627, 'ignoring': 6628, 'scratches': 6629, 'portal': 6630, 'xafter': 6631, 'cst': 6632, 'chg': 6633, 'settle': 6634, '7cfca1a': 6635, 'amused': 6636, 'misscall': 6637, 'frndz': 6638, '6missed': 6639, 'hill': 6640, 'attraction': 6641, 'thoughts': 6642, 'sorrows': 6643, 'craziest': 6644, 'proove': 6645, 'singing': 6646, 'praises': 6647, 'curry': 6648, 'makiing': 6649, 'sambar': 6650, 'fighting': 6651, 'fightng': 6652, 'dificult': 6653, 'fake': 6654, 'reffering': 6655, 'getiing': 6656, 'brdget': 6657, 'jones': 6658, 'åè10': 6659, 'evey': 6660, 'mnth': 6661, 'asjesus': 6662, 'horse': 6663, 'rice': 6664, 'abj': 6665, 'attached': 6666, 'dictionary': 6667, 'screen': 6668, 'gently': 6669, 'ps': 6670, 'anal': 6671, 'gang': 6672, '09061749602': 6673, '528': 6674, 'hp20': 6675, '1yf': 6676, 'obedient': 6677, 'wisheds': 6678, 'cantdo': 6679, 'anythingtomorrow': 6680, 'myparents': 6681, 'aretaking': 6682, 'outfor': 6683, 'katexxx': 6684, 'ger': 6685, 'toking': 6686, 'syd': 6687, 'gimme': 6688, 'caveboy': 6689, 'disturbance': 6690, 'dlf': 6691, 'premarica': 6692, 'nydc': 6693, 'wheellock': 6694, 'humanities': 6695, 'sem': 6696, 'modules': 6697, 'print': 6698, 'marandratha': 6699, 'brainy': 6700, 'shanil': 6701, 'exchanged': 6702, 'uncut': 6703, 'diamond': 6704, 'dino': 6705, 'prem': 6706, 'mys': 6707, 'morn': 6708, 'reckon': 6709, 'factory': 6710, 'nitros': 6711, 'kanji': 6712, 'gent': 6713, '09064012160': 6714, 'guild': 6715, 'bristol': 6716, 'haiyoh': 6717, 'million': 6718, 'studies': 6719, 'anyones': 6720, 'nose': 6721, 'essay': 6722, '2marrow': 6723, '087018728737': 6724, 'toppoly': 6725, 'tune': 6726, 'subpoly': 6727, '81618': 6728, 'pole': 6729, '08718727870': 6730, 'panasonic': 6731, 'bluetoothhdset': 6732, 'doublemins': 6733, 'doubletxt': 6734, 'bull': 6735, 'floating': 6736, 'ikea': 6737, 'mess': 6738, '09064012103': 6739, \"xin's\": 6740, \"world's\": 6741, 'happiest': 6742, 'characters': 6743, 'differences': 6744, '2channel': 6745, 'leadership': 6746, 'skills': 6747, 'psychic': 6748, 'drinking': 6749, 'detail': 6750, 'motivating': 6751, 'curious': 6752, 'toshiba': 6753, 'portege': 6754, 'm100': 6755, '02072069400': 6756, 'bx': 6757, '526': 6758, 'flood': 6759, 'somewhr': 6760, 'crushes': 6761, 'crucify': 6762, 'zoom': 6763, 'sos': 6764, 'mittelschmertz': 6765, 'paracetamol': 6766, 'pee': 6767, 'secretly': 6768, 'fancies': 6769, '09065394973': 6770, 'datebox1282essexcm61xn': 6771, 'mentionned': 6772, '50s': 6773, 'alot': 6774, 'saved': 6775, 'november': 6776, '09061104276': 6777, 'costå£3': 6778, '75max': 6779, 'auntie': 6780, 'huai': 6781, 'juan': 6782, '087104711148': 6783, 'chic': 6784, 'declare': 6785, 'disappeared': 6786, 'correctly': 6787, '7250': 6788, '08714712388': 6789, 'sonetimes': 6790, 'rough': 6791, 'spreadsheet': 6792, 'determine': 6793, 'entire': 6794, '08715203685': 6795, '4xx26': 6796, 'ure': 6797, 'tnc': 6798, 'com1win150ppmx3age16subscription': 6799, 'loosu': 6800, 'careless': 6801, 'wtc': 6802, 'weiyi': 6803, 'smoking': 6804, 'justify': 6805, 'woah': 6806, 'realising': 6807, 'reasonable': 6808, 'gandhipuram': 6809, 'heåõs': 6810, '2getha': 6811, 'authorise': 6812, 'lower': 6813, 'hype': 6814, 'plaza': 6815, 'studio': 6816, 'detroit': 6817, 'cashto': 6818, '08000407165': 6819, 'getstop': 6820, '88222': 6821, 'php': 6822, 'okday': 6823, 'grumpy': 6824, 'lying': 6825, 'salmon': 6826, 'weåõve': 6827, '2geva': 6828, 'mint': 6829, 'inever': 6830, 'hon': 6831, 'oga': 6832, 'zogtorius': 6833, 'iåõve': 6834, 'passion': 6835, '09099726481': 6836, 'dena': 6837, 'reunion': 6838, 'rdy': 6839, 'barbie': 6840, \"ken's\": 6841, 'fan': 6842, 'performance': 6843, 'calculated': 6844, 'jelly': 6845, '09050000332': 6846, 'rstm': 6847, 'sw7': 6848, '3ss': 6849, 'internal': 6850, 'extract': 6851, 'impressed': 6852, 'funs': 6853, 'hubby': 6854, 'fiting': 6855, 'load': 6856, 'mj': 6857, 'decorating': 6858, 'shell': 6859, 'unconsciously': 6860, 'unhappy': 6861, 'associate': 6862, 'justbeen': 6863, 'overa': 6864, 'brains': 6865, 'mush': 6866, 'hui': 6867, 'xin': 6868, 'oi': 6869, 'versus': 6870, 'sundayish': 6871, 'rearrange': 6872, 'dormitory': 6873, 'astronomer': 6874, 'starer': 6875, 'election': 6876, 'lies': 6877, 'recount': 6878, 'hitler': 6879, 'eleven': 6880, 'thinkthis': 6881, 'dangerous': 6882, 'scrumptious': 6883, 'fucks': 6884, '4719': 6885, '523': 6886, 'grave': 6887, 'tooo': 6888, \"'simple'\": 6889, 'nte': 6890, 'punto': 6891, '078498': 6892, '08719180219': 6893, '08715205273': 6894, 'aptitude': 6895, 'grateful': 6896, 'happier': 6897, '1stchoice': 6898, '08707808226': 6899, 'payed': 6900, 'suganya': 6901, 'nor': 6902, 'warning': 6903, 'samantha': 6904, 'guitar': 6905, 'impress': 6906, 'doug': 6907, 'realizes': 6908, 'waliking': 6909, 'dizzamn': 6910, 'suitemates': 6911, 'resume': 6912, 'srs': 6913, 'snowboarding': 6914, 'juliana': 6915, 'dorothy': 6916, 'kiefer': 6917, 'granite': 6918, 'explosive': 6919, 'nasdaq': 6920, 'cdgt': 6921, 'dabooks': 6922, 'naal': 6923, 'eruku': 6924, 'somewhat': 6925, 'event': 6926, 'laden': 6927, 'wrecked': 6928, 'coimbatore': 6929, 'fried': 6930, 'spares': 6931, 'looovvve': 6932, 'thkin': 6933, 'nd': 6934, 'arnt': 6935, 'xxxxxxxxxxxxxx': 6936, '4w': 6937, 'technologies': 6938, 'such': 6939, 'dressed': 6940, 'oooooh': 6941, 'risks': 6942, 'dice': 6943, 'lingo': 6944, 'flirting': 6945, 'zoe': 6946, 'perpetual': 6947, 'dd': 6948, 'cuddling': 6949, 'sleeps': 6950, 'lavender': 6951, 'footie': 6952, 'phil': 6953, 'neville': 6954, 'nick': 6955, 'types': 6956, 'wamma': 6957, 'doggin': 6958, 'dogs': 6959, 'sth': 6960, 'specs': 6961, 'px3748': 6962, 'popping': 6963, 'ibuprofens': 6964, 'convenience': 6965, 'spacebucks': 6966, 'draws': 6967, 'plural': 6968, 'noun': 6969, 'panther': 6970, 'sugababes': 6971, 'zebra': 6972, 'animation': 6973, 'badass': 6974, 'hoody': 6975, 'farting': 6976, 'control': 6977, 'massive': 6978, 'gut': 6979, 'wrenching': 6980, 'blastin': 6981, 'occur': 6982, 'rajnikant': 6983, 'ocean': 6984, 'lakhs': 6985, 'hen': 6986, 'amk': 6987, 'lil': 6988, 'guessin': 6989, \"ain't\": 6990, 'gopalettan': 6991, 'participate': 6992, 'admin': 6993, \"weather's\": 6994, '85233': 6995, 'crickiting': 6996, 'univ': 6997, 'sts': 6998, 'ktv': 6999, 'parties': 7000, 'pre': 7001, 'sacked': 7002, 'spoons': 7003, 'spoil': 7004, 'gate': 7005, 'collected': 7006, '85069': 7007, 'usher': 7008, 'britney': 7009, 'detailed': 7010, 'nearby': 7011, 'cliffs': 7012, \"tyler's\": 7013, 'tunji': 7014, 'mw': 7015, 'filled': 7016, 'tuth': 7017, 'moves': 7018, 'andre': 7019, \"virgil's\": 7020, 'tmorrow': 7021, 'accomodate': 7022, 'cloud': 7023, 'lov': 7024, 'nevr': 7025, 'unrecognized': 7026, 'somone': 7027, 'valuing': 7028, 'definitly': 7029, 'undrstnd': 7030, 'wknd': 7031, '2stoptx': 7032, 'gorgeous': 7033, 'brighten': 7034, 'salesman': 7035, 'students': 7036, \"'xam\": 7037, '1thing': 7038, 'answr': 7039, 'hourish': 7040, '09061790126': 7041, 'explicitly': 7042, 'nora': 7043, '09061104283': 7044, '50pm': 7045, 'approx': 7046, '3mins': 7047, 'srsly': 7048, 'yi': 7049, 'dollar': 7050, 'japanese': 7051, 'proverb': 7052, 'directors': 7053, 'lac': 7054, 'deposited': 7055, \"'taxless'\": 7056, 'suply': 7057, 'projects': 7058, 'imf': 7059, 'blocked': 7060, 'corrupt': 7061, 'itna': 7062, 'karo': 7063, 'ki': 7064, 'pura': 7065, 'padhe': 7066, 'puttin': 7067, 'puts': 7068, 'perspective': 7069, 'mirror': 7070, 'youre': 7071, 'freak': 7072, 'taj': 7073, 'mahal': 7074, 'lesser': 7075, 'known': 7076, 'facts': 7077, \"shahjahan's\": 7078, 'wifes': 7079, 'shahjahan': 7080, 'killed': 7081, 'arises': 7082, 'hari': 7083, 'thinl': 7084, 'flyng': 7085, 'followed': 7086, 'star': 7087, 'aries': 7088, 'timi': 7089, 'officially': 7090, 'market': 7091, 'chastity': 7092, 'device': 7093, 'beatings': 7094, 'lounge': 7095, 'tonexs': 7096, 'renewed': 7097, 'clubzed': 7098, 'billing': 7099, 'presnts': 7100, 'bcz': 7101, 'jeevithathile': 7102, 'irulinae': 7103, 'neekunna': 7104, 'prakasamanu': 7105, 'sneham': 7106, 'prakasam': 7107, 'ennal': 7108, \"'that\": 7109, 'mns': 7110, \"is'love'\": 7111, 'vill': 7112, 'orc': 7113, 'olowoyey': 7114, 'argentina': 7115, 'spirit': 7116, 'ashwini': 7117, \"prashanthettan's\": 7118, 'gained': 7119, 'pressure': 7120, 'limits': 7121, 'plumbers': 7122, 'wrench': 7123, 'stressed': 7124, 'depressed': 7125, 'hassling': 7126, 'andres': 7127, 'haughaighgtujhyguj': 7128, 'lanre': 7129, \"fakeye's\": 7130, 'eckankar': 7131, 'entertaining': 7132, 'hugh': 7133, 'laurie': 7134, 'honeymoon': 7135, 'outfit': 7136, '1b6a5ecef91ff9': 7137, '37819': 7138, 'true18': 7139, '0430': 7140, 'jul': 7141, 'macs': 7142, 'pleasant': 7143, 'statements': 7144, 'stairs': 7145, 'phews': 7146, '80160': 7147, 'txt43': 7148, '09050000460': 7149, 'j89': 7150, 'box245c2150pm': 7151, 'agree': 7152, 'everyboy': 7153, 'xxxxxxxx': 7154, 'deliveredtomorrow': 7155, 'webpage': 7156, 'hero': 7157, 'apt': 7158, 'response': 7159, 'powerful': 7160, 'weapon': 7161, 'occupy': 7162, \"'heart'\": 7163, 'mobs': 7164, 'breathe1': 7165, 'crazyin': 7166, 'sleepingwith': 7167, 'finest': 7168, 'ymca': 7169, 'pobox365o4w45wq': 7170, 'safely': 7171, '09064017295': 7172, 'wlcome': 7173, 'fifth': 7174, 'woozles': 7175, 'weasels': 7176, 'aldrine': 7177, 'rtm': 7178, 'tbs': 7179, 'persolvo': 7180, 'forå£38': 7181, 'kath': 7182, 'manchester': 7183, 'dreading': 7184, 'thou': 7185, 'unsubscribed': 7186, 'hunks': 7187, 'gotbabes': 7188, 'subscriptions': 7189, '08714712379': 7190, 'whatsup': 7191, 'beth': 7192, 'charlie': 7193, 'vid': 7194, 'keyword': 7195, 'props': 7196, 'station': 7197, \"there're\": 7198, 'lambda': 7199, 'firmware': 7200, 'lobby': 7201, 'fox': 7202, 'frndsship': 7203, 'dwn': 7204, 'burgundy': 7205, 'captaining': 7206, 'hundreds': 7207, 'handsomes': 7208, 'beauties': 7209, 'aunties': 7210, '600': 7211, '400': 7212, 'deltomorrow': 7213, 'tescos': 7214, 'fans': 7215, '0870141701216': 7216, '120p': 7217, '09053750005': 7218, '310303': 7219, '08718725756': 7220, '140ppm': 7221, 'related': 7222, 'arul': 7223, 'nri': 7224, '30pm': 7225, 'irritating': 7226, 'cthen': 7227, 'conclusion': 7228, 'references': 7229, \"that'd\": 7230, 'scenario': 7231, 'reminded': 7232, 'wined': 7233, 'dined': 7234, 'foley': 7235, 'prizes': 7236, 'eye': 7237, '82050': 7238, 'nelson': 7239, \"bb's\": 7240, 'initiate': 7241, \"hi'\": 7242, 'rd': 7243, 'block': 7244, 'breaker': 7245, 'deluxe': 7246, 'format': 7247, 'features': 7248, 'graphics': 7249, 'bbdeluxe': 7250, 'jade': 7251, 'paul': 7252, 'didnåõt': 7253, 'barmed': 7254, 'audrie': 7255, 'autocorrect': 7256, 'thousands': 7257, 'tattoos': 7258}\n"
          ]
        }
      ]
    },
    {
      "cell_type": "markdown",
      "source": [
        "7) Jaká je nejdelší věta"
      ],
      "metadata": {
        "id": "_8x626uF-eMU"
      }
    },
    {
      "cell_type": "code",
      "source": [
        "data_train = pad_sequences(sequences_train)\n",
        "T = data_train.shape[1]\n",
        "print(T)"
      ],
      "metadata": {
        "colab": {
          "base_uri": "https://localhost:8080/"
        },
        "id": "6mP8ZBin-hA-",
        "outputId": "78a3ab6c-d195-4404-df3e-bb3690ab267c"
      },
      "execution_count": null,
      "outputs": [
        {
          "output_type": "stream",
          "name": "stdout",
          "text": [
            "189\n"
          ]
        }
      ]
    },
    {
      "cell_type": "markdown",
      "source": [
        "8) Stejným způsobem musíme useknout i testovací data"
      ],
      "metadata": {
        "id": "8X0CovAb-kbQ"
      }
    },
    {
      "cell_type": "code",
      "source": [
        "data_test = pad_sequences(sequences_test, maxlen=T)\n",
        "G = data_test.shape[1]\n",
        "print(G)"
      ],
      "metadata": {
        "colab": {
          "base_uri": "https://localhost:8080/"
        },
        "id": "Ec-3Zilz-vqK",
        "outputId": "31ec9436-e2ab-4151-993f-13e0968b9255"
      },
      "execution_count": null,
      "outputs": [
        {
          "output_type": "stream",
          "name": "stdout",
          "text": [
            "189\n"
          ]
        }
      ]
    },
    {
      "cell_type": "markdown",
      "source": [
        "9) Vytvoření modelu neuronové sítě"
      ],
      "metadata": {
        "id": "Pu16tRph-0Va"
      }
    },
    {
      "cell_type": "code",
      "source": [
        "D = 20 #nema vyznam - hyperparametr\n",
        "M = 15 #pocet skrytych stavu - hyperparametr LSTM site\n",
        "\n",
        "i = Input(shape=(T,))\n",
        "x = Embedding(V + 1, D)(i) #klidne zamenit za data_test[1] / T\n",
        "x = LSTM(M, return_sequences=True)(x) #pametova vrstva\n",
        "x = GlobalMaxPooling1D()(x) #matematicka statistika (feel free to zamenit za avg)\n",
        "x = Dense(1, activation=\"sigmoid\")(x)\n",
        "\n",
        "model = Model(i, x)"
      ],
      "metadata": {
        "id": "lWNIslcV-4Hn"
      },
      "execution_count": null,
      "outputs": []
    },
    {
      "cell_type": "markdown",
      "source": [
        "10) Kompilace modelu"
      ],
      "metadata": {
        "id": "mB9yvCno-8jY"
      }
    },
    {
      "cell_type": "code",
      "source": [
        "model.compile(loss=\"binary_crossentropy\",optimizer=\"adam\",metrics=[\"accuracy\"])"
      ],
      "metadata": {
        "id": "BgTxk1_Q--cT"
      },
      "execution_count": null,
      "outputs": []
    },
    {
      "cell_type": "markdown",
      "source": [
        "11) Učení modelu"
      ],
      "metadata": {
        "id": "Jht888y2_Bns"
      }
    },
    {
      "cell_type": "code",
      "source": [
        "r = model.fit(data_train, Ytrain, epochs=10, validation_data = (data_test, Ytest))"
      ],
      "metadata": {
        "colab": {
          "base_uri": "https://localhost:8080/"
        },
        "id": "LaEXrNpi_DQM",
        "outputId": "47e5a91d-f902-47dd-b624-85f8b69cadd4"
      },
      "execution_count": null,
      "outputs": [
        {
          "output_type": "stream",
          "name": "stdout",
          "text": [
            "Epoch 1/10\n",
            "117/117 [==============================] - 14s 88ms/step - loss: 0.4581 - accuracy: 0.8642 - val_loss: 0.3815 - val_accuracy: 0.8695\n",
            "Epoch 2/10\n",
            "117/117 [==============================] - 11s 92ms/step - loss: 0.3606 - accuracy: 0.8642 - val_loss: 0.3199 - val_accuracy: 0.8695\n",
            "Epoch 3/10\n",
            "117/117 [==============================] - 11s 95ms/step - loss: 0.2919 - accuracy: 0.8642 - val_loss: 0.2568 - val_accuracy: 0.8695\n",
            "Epoch 4/10\n",
            "117/117 [==============================] - 22s 191ms/step - loss: 0.2106 - accuracy: 0.8658 - val_loss: 0.1836 - val_accuracy: 0.9451\n",
            "Epoch 5/10\n",
            "117/117 [==============================] - 12s 106ms/step - loss: 0.1291 - accuracy: 0.9831 - val_loss: 0.1226 - val_accuracy: 0.9782\n",
            "Epoch 6/10\n",
            "117/117 [==============================] - 11s 91ms/step - loss: 0.0730 - accuracy: 0.9912 - val_loss: 0.0940 - val_accuracy: 0.9826\n",
            "Epoch 7/10\n",
            "117/117 [==============================] - 10s 87ms/step - loss: 0.0474 - accuracy: 0.9941 - val_loss: 0.0804 - val_accuracy: 0.9831\n",
            "Epoch 8/10\n",
            "117/117 [==============================] - 10s 86ms/step - loss: 0.0340 - accuracy: 0.9952 - val_loss: 0.0710 - val_accuracy: 0.9826\n",
            "Epoch 9/10\n",
            "117/117 [==============================] - 9s 79ms/step - loss: 0.0242 - accuracy: 0.9968 - val_loss: 0.0721 - val_accuracy: 0.9804\n",
            "Epoch 10/10\n",
            "117/117 [==============================] - 9s 79ms/step - loss: 0.0184 - accuracy: 0.9976 - val_loss: 0.0652 - val_accuracy: 0.9815\n"
          ]
        }
      ]
    },
    {
      "cell_type": "markdown",
      "source": [
        "12) Vykreslení ztrátové funkce a přesnosti"
      ],
      "metadata": {
        "id": "m5kCBK0n_Ip2"
      }
    },
    {
      "cell_type": "code",
      "source": [
        "plt.plot(r.history[\"loss\"], label=\"ztratova funkce\")\n",
        "plt.plot(r.history[\"val_loss\"], label=\"test data ztratova funkce\")\n",
        "plt.legend()"
      ],
      "metadata": {
        "colab": {
          "base_uri": "https://localhost:8080/",
          "height": 283
        },
        "id": "MbrCknFX_MJ0",
        "outputId": "264ed321-6593-4c8b-e0b4-f2d4083e72a3"
      },
      "execution_count": null,
      "outputs": [
        {
          "output_type": "execute_result",
          "data": {
            "text/plain": [
              "<matplotlib.legend.Legend at 0x7f95a465d450>"
            ]
          },
          "metadata": {},
          "execution_count": 21
        },
        {
          "output_type": "display_data",
          "data": {
            "text/plain": [
              "<Figure size 432x288 with 1 Axes>"
            ],
            "image/png": "[encoded data removed]"
          },
          "metadata": {
            "needs_background": "light"
          }
        }
      ]
    },
    {
      "cell_type": "code",
      "source": [
        "plt.plot(r.history[\"accuracy\"], label=\"presnost\")\n",
        "plt.plot(r.history[\"val_accuracy\"], label=\"test_presnost\")\n",
        "plt.legend()"
      ],
      "metadata": {
        "colab": {
          "base_uri": "https://localhost:8080/",
          "height": 283
        },
        "id": "1soPNZvT_PPS",
        "outputId": "6994f3f3-ffd2-4e9c-a7b4-29a873b4ff71"
      },
      "execution_count": null,
      "outputs": [
        {
          "output_type": "execute_result",
          "data": {
            "text/plain": [
              "<matplotlib.legend.Legend at 0x7f95a45b9350>"
            ]
          },
          "metadata": {},
          "execution_count": 22
        },
        {
          "output_type": "display_data",
          "data": {
            "text/plain": [
              "<Figure size 432x288 with 1 Axes>"
            ],
            "image/png": "[encoded data removed]"
          },
          "metadata": {
            "needs_background": "light"
          }
        }
      ]
    },
    {
      "cell_type": "markdown",
      "source": [
        "13) Vložení vlastní věty pro detekci spamu"
      ],
      "metadata": {
        "id": "RfcG4l4g_TMj"
      }
    },
    {
      "cell_type": "code",
      "source": [
        "veta = \"Free entry in 2 a wkly comp to win FA Cup final to receive entry question\"\n",
        "veta = [veta]\n",
        "veta = tokenizer.texts_to_sequences(veta)\n",
        "veta = pad_sequences(veta, maxlen=T)\n",
        "sance_spam = model(veta).numpy()[0][0]\n",
        "print(f\"sance, ze veta je spam je: {sance_spam*100}%\")"
      ],
      "metadata": {
        "colab": {
          "base_uri": "https://localhost:8080/"
        },
        "id": "29VDoBnb_WNq",
        "outputId": "68b3b63f-4c32-4175-ba55-c9eda0837ffb"
      },
      "execution_count": null,
      "outputs": [
        {
          "output_type": "stream",
          "name": "stdout",
          "text": [
            "sance, ze veta je spam je: 97.27359414100647%\n"
          ]
        }
      ]
    }
  ]
}